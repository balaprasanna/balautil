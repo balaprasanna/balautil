{
 "cells": [
  {
   "cell_type": "markdown",
   "metadata": {
    "colab_type": "text",
    "id": "KETH7SRfUpm2"
   },
   "source": [
    "---\n",
    "- DataBunch \n",
    "- Learner\n",
    "- fit\n",
    "- Callbacks\n",
    "---"
   ]
  },
  {
   "cell_type": "code",
   "execution_count": 0,
   "metadata": {
    "colab": {},
    "colab_type": "code",
    "id": "HnH61-Wlm_xx"
   },
   "outputs": [],
   "source": [
    "# Download datasets\n",
    "\n",
    "# !wget http://deeplearning.net/data/mnist/mnist.pkl.gz\n",
    "# !mkdir mnist\n",
    "# !mv mnist.pkl.gz ./mnist"
   ]
  },
  {
   "cell_type": "code",
   "execution_count": 0,
   "metadata": {
    "colab": {},
    "colab_type": "code",
    "id": "ysXkR73fm_2D"
   },
   "outputs": [],
   "source": [
    "# Imports\n",
    "%matplotlib inline\n",
    "from fastai.basics import *"
   ]
  },
  {
   "cell_type": "markdown",
   "metadata": {
    "colab_type": "text",
    "id": "pS0QxHxWfrea"
   },
   "source": [
    "## Bala Utils"
   ]
  },
  {
   "cell_type": "code",
   "execution_count": 1,
   "metadata": {
    "colab": {},
    "colab_type": "code",
    "id": "zfWmSvEPnzTi"
   },
   "outputs": [],
   "source": [
    "def bala_show1img(x, shape, cmap=\"gray\", ax=None):\n",
    "    tmp = x.reshape(shape)\n",
    "    if ax:\n",
    "        ax.imshow(tmp, cmap=cmap)\n",
    "        ax.axis('off')\n",
    "    else:\n",
    "        plt.imshow(tmp, cmap=cmap)\n",
    "        plt.axis('off')\n",
    "\n",
    "def bala_show1img_ds(x, shape=(28,28), cmap=\"gray\", ax=None):\n",
    "    inp, tar = x #to unwrap the tuple..\n",
    "    tmp = inp.reshape(shape)\n",
    "    if ax:\n",
    "        ax.imshow(tmp, cmap=cmap)\n",
    "        ax.axis('off')\n",
    "    else:\n",
    "        plt.imshow(tmp, cmap=cmap)\n",
    "        plt.axis('off')\n",
    "\n",
    "def bala_show_random(x, n=5, figsize=(10,10), cmap=\"gray\"):\n",
    "    len_x = len(x)\n",
    "    fig, ax = plt.subplots(nrows=1, ncols=n, figsize=figsize)\n",
    "    for i in range(n):\n",
    "        rand_idx = random.randint(0, len_x)\n",
    "        bala_show1img(x[rand_idx], shape=(28,28), ax=ax[i], cmap=cmap)"
   ]
  },
  {
   "cell_type": "code",
   "execution_count": 0,
   "metadata": {
    "colab": {},
    "colab_type": "code",
    "id": "KQo4fHNmgJkA"
   },
   "outputs": [],
   "source": []
  },
  {
   "cell_type": "markdown",
   "metadata": {
    "colab_type": "text",
    "id": "EIVGSlnwf2p4"
   },
   "source": [
    "## Load Datasets"
   ]
  },
  {
   "cell_type": "markdown",
   "metadata": {
    "colab_type": "text",
    "id": "eIdYyaiTEjyH"
   },
   "source": [
    "## Params & Hyper params"
   ]
  },
  {
   "cell_type": "code",
   "execution_count": 0,
   "metadata": {
    "colab": {},
    "colab_type": "code",
    "id": "IlJapxGkR1Fp"
   },
   "outputs": [],
   "source": [
    "# DataBunch??"
   ]
  },
  {
   "cell_type": "code",
   "execution_count": 0,
   "metadata": {
    "colab": {},
    "colab_type": "code",
    "id": "IYhP9sSQrNvo"
   },
   "outputs": [],
   "source": [
    "## Starting Point\n",
    "\n",
    "\n",
    "import operator\n",
    "\n",
    "def test(a,b,cmp,cname=None):\n",
    "    if cname is None: cname=cmp.__name__\n",
    "    assert cmp(a,b),f\"{cname}:\\n{a}\\n{b}\"\n",
    "\n",
    "def test_eq(a,b): test(a,b,operator.eq,'==')\n",
    "\n",
    "from pathlib import Path\n",
    "from IPython.core.debugger import set_trace\n",
    "from fastai import datasets\n",
    "import pickle, gzip, math, torch, matplotlib as mpl\n",
    "import matplotlib.pyplot as plt\n",
    "from torch import tensor\n",
    "\n",
    "MNIST_URL='http://deeplearning.net/data/mnist/mnist.pkl'\n",
    "\n",
    "def near(a,b): return torch.allclose(a, b, rtol=1e-3, atol=1e-5)\n",
    "def test_near(a,b): test(a,b,near)\n",
    "  \n",
    "\n",
    "def get_data():\n",
    "    path = datasets.download_data(MNIST_URL, ext='.gz')\n",
    "    with gzip.open(path, 'rb') as f:\n",
    "        ((x_train, y_train), (x_valid, y_valid), _) = pickle.load(f, encoding='latin-1')\n",
    "    return map(tensor, (x_train,y_train,x_valid,y_valid))\n",
    "\n",
    "def normalize(x, m, s): return (x-m)/s\n",
    "\n",
    "def test_near_zero(a,tol=1e-3): assert a.abs()<tol, f\"Near zero: {a}\"\n",
    "\n",
    "from torch.nn import init\n",
    "\n",
    "def mse(output, targ): return (output.squeeze(-1) - targ).pow(2).mean()\n",
    "\n",
    "from torch import nn\n"
   ]
  },
  {
   "cell_type": "code",
   "execution_count": 0,
   "metadata": {
    "colab": {},
    "colab_type": "code",
    "id": "ZQGJrh30rpHI"
   },
   "outputs": [],
   "source": [
    "x_train,y_train,x_valid,y_valid = get_data()"
   ]
  },
  {
   "cell_type": "code",
   "execution_count": 0,
   "metadata": {
    "colab": {
     "base_uri": "https://localhost:8080/",
     "height": 34
    },
    "colab_type": "code",
    "id": "Chf9EDnmrweP",
    "outputId": "f170f931-8a2a-4554-ebcb-fb48a258eb30"
   },
   "outputs": [
    {
     "name": "stdout",
     "output_type": "stream",
     "text": [
      "50000 784 tensor(10) 50\n"
     ]
    }
   ],
   "source": [
    "n,m = x_train.shape\n",
    "c = y_train.max()+1\n",
    "nh = 50\n",
    "\n",
    "print(n,m,c,nh)"
   ]
  },
  {
   "cell_type": "code",
   "execution_count": 0,
   "metadata": {
    "colab": {},
    "colab_type": "code",
    "id": "GGc4A5uMSxYV"
   },
   "outputs": [],
   "source": [
    "class Model(nn.Module):\n",
    "    def __init__(self, n_in, nh, n_out):\n",
    "        super().__init__()\n",
    "        self.layers = [nn.Linear(n_in,nh), nn.ReLU(), nn.Linear(nh,n_out)]\n",
    "        \n",
    "    def __call__(self, x):\n",
    "        for l in self.layers: x = l(x)\n",
    "        return x"
   ]
  },
  {
   "cell_type": "code",
   "execution_count": 0,
   "metadata": {
    "colab": {},
    "colab_type": "code",
    "id": "MdrfTKfksASm"
   },
   "outputs": [],
   "source": [
    "n_out = int(c)\n",
    "model = Model(m, nh, n_out)\n",
    "pred = model(x_train)"
   ]
  },
  {
   "cell_type": "code",
   "execution_count": 0,
   "metadata": {
    "colab": {
     "base_uri": "https://localhost:8080/",
     "height": 34
    },
    "colab_type": "code",
    "id": "Z4LWEQo4pEeE",
    "outputId": "152de305-70da-45f2-893b-a4fcfc835843"
   },
   "outputs": [
    {
     "data": {
      "text/plain": [
       "tensor(2.3075, grad_fn=<NegBackward>)"
      ]
     },
     "execution_count": 16,
     "metadata": {
      "tags": []
     },
     "output_type": "execute_result"
    }
   ],
   "source": [
    "def log_softmax(x):\n",
    "  return (x.exp()/  (x.exp().sum(-1, keepdim=True))).log()\n",
    "\n",
    "sm_pred = log_softmax(pred)\n",
    "\n",
    "def nll(input, target): \n",
    "  return -input[range(target.shape[0]), target].mean()\n",
    "\n",
    "loss = nll(sm_pred, y_train)\n",
    "loss"
   ]
  },
  {
   "cell_type": "code",
   "execution_count": 0,
   "metadata": {
    "colab": {},
    "colab_type": "code",
    "id": "ynnx86DytO0e"
   },
   "outputs": [],
   "source": [
    "def log_softmax(x): \n",
    "  return x - x.exp().sum(-1,keepdim=True).log()\n",
    "\n",
    "test_near(nll(log_softmax(pred), y_train), loss)"
   ]
  },
  {
   "cell_type": "code",
   "execution_count": 0,
   "metadata": {
    "colab": {},
    "colab_type": "code",
    "id": "PqPY1793tc1P"
   },
   "outputs": [],
   "source": [
    "test_near(F.cross_entropy(pred, y_train), loss)"
   ]
  },
  {
   "cell_type": "markdown",
   "metadata": {
    "colab_type": "text",
    "id": "2lNJqFUzth_R"
   },
   "source": [
    "## Basic Training Loop"
   ]
  },
  {
   "cell_type": "code",
   "execution_count": 0,
   "metadata": {
    "colab": {},
    "colab_type": "code",
    "id": "JEuBBbnhtjFB"
   },
   "outputs": [],
   "source": [
    "## Basic Training Loop"
   ]
  },
  {
   "cell_type": "code",
   "execution_count": 0,
   "metadata": {
    "colab": {},
    "colab_type": "code",
    "id": "7IIyNgF1uWsn"
   },
   "outputs": [],
   "source": [
    "loss_func = F.cross_entropy\n"
   ]
  },
  {
   "cell_type": "code",
   "execution_count": 0,
   "metadata": {
    "colab": {},
    "colab_type": "code",
    "id": "CH_0tqYiuaYy"
   },
   "outputs": [],
   "source": [
    "def accuracy(pred, targ):\n",
    "  return (torch.argmax(pred, dim=1) == targ).float().mean()"
   ]
  },
  {
   "cell_type": "code",
   "execution_count": 0,
   "metadata": {
    "colab": {
     "base_uri": "https://localhost:8080/",
     "height": 50
    },
    "colab_type": "code",
    "id": "aj3o-Mp2uoVL",
    "outputId": "326e3447-1cea-4f4c-c0c7-76515f459b06"
   },
   "outputs": [
    {
     "data": {
      "text/plain": [
       "(tensor([-0.0531,  0.0773,  0.0470, -0.0604, -0.2098, -0.1652,  0.0045,  0.0460,\n",
       "          0.0985, -0.1903], grad_fn=<SelectBackward>), torch.Size([64, 10]))"
      ]
     },
     "execution_count": 22,
     "metadata": {
      "tags": []
     },
     "output_type": "execute_result"
    }
   ],
   "source": [
    "bs = 64\n",
    "\n",
    "xb = x_train[0: bs]\n",
    "preds = model(xb)\n",
    "preds[0], preds.shape"
   ]
  },
  {
   "cell_type": "code",
   "execution_count": 0,
   "metadata": {
    "colab": {},
    "colab_type": "code",
    "id": "yrxyCcR9urOQ"
   },
   "outputs": [],
   "source": [
    "yb = y_train[0:bs]"
   ]
  },
  {
   "cell_type": "code",
   "execution_count": 0,
   "metadata": {
    "colab": {
     "base_uri": "https://localhost:8080/",
     "height": 34
    },
    "colab_type": "code",
    "id": "ghnnonAIu6G4",
    "outputId": "fc095e15-8f83-49c3-cbbb-ba7683cceee5"
   },
   "outputs": [
    {
     "data": {
      "text/plain": [
       "tensor(2.3178, grad_fn=<NllLossBackward>)"
      ]
     },
     "execution_count": 24,
     "metadata": {
      "tags": []
     },
     "output_type": "execute_result"
    }
   ],
   "source": [
    "loss_func(preds, yb)"
   ]
  },
  {
   "cell_type": "code",
   "execution_count": 0,
   "metadata": {
    "colab": {
     "base_uri": "https://localhost:8080/",
     "height": 34
    },
    "colab_type": "code",
    "id": "WSnzmILOvBYW",
    "outputId": "8a00b2a3-5d0e-46a7-aa34-b2906742742a"
   },
   "outputs": [
    {
     "data": {
      "text/plain": [
       "tensor(0.0312)"
      ]
     },
     "execution_count": 25,
     "metadata": {
      "tags": []
     },
     "output_type": "execute_result"
    }
   ],
   "source": [
    "accuracy(preds, yb)"
   ]
  },
  {
   "cell_type": "code",
   "execution_count": 0,
   "metadata": {
    "colab": {
     "base_uri": "https://localhost:8080/",
     "height": 178
    },
    "colab_type": "code",
    "id": "binhVP_avGBR",
    "outputId": "f6ea7440-b395-4212-fe6f-85a3451dfe81"
   },
   "outputs": [
    {
     "ename": "TypeError",
     "evalue": "ignored",
     "output_type": "error",
     "traceback": [
      "\u001b[0;31m---------------------------------------------------------------------------\u001b[0m",
      "\u001b[0;31mTypeError\u001b[0m                                 Traceback (most recent call last)",
      "\u001b[0;32m<ipython-input-26-a79d392b2312>\u001b[0m in \u001b[0;36m<module>\u001b[0;34m()\u001b[0m\n\u001b[1;32m      1\u001b[0m lr = 0.5(\n\u001b[0;32m----> 2\u001b[0;31m epochs = 1)\n\u001b[0m",
      "\u001b[0;31mTypeError\u001b[0m: 'float' object is not callable"
     ]
    }
   ],
   "source": [
    "lr = 0.5(\n",
    "epochs = 1)"
   ]
  },
  {
   "cell_type": "code",
   "execution_count": 0,
   "metadata": {
    "colab": {},
    "colab_type": "code",
    "id": "m_7TyntdvTbN"
   },
   "outputs": [],
   "source": [
    "n , n//bs\n",
    "epochs= 1"
   ]
  },
  {
   "cell_type": "code",
   "execution_count": 0,
   "metadata": {
    "colab": {},
    "colab_type": "code",
    "id": "2hGeEbxXvJWH"
   },
   "outputs": [],
   "source": [
    "for epoch in range(epochs):\n",
    "  for idx in range(0, n, bs):\n",
    "    \n",
    "    xb = x_train[idx: idx+bs]\n",
    "    yb = y_train[idx: idx+bs]\n",
    "    \n",
    "    loss = loss_func( model(xb), yb)\n",
    "    \n",
    "    loss.backward()\n",
    "    with torch.no_grad():\n",
    "      for l in model.layers:\n",
    "        if hasattr(l, 'weight'):\n",
    "          l.weight -= l.weight.grad * lr\n",
    "          l.bias -= l.bias.grad * lr\n",
    "          l.weight.grad.zero_()\n",
    "          l.bias.grad.zero_()"
   ]
  },
  {
   "cell_type": "code",
   "execution_count": 0,
   "metadata": {
    "colab": {
     "base_uri": "https://localhost:8080/",
     "height": 34
    },
    "colab_type": "code",
    "id": "9DQ5E0__vjca",
    "outputId": "d15b61f6-0363-4642-990d-daf564399742"
   },
   "outputs": [
    {
     "data": {
      "text/plain": [
       "tensor(0.8750)"
      ]
     },
     "execution_count": 31,
     "metadata": {
      "tags": []
     },
     "output_type": "execute_result"
    }
   ],
   "source": [
    "accuracy(model(xb), yb)"
   ]
  },
  {
   "cell_type": "code",
   "execution_count": 0,
   "metadata": {
    "colab": {},
    "colab_type": "code",
    "id": "l7kRqhY4xXPx"
   },
   "outputs": [],
   "source": [
    "# Using parameters and optim"
   ]
  },
  {
   "cell_type": "code",
   "execution_count": 0,
   "metadata": {
    "colab": {},
    "colab_type": "code",
    "id": "Z73m32orx_Zg"
   },
   "outputs": [],
   "source": [
    "class Model(nn.Module):\n",
    "  def __init__(self, n_in, nh, n_out):\n",
    "    super().__init__()\n",
    "    \n",
    "    self.l1 = nn.Linear(n_in, nh)\n",
    "    self.l2 = nn.Linear(nh, n_out)\n",
    "    \n",
    "  def __call__(self, x): \n",
    "    return self.l2( F.relu( self.l1(x) ))"
   ]
  },
  {
   "cell_type": "code",
   "execution_count": 0,
   "metadata": {
    "colab": {
     "base_uri": "https://localhost:8080/",
     "height": 84
    },
    "colab_type": "code",
    "id": "rDKN42Htya1p",
    "outputId": "846bd954-6f0f-49d9-9e4c-d7f71fcc7c30"
   },
   "outputs": [
    {
     "data": {
      "text/plain": [
       "Model(\n",
       "  (l1): Linear(in_features=784, out_features=50, bias=True)\n",
       "  (l2): Linear(in_features=50, out_features=10, bias=True)\n",
       ")"
      ]
     },
     "execution_count": 34,
     "metadata": {
      "tags": []
     },
     "output_type": "execute_result"
    }
   ],
   "source": [
    "model = Model(m, nh, n_out)\n",
    "model"
   ]
  },
  {
   "cell_type": "code",
   "execution_count": 0,
   "metadata": {
    "colab": {
     "base_uri": "https://localhost:8080/",
     "height": 50
    },
    "colab_type": "code",
    "id": "wkowkM9Byead",
    "outputId": "c13538a5-6cc6-4c13-b79f-61d737694236"
   },
   "outputs": [
    {
     "name": "stdout",
     "output_type": "stream",
     "text": [
      "l1: Linear(in_features=784, out_features=50, bias=True)\n",
      "l2: Linear(in_features=50, out_features=10, bias=True)\n"
     ]
    }
   ],
   "source": [
    "for name,l in model.named_children(): \n",
    "  print(f\"{name}: {l}\")"
   ]
  },
  {
   "cell_type": "code",
   "execution_count": 0,
   "metadata": {
    "colab": {
     "base_uri": "https://localhost:8080/",
     "height": 34
    },
    "colab_type": "code",
    "id": "ftxjV5Y9ymSa",
    "outputId": "6ff905bc-1290-4d82-ddcd-e8d616403353"
   },
   "outputs": [
    {
     "data": {
      "text/plain": [
       "Linear(in_features=784, out_features=50, bias=True)"
      ]
     },
     "execution_count": 36,
     "metadata": {
      "tags": []
     },
     "output_type": "execute_result"
    }
   ],
   "source": [
    "model.l1"
   ]
  },
  {
   "cell_type": "code",
   "execution_count": 0,
   "metadata": {
    "colab": {},
    "colab_type": "code",
    "id": "wfeeLQRnyoZy"
   },
   "outputs": [],
   "source": [
    "def fit():\n",
    "  for epoch in range(epochs):\n",
    "    for idx in range(0, n, bs):\n",
    "      xb = x_train[idx: idx+bs]\n",
    "      yb = y_train[idx: idx+bs]\n",
    "      \n",
    "      loss = loss_func( model(xb), yb)\n",
    "\n",
    "      loss.backward()\n",
    "      with torch.no_grad():\n",
    "        for p in model.parameters(): p -= p.grad * lr\n",
    "        model.zero_grad()"
   ]
  },
  {
   "cell_type": "code",
   "execution_count": 0,
   "metadata": {
    "colab": {},
    "colab_type": "code",
    "id": "Ticj0RDozBKS"
   },
   "outputs": [],
   "source": [
    "fit()"
   ]
  },
  {
   "cell_type": "code",
   "execution_count": 0,
   "metadata": {
    "colab": {
     "base_uri": "https://localhost:8080/",
     "height": 34
    },
    "colab_type": "code",
    "id": "vE9eSm7FzCsF",
    "outputId": "4ae18b8e-7130-4447-e7ff-df89fca9c411"
   },
   "outputs": [
    {
     "data": {
      "text/plain": [
       "(tensor(0.7242, grad_fn=<NllLossBackward>), tensor(0.8750))"
      ]
     },
     "execution_count": 39,
     "metadata": {
      "tags": []
     },
     "output_type": "execute_result"
    }
   ],
   "source": [
    "loss_func(model(xb), yb) , accuracy(model(xb), yb)"
   ]
  },
  {
   "cell_type": "code",
   "execution_count": 0,
   "metadata": {
    "colab": {},
    "colab_type": "code",
    "id": "9cFDS4ctzMCL"
   },
   "outputs": [],
   "source": [
    "layers = [nn.Linear(m,nh), nn.ReLU(), nn.Linear(nh,10)]\n",
    "\n",
    "class Model(nn.Module):\n",
    "  def __init__(self, layers):\n",
    "    super().__init__()\n",
    "    \n",
    "    self.layers = layers\n",
    "    for i,l in enumerate(layers):\n",
    "      self.add_module(f'layer_{i}', l)\n",
    "    \n",
    "  def __call__(self, x): \n",
    "    for l in self.layers: x = l(x)\n",
    "    return x"
   ]
  },
  {
   "cell_type": "code",
   "execution_count": 0,
   "metadata": {
    "colab": {},
    "colab_type": "code",
    "id": "imFofPvHzsTc"
   },
   "outputs": [],
   "source": [
    "model = Model(layers)"
   ]
  },
  {
   "cell_type": "code",
   "execution_count": 0,
   "metadata": {
    "colab": {
     "base_uri": "https://localhost:8080/",
     "height": 101
    },
    "colab_type": "code",
    "id": "9GK3gCjdzuHo",
    "outputId": "920ffa75-1026-4eac-dabc-6cae43735912"
   },
   "outputs": [
    {
     "data": {
      "text/plain": [
       "Model(\n",
       "  (layer_0): Linear(in_features=784, out_features=50, bias=True)\n",
       "  (layer_1): ReLU()\n",
       "  (layer_2): Linear(in_features=50, out_features=10, bias=True)\n",
       ")"
      ]
     },
     "execution_count": 42,
     "metadata": {
      "tags": []
     },
     "output_type": "execute_result"
    }
   ],
   "source": [
    "model"
   ]
  },
  {
   "cell_type": "code",
   "execution_count": 0,
   "metadata": {
    "colab": {},
    "colab_type": "code",
    "id": "mjCPlslIzu8P"
   },
   "outputs": [],
   "source": [
    "layers = [nn.Linear(m,nh), nn.ReLU(), nn.Linear(nh,10)]\n",
    "\n",
    "class Model(nn.Module):\n",
    "  def __init__(self, layers):\n",
    "    super().__init__()\n",
    "    \n",
    "    self.layers = nn.ModuleList(layers)\n",
    "    \n",
    "  def __call__(self, x): \n",
    "    for l in self.layers: x = l(x)\n",
    "    return x"
   ]
  },
  {
   "cell_type": "code",
   "execution_count": 0,
   "metadata": {
    "colab": {
     "base_uri": "https://localhost:8080/",
     "height": 134
    },
    "colab_type": "code",
    "id": "OisYkEsQz6wH",
    "outputId": "5bfd3af4-13c0-4875-b96a-8c1d0aa1d4e2"
   },
   "outputs": [
    {
     "data": {
      "text/plain": [
       "Model(\n",
       "  (layers): ModuleList(\n",
       "    (0): Linear(in_features=784, out_features=50, bias=True)\n",
       "    (1): ReLU()\n",
       "    (2): Linear(in_features=50, out_features=10, bias=True)\n",
       "  )\n",
       ")"
      ]
     },
     "execution_count": 44,
     "metadata": {
      "tags": []
     },
     "output_type": "execute_result"
    }
   ],
   "source": [
    "model = Model(layers)\n",
    "model"
   ]
  },
  {
   "cell_type": "code",
   "execution_count": 0,
   "metadata": {
    "colab": {},
    "colab_type": "code",
    "id": "iqsEF3Jvz8li"
   },
   "outputs": [],
   "source": [
    "# model.layers.named_children"
   ]
  },
  {
   "cell_type": "code",
   "execution_count": 0,
   "metadata": {
    "colab": {
     "base_uri": "https://localhost:8080/",
     "height": 34
    },
    "colab_type": "code",
    "id": "-CXai8R6z_ve",
    "outputId": "c477e06b-abf8-4998-9541-ecf72e73c296"
   },
   "outputs": [
    {
     "data": {
      "text/plain": [
       "(tensor(0.7691, grad_fn=<NllLossBackward>), tensor(0.8750))"
      ]
     },
     "execution_count": 46,
     "metadata": {
      "tags": []
     },
     "output_type": "execute_result"
    }
   ],
   "source": [
    "fit()\n",
    "loss_func(model(xb), yb), accuracy(model(xb), yb)"
   ]
  },
  {
   "cell_type": "code",
   "execution_count": 0,
   "metadata": {
    "colab": {},
    "colab_type": "code",
    "id": "5tSUqL4V0QGk"
   },
   "outputs": [],
   "source": [
    "# nn.Sequential\n"
   ]
  },
  {
   "cell_type": "code",
   "execution_count": 0,
   "metadata": {
    "colab": {},
    "colab_type": "code",
    "id": "_swce4J40UHv"
   },
   "outputs": [],
   "source": [
    "model = nn.Sequential(\n",
    "    nn.Linear(m,nh), \n",
    "    nn.ReLU(), \n",
    "    nn.Linear(nh,10))"
   ]
  },
  {
   "cell_type": "code",
   "execution_count": 0,
   "metadata": {
    "colab": {
     "base_uri": "https://localhost:8080/",
     "height": 34
    },
    "colab_type": "code",
    "id": "fERxbMGq0W3j",
    "outputId": "aa1a2e98-f6b5-494e-8ff2-292b28a10216"
   },
   "outputs": [
    {
     "data": {
      "text/plain": [
       "(tensor(0.6830, grad_fn=<NllLossBackward>), tensor(0.8750))"
      ]
     },
     "execution_count": 48,
     "metadata": {
      "tags": []
     },
     "output_type": "execute_result"
    }
   ],
   "source": [
    "fit()\n",
    "loss_func(model(xb), yb), accuracy(model(xb), yb)"
   ]
  },
  {
   "cell_type": "code",
   "execution_count": 0,
   "metadata": {
    "colab": {
     "base_uri": "https://localhost:8080/",
     "height": 101
    },
    "colab_type": "code",
    "id": "NaXGYPTK0bNN",
    "outputId": "7ac63b1f-9982-4c2a-8b9a-521c9935613b"
   },
   "outputs": [
    {
     "data": {
      "text/plain": [
       "Sequential(\n",
       "  (0): Linear(in_features=784, out_features=50, bias=True)\n",
       "  (1): ReLU()\n",
       "  (2): Linear(in_features=50, out_features=10, bias=True)\n",
       ")"
      ]
     },
     "execution_count": 49,
     "metadata": {
      "tags": []
     },
     "output_type": "execute_result"
    }
   ],
   "source": [
    "model"
   ]
  },
  {
   "cell_type": "code",
   "execution_count": 0,
   "metadata": {
    "colab": {},
    "colab_type": "code",
    "id": "1O47hu6d0eiy"
   },
   "outputs": [],
   "source": [
    "fit??"
   ]
  },
  {
   "cell_type": "code",
   "execution_count": 0,
   "metadata": {
    "colab": {},
    "colab_type": "code",
    "id": "dXPwlwQt0gv3"
   },
   "outputs": [],
   "source": [
    "## Optimizer"
   ]
  },
  {
   "cell_type": "code",
   "execution_count": 0,
   "metadata": {
    "colab": {},
    "colab_type": "code",
    "id": "IVFQJomi0lec"
   },
   "outputs": [],
   "source": [
    "class Optimizer():\n",
    "  \n",
    "  def __init__(self, params, lr=0.5):\n",
    "    self.params = list(params) # turn the generator into values,, using list\n",
    "    self.lr = lr\n",
    "    \n",
    "  def step(self):\n",
    "    with torch.no_grad():\n",
    "      for p in self.params: p -= p.grad * self.lr\n",
    "  \n",
    "  def zero_grad(self):\n",
    "    for p in self.params: p.grad.data.zero_()\n",
    "  "
   ]
  },
  {
   "cell_type": "code",
   "execution_count": 0,
   "metadata": {
    "colab": {},
    "colab_type": "code",
    "id": "QufC_Z7i1Vgk"
   },
   "outputs": [],
   "source": [
    "model = nn.Sequential(nn.Linear(m,nh), nn.ReLU(), nn.Linear(nh,10))"
   ]
  },
  {
   "cell_type": "code",
   "execution_count": 0,
   "metadata": {
    "colab": {},
    "colab_type": "code",
    "id": "ITuHhHZT1YWn"
   },
   "outputs": [],
   "source": [
    "opt = Optimizer(model.parameters())"
   ]
  },
  {
   "cell_type": "code",
   "execution_count": 0,
   "metadata": {
    "colab": {},
    "colab_type": "code",
    "id": "-LIWu1au1ca_"
   },
   "outputs": [],
   "source": [
    "# opt.params"
   ]
  },
  {
   "cell_type": "code",
   "execution_count": 0,
   "metadata": {
    "colab": {},
    "colab_type": "code",
    "id": "LeMyEuzC1h-a"
   },
   "outputs": [],
   "source": [
    "fit??"
   ]
  },
  {
   "cell_type": "code",
   "execution_count": 0,
   "metadata": {
    "colab": {},
    "colab_type": "code",
    "id": "qPU1Vi1v13SZ"
   },
   "outputs": [],
   "source": [
    "def fit():\n",
    "  for epoch in range(epochs):\n",
    "    for idx in range(0, n, bs):\n",
    "      xb = x_train[idx: idx+bs]\n",
    "      yb = y_train[idx: idx+bs]\n",
    "      \n",
    "      loss = loss_func( model(xb), yb)\n",
    "\n",
    "      loss.backward()\n",
    "      opt.step()\n",
    "      opt.zero_grad()"
   ]
  },
  {
   "cell_type": "code",
   "execution_count": 0,
   "metadata": {
    "colab": {},
    "colab_type": "code",
    "id": "jYrt573S2CQi"
   },
   "outputs": [],
   "source": [
    "model = nn.Sequential(nn.Linear(m,nh), nn.ReLU(), nn.Linear(nh,10))\n",
    "opt = Optimizer(model.parameters())\n"
   ]
  },
  {
   "cell_type": "code",
   "execution_count": 0,
   "metadata": {
    "colab": {
     "base_uri": "https://localhost:8080/",
     "height": 34
    },
    "colab_type": "code",
    "id": "5VCrwiB82I53",
    "outputId": "c252339f-8574-4560-eeab-b6ccecb15b7d"
   },
   "outputs": [
    {
     "data": {
      "text/plain": [
       "(tensor(0.0903, grad_fn=<NllLossBackward>), tensor(0.9375))"
      ]
     },
     "execution_count": 57,
     "metadata": {
      "tags": []
     },
     "output_type": "execute_result"
    }
   ],
   "source": [
    "fit()\n",
    "loss_func(model(xb), yb), accuracy(model(xb), yb)"
   ]
  },
  {
   "cell_type": "code",
   "execution_count": 0,
   "metadata": {
    "colab": {},
    "colab_type": "code",
    "id": "Qt-gC9cZ2JUK"
   },
   "outputs": [],
   "source": [
    "from torch import optim"
   ]
  },
  {
   "cell_type": "code",
   "execution_count": 0,
   "metadata": {
    "colab": {},
    "colab_type": "code",
    "id": "21GrEoEQ2R-4"
   },
   "outputs": [],
   "source": [
    "# optim.SGD.step??"
   ]
  },
  {
   "cell_type": "code",
   "execution_count": 0,
   "metadata": {
    "colab": {},
    "colab_type": "code",
    "id": "zJ-lYfvU2UGV"
   },
   "outputs": [],
   "source": [
    "def get_model():\n",
    "  model = nn.Sequential(nn.Linear(m,nh), nn.ReLU(), nn.Linear(nh,10))\n",
    "  opt =  optim.SGD(model.parameters(), lr=lr) #Optimizer(model.parameters())\n",
    "  return model, opt"
   ]
  },
  {
   "cell_type": "code",
   "execution_count": 0,
   "metadata": {
    "colab": {},
    "colab_type": "code",
    "id": "9-e5URoj2kMD"
   },
   "outputs": [],
   "source": [
    "model, opt = get_model()\n",
    "fit()"
   ]
  },
  {
   "cell_type": "code",
   "execution_count": 0,
   "metadata": {
    "colab": {
     "base_uri": "https://localhost:8080/",
     "height": 34
    },
    "colab_type": "code",
    "id": "aUGQEi572nXC",
    "outputId": "08067de8-026c-448f-f977-ea29dfe55d70"
   },
   "outputs": [
    {
     "data": {
      "text/plain": [
       "(tensor(0.7484, grad_fn=<NllLossBackward>), tensor(0.8750))"
      ]
     },
     "execution_count": 61,
     "metadata": {
      "tags": []
     },
     "output_type": "execute_result"
    }
   ],
   "source": [
    "loss, acc = loss_func(model(xb), yb), accuracy(model(xb), yb)\n",
    "loss, acc"
   ]
  },
  {
   "cell_type": "code",
   "execution_count": 0,
   "metadata": {
    "colab": {},
    "colab_type": "code",
    "id": "gZFckwwc2rS4"
   },
   "outputs": [],
   "source": [
    "assert acc>0.7"
   ]
  },
  {
   "cell_type": "code",
   "execution_count": 0,
   "metadata": {
    "colab": {},
    "colab_type": "code",
    "id": "Ciw--YiL2z7P"
   },
   "outputs": [],
   "source": [
    "## Dataset and DataLoader"
   ]
  },
  {
   "cell_type": "code",
   "execution_count": 0,
   "metadata": {
    "colab": {},
    "colab_type": "code",
    "id": "cIB2uLCB239W"
   },
   "outputs": [],
   "source": [
    "class Dataset():\n",
    "  \n",
    "  def __init__(self, x,y):\n",
    "    self.x = x\n",
    "    self.y = y\n",
    "    \n",
    "  def __len__(self):\n",
    "    return len(self.x)\n",
    "  \n",
    "  def __getitem__(self, i):\n",
    "    return self.x[i], self.y[i]"
   ]
  },
  {
   "cell_type": "code",
   "execution_count": 0,
   "metadata": {
    "colab": {},
    "colab_type": "code",
    "id": "YLG4E8cG39L3"
   },
   "outputs": [],
   "source": [
    "train_ds = Dataset(x_train, y_train)\n",
    "valid_ds = Dataset(x_valid, y_valid)"
   ]
  },
  {
   "cell_type": "code",
   "execution_count": 0,
   "metadata": {
    "colab": {},
    "colab_type": "code",
    "id": "pyXxRrJs4JF2"
   },
   "outputs": [],
   "source": [
    "assert len(train_ds) == len(x_train)"
   ]
  },
  {
   "cell_type": "code",
   "execution_count": 0,
   "metadata": {
    "colab": {
     "base_uri": "https://localhost:8080/",
     "height": 34
    },
    "colab_type": "code",
    "id": "xv73TF5o4Mjm",
    "outputId": "bbf05d99-70f9-429c-afa5-126cc151d7a3"
   },
   "outputs": [
    {
     "data": {
      "text/plain": [
       "(torch.Size([5, 784]), tensor([5, 0, 4, 1, 9]))"
      ]
     },
     "execution_count": 66,
     "metadata": {
      "tags": []
     },
     "output_type": "execute_result"
    }
   ],
   "source": [
    "xb, yb = train_ds[0:5]\n",
    "xb.shape, yb"
   ]
  },
  {
   "cell_type": "code",
   "execution_count": 0,
   "metadata": {
    "colab": {},
    "colab_type": "code",
    "id": "IV9ZmR2n4Tec"
   },
   "outputs": [],
   "source": [
    "model, opt = get_model()"
   ]
  },
  {
   "cell_type": "code",
   "execution_count": 0,
   "metadata": {
    "colab": {},
    "colab_type": "code",
    "id": "Xn17lCnr5RwK"
   },
   "outputs": [],
   "source": [
    "def measure():\n",
    "  loss, acc = loss_func(model(xb), yb), accuracy(model(xb), yb)\n",
    "  return loss, acc"
   ]
  },
  {
   "cell_type": "code",
   "execution_count": 0,
   "metadata": {
    "colab": {},
    "colab_type": "code",
    "id": "K0hYfcrf5AAN"
   },
   "outputs": [],
   "source": [
    "fit??"
   ]
  },
  {
   "cell_type": "code",
   "execution_count": 0,
   "metadata": {
    "colab": {},
    "colab_type": "code",
    "id": "RJj42MPN5Aj_"
   },
   "outputs": [],
   "source": [
    "def fit():\n",
    "  for epoch in range(epochs):\n",
    "    for idx in range(0, n, bs):\n",
    "      xb , yb = train_ds[idx: idx+bs]\n",
    "      \n",
    "      loss = loss_func( model(xb), yb)\n",
    "\n",
    "      loss.backward()\n",
    "      opt.step()\n",
    "      opt.zero_grad()"
   ]
  },
  {
   "cell_type": "code",
   "execution_count": 0,
   "metadata": {
    "colab": {},
    "colab_type": "code",
    "id": "L8uN-0rL5NLI"
   },
   "outputs": [],
   "source": [
    "fit()"
   ]
  },
  {
   "cell_type": "code",
   "execution_count": 0,
   "metadata": {
    "colab": {
     "base_uri": "https://localhost:8080/",
     "height": 34
    },
    "colab_type": "code",
    "id": "9ngdsG7J5OEZ",
    "outputId": "edc9871d-387a-466f-868c-07e3be40bdc8"
   },
   "outputs": [
    {
     "data": {
      "text/plain": [
       "(tensor(0.3761, grad_fn=<NllLossBackward>), tensor(0.8000))"
      ]
     },
     "execution_count": 71,
     "metadata": {
      "tags": []
     },
     "output_type": "execute_result"
    }
   ],
   "source": [
    "measure()"
   ]
  },
  {
   "cell_type": "code",
   "execution_count": 0,
   "metadata": {
    "colab": {},
    "colab_type": "code",
    "id": "P3gtR8rD5ZfU"
   },
   "outputs": [],
   "source": [
    "## DataLoaders\n",
    "\n",
    "class DataLoader():\n",
    "  def __init__(self, ds, bs):\n",
    "    self.ds, self.bs = ds, bs\n",
    "   \n",
    "  def __iter__(self):\n",
    "    for idx in range(0, len(self.ds), self.bs):\n",
    "      yield self.ds[idx: idx+self.bs]"
   ]
  },
  {
   "cell_type": "code",
   "execution_count": 0,
   "metadata": {
    "colab": {},
    "colab_type": "code",
    "id": "tdoBStXq6J4w"
   },
   "outputs": [],
   "source": [
    "train_dl = DataLoader(train_ds, bs)\n",
    "valid_dl = DataLoader(valid_ds, bs)"
   ]
  },
  {
   "cell_type": "code",
   "execution_count": 0,
   "metadata": {
    "colab": {},
    "colab_type": "code",
    "id": "4jZrGxpC6Wc1"
   },
   "outputs": [],
   "source": [
    "xb, yb = next(iter(train_dl))"
   ]
  },
  {
   "cell_type": "code",
   "execution_count": 0,
   "metadata": {
    "colab": {
     "base_uri": "https://localhost:8080/",
     "height": 34
    },
    "colab_type": "code",
    "id": "fnGLRMAd6chb",
    "outputId": "ba6b95c9-924e-41c8-c975-da746f5ff055"
   },
   "outputs": [
    {
     "data": {
      "text/plain": [
       "torch.Size([64, 784])"
      ]
     },
     "execution_count": 77,
     "metadata": {
      "tags": []
     },
     "output_type": "execute_result"
    }
   ],
   "source": [
    "xb.shape"
   ]
  },
  {
   "cell_type": "code",
   "execution_count": 0,
   "metadata": {
    "colab": {
     "base_uri": "https://localhost:8080/",
     "height": 265
    },
    "colab_type": "code",
    "id": "e5uqJNMu6efr",
    "outputId": "e5de593c-343e-4814-ec01-603907165711"
   },
   "outputs": [
    {
     "data": {
      "image/png": "[encoded data removed]",
      "text/plain": [
       "<Figure size 432x288 with 1 Axes>"
      ]
     },
     "metadata": {
      "tags": []
     },
     "output_type": "display_data"
    }
   ],
   "source": [
    "bala_show1img(xb[0],shape=(28,28))"
   ]
  },
  {
   "cell_type": "code",
   "execution_count": 0,
   "metadata": {
    "colab": {
     "base_uri": "https://localhost:8080/",
     "height": 146
    },
    "colab_type": "code",
    "id": "e7mPbUpf6im_",
    "outputId": "0faaf9d8-62fb-4763-c412-e945b5cb4c24"
   },
   "outputs": [
    {
     "data": {
      "image/png": "[encoded data removed]",
      "text/plain": [
       "<Figure size 720x720 with 5 Axes>"
      ]
     },
     "metadata": {
      "tags": []
     },
     "output_type": "display_data"
    }
   ],
   "source": [
    "bala_show_random(xb)"
   ]
  },
  {
   "cell_type": "code",
   "execution_count": 0,
   "metadata": {
    "colab": {},
    "colab_type": "code",
    "id": "bjsS9zNA6pss"
   },
   "outputs": [],
   "source": [
    "bala_show_random??"
   ]
  },
  {
   "cell_type": "code",
   "execution_count": 0,
   "metadata": {
    "colab": {},
    "colab_type": "code",
    "id": "zrUye_mW6top"
   },
   "outputs": [],
   "source": [
    "model,opt = get_model()"
   ]
  },
  {
   "cell_type": "code",
   "execution_count": 0,
   "metadata": {
    "colab": {},
    "colab_type": "code",
    "id": "vFlCdZ6Z9aDJ"
   },
   "outputs": [],
   "source": [
    "def fit():\n",
    "  for epoch in range(epochs):\n",
    "    for xb,yb in train_dl:\n",
    "   \n",
    "      loss = loss_func( model(xb), yb)\n",
    "\n",
    "      loss.backward()\n",
    "      opt.step()\n",
    "      opt.zero_grad()"
   ]
  },
  {
   "cell_type": "code",
   "execution_count": 0,
   "metadata": {
    "colab": {},
    "colab_type": "code",
    "id": "2_PaDCuN9jhA"
   },
   "outputs": [],
   "source": [
    "fit()"
   ]
  },
  {
   "cell_type": "code",
   "execution_count": 0,
   "metadata": {
    "colab": {
     "base_uri": "https://localhost:8080/",
     "height": 34
    },
    "colab_type": "code",
    "id": "hjpfntPw9kXA",
    "outputId": "510f7ae6-a20e-4146-9465-04f9deb02aa1"
   },
   "outputs": [
    {
     "data": {
      "text/plain": [
       "(tensor(0.3593, grad_fn=<NllLossBackward>), tensor(0.9219))"
      ]
     },
     "execution_count": 83,
     "metadata": {
      "tags": []
     },
     "output_type": "execute_result"
    }
   ],
   "source": [
    "measure()"
   ]
  },
  {
   "cell_type": "code",
   "execution_count": 0,
   "metadata": {
    "colab": {},
    "colab_type": "code",
    "id": "ozt_ifXj9lIU"
   },
   "outputs": [],
   "source": [
    "## Sampler()\n",
    "\n",
    "\n",
    "class Sampler():\n",
    "  def __init__(self, ds, bs, shuffle=False):\n",
    "    self.n, self.bs, self.shuffle = len(ds), bs, shuffle\n",
    "    \n",
    "  def __iter__(self):\n",
    "    self.idxs = torch.randperm(self.n) if self.shuffle else torch.arange(self.n)\n",
    "    \n",
    "    for i in range(0, self.n, self.bs):\n",
    "      yield self.idxs[i: i+self.bs]\n",
    "    "
   ]
  },
  {
   "cell_type": "code",
   "execution_count": 0,
   "metadata": {
    "colab": {},
    "colab_type": "code",
    "id": "KSlJOQZq-UNJ"
   },
   "outputs": [],
   "source": [
    "small_ds = Dataset(*train_ds[:10])"
   ]
  },
  {
   "cell_type": "code",
   "execution_count": 0,
   "metadata": {
    "colab": {
     "base_uri": "https://localhost:8080/",
     "height": 34
    },
    "colab_type": "code",
    "id": "9zuA26z--Wz4",
    "outputId": "08c1107b-0c7f-4633-e7ed-56acbf67fbeb"
   },
   "outputs": [
    {
     "data": {
      "text/plain": [
       "[tensor([0, 1, 2]), tensor([3, 4, 5]), tensor([6, 7, 8]), tensor([9])]"
      ]
     },
     "execution_count": 86,
     "metadata": {
      "tags": []
     },
     "output_type": "execute_result"
    }
   ],
   "source": [
    "s = Sampler(small_ds, 3, False)\n",
    "[o for o in s]"
   ]
  },
  {
   "cell_type": "code",
   "execution_count": 0,
   "metadata": {
    "colab": {
     "base_uri": "https://localhost:8080/",
     "height": 34
    },
    "colab_type": "code",
    "id": "IhXW9v26-c0H",
    "outputId": "24ad572b-f6b5-4bd0-badf-42d3d0c2a1dc"
   },
   "outputs": [
    {
     "data": {
      "text/plain": [
       "[tensor([9, 4, 7]), tensor([6, 2, 8]), tensor([5, 3, 0]), tensor([1])]"
      ]
     },
     "execution_count": 87,
     "metadata": {
      "tags": []
     },
     "output_type": "execute_result"
    }
   ],
   "source": [
    "s = Sampler(small_ds, 3, True)\n",
    "[o for o in s]"
   ]
  },
  {
   "cell_type": "code",
   "execution_count": 0,
   "metadata": {
    "colab": {},
    "colab_type": "code",
    "id": "2VtIPZ47-yuW"
   },
   "outputs": [],
   "source": [
    "def collate(b):\n",
    "  xs, ys = zip(*b)\n",
    "  return torch.stack(xs), torch.stack(ys)\n",
    "\n",
    "class DataLoader():\n",
    "  def __init__(self, ds, sampler, collate_fn=collate):\n",
    "    self.ds, self.sampler, self.collate_fn = ds, sampler, collate_fn\n",
    "    \n",
    "  def __iter__(self):\n",
    "    for s in self.sampler:\n",
    "      records = [ self.ds[i] for i in s]\n",
    "      yield self.collate_fn(records)"
   ]
  },
  {
   "cell_type": "code",
   "execution_count": 0,
   "metadata": {
    "colab": {},
    "colab_type": "code",
    "id": "J2sVNnS7_pKy"
   },
   "outputs": [],
   "source": [
    "train_samp = Sampler(train_ds, bs, shuffle=True)\n",
    "valid_samp = Sampler(valid_ds, bs, shuffle=False)"
   ]
  },
  {
   "cell_type": "code",
   "execution_count": 0,
   "metadata": {
    "colab": {},
    "colab_type": "code",
    "id": "WTmp0yyC_x4m"
   },
   "outputs": [],
   "source": [
    "train_dl = DataLoader(train_ds, sampler=train_samp, collate_fn=collate)\n",
    "valid_dl = DataLoader(valid_ds, sampler=valid_samp, collate_fn=collate)"
   ]
  },
  {
   "cell_type": "code",
   "execution_count": 0,
   "metadata": {
    "colab": {},
    "colab_type": "code",
    "id": "uJsmhmp3_8ZF"
   },
   "outputs": [],
   "source": [
    "xb, yb = next(iter(train_dl))"
   ]
  },
  {
   "cell_type": "code",
   "execution_count": 0,
   "metadata": {
    "colab": {
     "base_uri": "https://localhost:8080/",
     "height": 146
    },
    "colab_type": "code",
    "id": "D5bfRwzq__oy",
    "outputId": "9a14d063-73e4-4d48-beb9-9f788eb4495b"
   },
   "outputs": [
    {
     "data": {
      "image/png": "[encoded data removed]",
      "text/plain": [
       "<Figure size 720x720 with 5 Axes>"
      ]
     },
     "metadata": {
      "tags": []
     },
     "output_type": "display_data"
    }
   ],
   "source": [
    "bala_show_random(xb)"
   ]
  },
  {
   "cell_type": "code",
   "execution_count": 0,
   "metadata": {
    "colab": {
     "base_uri": "https://localhost:8080/",
     "height": 146
    },
    "colab_type": "code",
    "id": "HrokMHy3ACVk",
    "outputId": "862e5d67-fe77-4f44-879e-e089a106bbd1"
   },
   "outputs": [
    {
     "data": {
      "image/png": "[encoded data removed]",
      "text/plain": [
       "<Figure size 720x720 with 5 Axes>"
      ]
     },
     "metadata": {
      "tags": []
     },
     "output_type": "display_data"
    }
   ],
   "source": [
    "bala_show_random(xb)"
   ]
  },
  {
   "cell_type": "code",
   "execution_count": 0,
   "metadata": {
    "colab": {
     "base_uri": "https://localhost:8080/",
     "height": 34
    },
    "colab_type": "code",
    "id": "CDnRgKnIADnw",
    "outputId": "e13be38b-2592-4572-e07a-8611f10c39a1"
   },
   "outputs": [
    {
     "data": {
      "text/plain": [
       "(tensor(0.4053, grad_fn=<NllLossBackward>), tensor(0.9219))"
      ]
     },
     "execution_count": 94,
     "metadata": {
      "tags": []
     },
     "output_type": "execute_result"
    }
   ],
   "source": [
    "model, opt = get_model()\n",
    "fit()\n",
    "measure()"
   ]
  },
  {
   "cell_type": "code",
   "execution_count": 0,
   "metadata": {
    "colab": {},
    "colab_type": "code",
    "id": "TG2Gu0qGANDg"
   },
   "outputs": [],
   "source": [
    "from torch.utils.data import DataLoader\n",
    "from torch.utils.data import SequentialSampler\n",
    "from torch.utils.data import RandomSampler"
   ]
  },
  {
   "cell_type": "code",
   "execution_count": 0,
   "metadata": {
    "colab": {},
    "colab_type": "code",
    "id": "ydZ1L1U9AV_N"
   },
   "outputs": [],
   "source": [
    "train_dl = DataLoader(train_ds, bs, \n",
    "                      sampler=RandomSampler(train_ds), \n",
    "                      collate_fn=collate)\n",
    "valid_dl = DataLoader(valid_ds, bs, \n",
    "                      sampler=SequentialSampler(valid_ds), \n",
    "                      collate_fn=collate)"
   ]
  },
  {
   "cell_type": "code",
   "execution_count": 0,
   "metadata": {
    "colab": {
     "base_uri": "https://localhost:8080/",
     "height": 34
    },
    "colab_type": "code",
    "id": "d66J57feAuKF",
    "outputId": "da091457-9e82-4f63-962c-80532ce5507b"
   },
   "outputs": [
    {
     "data": {
      "text/plain": [
       "(tensor(0.4293, grad_fn=<NllLossBackward>), tensor(0.9219))"
      ]
     },
     "execution_count": 97,
     "metadata": {
      "tags": []
     },
     "output_type": "execute_result"
    }
   ],
   "source": [
    "model, opt = get_model()\n",
    "fit()\n",
    "measure()"
   ]
  },
  {
   "cell_type": "code",
   "execution_count": 0,
   "metadata": {
    "colab": {},
    "colab_type": "code",
    "id": "wyV1BnnWAvzb"
   },
   "outputs": [],
   "source": [
    "train_dl = DataLoader(train_ds, bs, shuffle=True, drop_last=True)\n",
    "valid_dl = DataLoader(valid_ds, bs, shuffle=False)"
   ]
  },
  {
   "cell_type": "code",
   "execution_count": 0,
   "metadata": {
    "colab": {
     "base_uri": "https://localhost:8080/",
     "height": 34
    },
    "colab_type": "code",
    "id": "9hkjpJT3A21-",
    "outputId": "fea9a3c7-7eb1-4782-e598-e97f189d3690"
   },
   "outputs": [
    {
     "data": {
      "text/plain": [
       "(tensor(0.4169, grad_fn=<NllLossBackward>), tensor(0.9219))"
      ]
     },
     "execution_count": 99,
     "metadata": {
      "tags": []
     },
     "output_type": "execute_result"
    }
   ],
   "source": [
    "model, opt = get_model()\n",
    "fit()\n",
    "measure()"
   ]
  },
  {
   "cell_type": "code",
   "execution_count": 0,
   "metadata": {
    "colab": {},
    "colab_type": "code",
    "id": "LqiCqzKiBcUM"
   },
   "outputs": [],
   "source": [
    "measure??"
   ]
  },
  {
   "cell_type": "code",
   "execution_count": 0,
   "metadata": {
    "colab": {},
    "colab_type": "code",
    "id": "7uJP_UN0A3_M"
   },
   "outputs": [],
   "source": [
    "fit??"
   ]
  },
  {
   "cell_type": "code",
   "execution_count": 0,
   "metadata": {
    "colab": {},
    "colab_type": "code",
    "id": "WCVYv1w4A5T8"
   },
   "outputs": [],
   "source": [
    "def fit(epochs, model, loss_func, opt, train_dl, valid_dl):\n",
    "  for epoch in range(epochs):\n",
    "    # set training model \n",
    "    model.train()\n",
    "    for xb,yb in train_dl: \n",
    "      loss = loss_func( model(xb), yb)\n",
    "      loss.backward()\n",
    "      opt.step()\n",
    "      opt.zero_grad()\n",
    "      \n",
    "    model.eval()\n",
    "    with torch.no_grad():\n",
    "      tot_loss , tot_acc = 0. , 0.\n",
    "      for xb,yb in valid_dl: \n",
    "        pred = model(xb)\n",
    "        tot_loss += loss_func(model(xb), yb)\n",
    "        tot_acc  += accuracy(model(xb), yb)\n",
    "        \n",
    "    nv = len(valid_dl)\n",
    "    print(epoch, tot_loss/nv , tot_acc/nv)\n",
    "  return tot_loss/nv , tot_acc/nv"
   ]
  },
  {
   "cell_type": "code",
   "execution_count": 0,
   "metadata": {
    "colab": {},
    "colab_type": "code",
    "id": "74l-ArRQCOen"
   },
   "outputs": [],
   "source": [
    "def get_model():\n",
    "  model = nn.Sequential(nn.Linear(m,nh), nn.ReLU(), nn.Linear(nh,10))\n",
    "  opt =  optim.SGD(model.parameters(), lr=lr) #Optimizer(model.parameters())\n",
    "  return model, opt"
   ]
  },
  {
   "cell_type": "code",
   "execution_count": 0,
   "metadata": {
    "colab": {},
    "colab_type": "code",
    "id": "k-iqNUkoCiYk"
   },
   "outputs": [],
   "source": [
    "def get_dls(train_ds, valid_ds, bs, **kwargs):\n",
    "    return (DataLoader(train_ds, batch_size=bs, shuffle=True, **kwargs),\n",
    "            DataLoader(valid_ds, batch_size=bs*2, **kwargs))"
   ]
  },
  {
   "cell_type": "code",
   "execution_count": 0,
   "metadata": {
    "colab": {
     "base_uri": "https://localhost:8080/",
     "height": 34
    },
    "colab_type": "code",
    "id": "XW6TsZXQB2fn",
    "outputId": "5a075f8d-79c6-4dc0-beb0-fb3f24c16234"
   },
   "outputs": [
    {
     "name": "stdout",
     "output_type": "stream",
     "text": [
      "0 tensor(0.1654) tensor(0.9524)\n"
     ]
    }
   ],
   "source": [
    "epochs = 1\n",
    "lr = 0.5\n",
    "bs = 64\n",
    "\n",
    "train_dl , valid_dl = get_dls(train_ds, valid_ds, bs)\n",
    "\n",
    "model, opt = get_model()\n",
    "\n",
    "loss_func = F.cross_entropy\n",
    "\n",
    "loss, acc = fit(epochs, model, loss_func, opt, train_dl, valid_dl)"
   ]
  },
  {
   "cell_type": "code",
   "execution_count": 0,
   "metadata": {
    "colab": {
     "base_uri": "https://localhost:8080/",
     "height": 34
    },
    "colab_type": "code",
    "id": "X-HDPykeCSa0",
    "outputId": "8d4c525a-d8f2-42b7-f818-dddd1fbd4313"
   },
   "outputs": [
    {
     "name": "stdout",
     "output_type": "stream",
     "text": [
      "0 tensor(0.1197) tensor(0.9644)\n"
     ]
    }
   ],
   "source": [
    "loss , acc  =fit(epochs, model, loss_func, opt, train_dl, valid_dl)"
   ]
  },
  {
   "cell_type": "code",
   "execution_count": 0,
   "metadata": {
    "colab": {},
    "colab_type": "code",
    "id": "yfQii38HCY84"
   },
   "outputs": [],
   "source": [
    "assert acc>0.9"
   ]
  },
  {
   "cell_type": "code",
   "execution_count": 0,
   "metadata": {
    "colab": {},
    "colab_type": "code",
    "id": "jCev2qQwDFcw"
   },
   "outputs": [],
   "source": []
  },
  {
   "cell_type": "markdown",
   "metadata": {
    "colab_type": "text",
    "id": "1qPhpbarmyod"
   },
   "source": [
    "## DataBunch / Learner"
   ]
  },
  {
   "cell_type": "code",
   "execution_count": 0,
   "metadata": {
    "colab": {},
    "colab_type": "code",
    "id": "qTerLG9Km0Oq"
   },
   "outputs": [],
   "source": [
    "get_data??"
   ]
  },
  {
   "cell_type": "code",
   "execution_count": 0,
   "metadata": {
    "colab": {},
    "colab_type": "code",
    "id": "qlb4W1rinGP6"
   },
   "outputs": [],
   "source": [
    "x_train,y_train,x_valid,y_valid = get_data()\n",
    "train_ds, valid_ds = Dataset(x_train, y_train) ,Dataset(x_valid, y_valid)"
   ]
  },
  {
   "cell_type": "code",
   "execution_count": 0,
   "metadata": {
    "colab": {},
    "colab_type": "code",
    "id": "ns5B2-FVnyi5"
   },
   "outputs": [],
   "source": [
    "nh = 50\n",
    "bs = 64\n",
    "c = y_train.max().item() + 1\n",
    "loss_func = F.cross_entropy"
   ]
  },
  {
   "cell_type": "code",
   "execution_count": 0,
   "metadata": {
    "colab": {},
    "colab_type": "code",
    "id": "c81PIty1oBLL"
   },
   "outputs": [],
   "source": [
    "class DataBunch():\n",
    "  \n",
    "  def __init__(self, train_dl, valid_dl, c=None):\n",
    "    self.train_dl = train_dl\n",
    "    self.valid_dl = valid_dl\n",
    "    self.c = c\n",
    "  \n",
    "  @property\n",
    "  def train_ds(self):\n",
    "    return self.train_dl.dataset #to access dataset from dataloader\n",
    "  \n",
    "  @property\n",
    "  def valid_ds(self):\n",
    "    return self.valid_dl.dataset\n",
    "  \n",
    "  \n",
    "  def show_batch(self, figsize=(10,10)):\n",
    "    #bala_show_random(self.train_dl, n=no_elems)\n",
    "    rows, cols = 8 , 8\n",
    "    fig, ax = plt.subplots(nrows=rows, ncols=cols, figsize=figsize)\n",
    "    xb , yb = next(iter(self.train_dl))\n",
    "    \n",
    "    for ro in range(rows):\n",
    "      for co in range(cols):\n",
    "        idx = ro * co + co\n",
    "        bala_show1img(xb[idx],shape=(28,28), ax=ax[ro, co])\n",
    "    "
   ]
  },
  {
   "cell_type": "code",
   "execution_count": 0,
   "metadata": {
    "colab": {},
    "colab_type": "code",
    "id": "AvSHHaycpSpD"
   },
   "outputs": [],
   "source": [
    "get_dls??\n",
    "\n",
    "def get_dls(train_ds, valid_ds, bs, **kwargs):\n",
    "    return (DataLoader(train_ds, batch_size=bs, shuffle=True, **kwargs),\n",
    "            DataLoader(valid_ds, batch_size=bs*2, **kwargs))"
   ]
  },
  {
   "cell_type": "code",
   "execution_count": 0,
   "metadata": {
    "colab": {},
    "colab_type": "code",
    "id": "YaofigwopYiD"
   },
   "outputs": [],
   "source": [
    "data = DataBunch(*get_dls(train_ds, valid_ds, bs), c)"
   ]
  },
  {
   "cell_type": "code",
   "execution_count": 0,
   "metadata": {
    "colab": {},
    "colab_type": "code",
    "id": "x13nW9Qcpnx-"
   },
   "outputs": [],
   "source": [
    "# data.show_batch()"
   ]
  },
  {
   "cell_type": "code",
   "execution_count": 0,
   "metadata": {
    "colab": {},
    "colab_type": "code",
    "id": "ue-gcS0SwDIt"
   },
   "outputs": [],
   "source": [
    "get_model??"
   ]
  },
  {
   "cell_type": "code",
   "execution_count": 0,
   "metadata": {
    "colab": {},
    "colab_type": "code",
    "id": "XgAYw3WcwwMZ"
   },
   "outputs": [],
   "source": [
    "def get_model(data, lr=0.5, nh=50):\n",
    "  m = data.train_ds.x.shape[1]\n",
    "  model = nn.Sequential(nn.Linear(m,nh), nn.ReLU(), nn.Linear(nh,data.c))\n",
    "  opt =  optim.SGD(model.parameters(), lr=lr) #Optimizer(model.parameters())\n",
    "  return model, opt"
   ]
  },
  {
   "cell_type": "code",
   "execution_count": 0,
   "metadata": {
    "colab": {},
    "colab_type": "code",
    "id": "oiF2xc-Hy_YY"
   },
   "outputs": [],
   "source": [
    "class Learner():\n",
    "  def __init__(self, model, opt, loss_func, data):\n",
    "    self.model = model\n",
    "    self.opt = opt\n",
    "    self.loss_func = loss_func\n",
    "    self.data = data"
   ]
  },
  {
   "cell_type": "code",
   "execution_count": 0,
   "metadata": {
    "colab": {},
    "colab_type": "code",
    "id": "2aVQueqrzV1g"
   },
   "outputs": [],
   "source": [
    "data = DataBunch(*get_dls(train_ds, valid_ds, bs), c)\n",
    "learn = Learner(*get_model(data), loss_func, data)"
   ]
  },
  {
   "cell_type": "code",
   "execution_count": 0,
   "metadata": {
    "colab": {},
    "colab_type": "code",
    "id": "0lIj6qmCzfR1"
   },
   "outputs": [],
   "source": [
    "# learn"
   ]
  },
  {
   "cell_type": "code",
   "execution_count": 0,
   "metadata": {
    "colab": {},
    "colab_type": "code",
    "id": "dDSWRGgpzs7H"
   },
   "outputs": [],
   "source": [
    "fit??"
   ]
  },
  {
   "cell_type": "code",
   "execution_count": 0,
   "metadata": {
    "colab": {},
    "colab_type": "code",
    "id": "1aANHrWx4oI3"
   },
   "outputs": [],
   "source": [
    "def fit(epochs, learn):\n",
    "  for epoch in range(epochs):\n",
    "    # set training model \n",
    "    learn.model.train()\n",
    "    for xb,yb in learn.data.train_dl: \n",
    "      loss = learn.loss_func( learn.model(xb), yb)\n",
    "      loss.backward()\n",
    "      learn.opt.step()\n",
    "      learn.opt.zero_grad()\n",
    "      \n",
    "    learn.model.eval()\n",
    "    with torch.no_grad():\n",
    "      tot_loss , tot_acc = 0. , 0.\n",
    "      for xb,yb in learn.data.valid_dl: \n",
    "        pred = learn.model(xb)\n",
    "        tot_loss += loss_func(learn.model(xb), yb)\n",
    "        tot_acc  += accuracy(learn.model(xb), yb)\n",
    "        \n",
    "    nv = len(learn.data.valid_dl)\n",
    "    print(epoch, tot_loss/nv , tot_acc/nv)\n",
    "  return tot_loss/nv , tot_acc/nv"
   ]
  },
  {
   "cell_type": "code",
   "execution_count": 0,
   "metadata": {
    "colab": {
     "base_uri": "https://localhost:8080/",
     "height": 34
    },
    "colab_type": "code",
    "id": "ew-oCgOb5AJz",
    "outputId": "64685c66-5aee-4bb3-d576-4797d8cb75ac"
   },
   "outputs": [
    {
     "name": "stdout",
     "output_type": "stream",
     "text": [
      "0 tensor(0.2369) tensor(0.9267)\n"
     ]
    }
   ],
   "source": [
    "epochs =1 \n",
    "loss, acc = fit(epochs, learn)"
   ]
  },
  {
   "cell_type": "code",
   "execution_count": 0,
   "metadata": {
    "colab": {},
    "colab_type": "code",
    "id": "0iAnQVlm5EzO"
   },
   "outputs": [],
   "source": [
    "# CallbackHandler"
   ]
  },
  {
   "cell_type": "markdown",
   "metadata": {
    "colab_type": "text",
    "id": "n3VMMXlX5cNf"
   },
   "source": [
    "# CallbackHandler"
   ]
  },
  {
   "cell_type": "code",
   "execution_count": 0,
   "metadata": {
    "colab": {},
    "colab_type": "code",
    "id": "yoOQlP1_EzwC"
   },
   "outputs": [],
   "source": [
    "import re\n",
    "\n",
    "pat1 = '(.)([A-Z][a-z]+)'\n",
    "pat2 = '([a-z0-9])([A-Z])'\n",
    "\n",
    "_camel_re1 = re.compile(pat1)\n",
    "_camel_re2 = re.compile(pat2)\n",
    "\n",
    "def camel2snake(name):\n",
    "  s1 = re.sub(_camel_re1, r'\\1_\\2', name)\n",
    "  s2 = re.sub(_camel_re2, r'\\1_\\2', s1).lower()\n",
    "  return s2"
   ]
  },
  {
   "cell_type": "code",
   "execution_count": 0,
   "metadata": {
    "colab": {},
    "colab_type": "code",
    "id": "b07Sx5fsL2C6"
   },
   "outputs": [],
   "source": [
    "class Callback():\n",
    "  _order=0\n",
    "  \n",
    "  def set_runner(self, run):\n",
    "    self.run = run\n",
    "    \n",
    "  def __getattr__(self, k):\n",
    "    return getattr(self.run, k)\n",
    "  \n",
    "  @property\n",
    "  def name(self):\n",
    "    name = re.sub(r'Callback$', '', self.__class__.__name__)\n",
    "    return camel2snake(name or 'callback')"
   ]
  },
  {
   "cell_type": "code",
   "execution_count": 0,
   "metadata": {
    "colab": {
     "base_uri": "https://localhost:8080/",
     "height": 34
    },
    "colab_type": "code",
    "id": "KS9V_MATMO_H",
    "outputId": "97ff7c70-9762-4c5b-ba6b-a202c375c477"
   },
   "outputs": [
    {
     "data": {
      "text/plain": [
       "'hello_world'"
      ]
     },
     "execution_count": 151,
     "metadata": {
      "tags": []
     },
     "output_type": "execute_result"
    }
   ],
   "source": [
    "class HelloWorldCallback(Callback):\n",
    "  pass\n",
    "\n",
    "a = HelloWorldCallback()\n",
    "a.name"
   ]
  },
  {
   "cell_type": "code",
   "execution_count": 0,
   "metadata": {
    "colab": {},
    "colab_type": "code",
    "id": "aFAPUf7MN_S4"
   },
   "outputs": [],
   "source": [
    "class TrainEvalCallback(Callback):\n",
    "  \n",
    "  def begin_fit(self):\n",
    "    self.run.n_epochs = 0.\n",
    "    self.run.n_iter = 0\n",
    "    \n",
    "  def after_batch(self):\n",
    "    if not self.in_train: return\n",
    "    self.run.n_epochs += 1/ self.iters\n",
    "    self.run.n_iter += 1\n",
    "\n",
    "  def begin_epoch(self):\n",
    "    self.run.n_epochs = self.epoch\n",
    "    self.model.train()\n",
    "    self.run.in_train = True\n",
    "    \n",
    "  def begin_validate(self):\n",
    "    self.model.eval()\n",
    "    self.run.in_train = False"
   ]
  },
  {
   "cell_type": "code",
   "execution_count": 0,
   "metadata": {
    "colab": {},
    "colab_type": "code",
    "id": "gfuCfwbFON45"
   },
   "outputs": [],
   "source": [
    "class TestCallback(Callback):\n",
    "  def after_step(self):\n",
    "    if self.train_eval.n_iters >=10: return True"
   ]
  },
  {
   "cell_type": "code",
   "execution_count": 0,
   "metadata": {
    "colab": {
     "base_uri": "https://localhost:8080/",
     "height": 34
    },
    "colab_type": "code",
    "id": "bEjvG46dRE8M",
    "outputId": "f27a9377-2216-47a5-b773-b416ce872c08"
   },
   "outputs": [
    {
     "data": {
      "text/plain": [
       "'train_eval'"
      ]
     },
     "execution_count": 189,
     "metadata": {
      "tags": []
     },
     "output_type": "execute_result"
    }
   ],
   "source": [
    "TrainEvalCallback().name"
   ]
  },
  {
   "cell_type": "code",
   "execution_count": 0,
   "metadata": {
    "colab": {},
    "colab_type": "code",
    "id": "CZmzXOEwRJyz"
   },
   "outputs": [],
   "source": [
    "from typing import *\n",
    "\n",
    "def listify(o):\n",
    "  if o is None: return []\n",
    "  if isinstance(o, list): return o\n",
    "  if isinstance(o, str): return [o]\n",
    "  if isinstance(o, Iterable): return list(o)\n",
    "  return [o]"
   ]
  },
  {
   "cell_type": "code",
   "execution_count": 0,
   "metadata": {
    "colab": {},
    "colab_type": "code",
    "id": "91juLOZoRam6"
   },
   "outputs": [],
   "source": [
    "class Runner():\n",
    "  def __init__(self, cbs=None, cb_funcs=None):\n",
    "    cbs = listify(cbs)\n",
    "    for cbf in listify(cb_funcs):\n",
    "      cb = cbf()\n",
    "      setattr(self, cb.name, cb)\n",
    "      cbs.append(cb)\n",
    "    self.stop = False\n",
    "    self.cbs = [TrainEvalCallback()] + cbs\n",
    "  \n",
    "  @property\n",
    "  def opt(self):    return self.learn.opt\n",
    "  \n",
    "  @property\n",
    "  def model(self):    return self.learn.model\n",
    "  \n",
    "  @property\n",
    "  def loss_func(self):    return self.learn.loss_func\n",
    "  \n",
    "  @property\n",
    "  def data(self):    return self.learn.data\n",
    "  \n",
    "  \n",
    "  def one_batch(self, xb, yb):\n",
    "    self.xb , self.yb = xb, yb\n",
    "    if self('begin_batch'): return\n",
    "    self.pred = self.model(self.xb)\n",
    "    if self('after_pred'): return\n",
    "    self.loss = self.loss_func(self.pred, self.yb)\n",
    "    if self('after_loss') or not self.in_train: return\n",
    "    self.loss.backward()\n",
    "    if self('after_backward'): return\n",
    "    self.opt.step()\n",
    "    if self('after_step'): return\n",
    "    self.opt.zero_grad()\n",
    "  \n",
    "  def all_batches(self, dl):\n",
    "    self.iters = len(dl)\n",
    "    for xb,yb in dl:\n",
    "      if self.stop: break\n",
    "      self.one_batch(xb,yb)\n",
    "      self('after_batch')\n",
    "    self.stop = False\n",
    "  \n",
    "  def fit(self, epochs, learn):\n",
    "    self.epochs , self.learn = epochs, learn\n",
    "    \n",
    "    try:\n",
    "      for cb in self.cbs:\n",
    "        cb.set_runner(self)\n",
    "        \n",
    "      if self('begin_fit'): return\n",
    "      for epoch in range(epochs):\n",
    "        self.epoch =  epoch\n",
    "        if not self('begin_epoch'):\n",
    "          self.all_batches(self.data.train_dl)\n",
    "\n",
    "        with torch.no_grad():\n",
    "          if not self('begin_validate'):\n",
    "            self.all_batches(self.data.valid_dl)\n",
    "        if self('after_epoch'): break\n",
    "    \n",
    "    finally:\n",
    "      self('after_fit')\n",
    "      self.learn = None\n",
    "  \n",
    "  \n",
    "  def __call__(self, cb_name):\n",
    "    for cb in sorted(self.cbs, key=(lambda x: x._order)):\n",
    "      f = getattr(cb, cb_name, None)\n",
    "      if f and f(): \n",
    "        return True\n",
    "    return False\n",
    "    "
   ]
  },
  {
   "cell_type": "code",
   "execution_count": 0,
   "metadata": {
    "colab": {},
    "colab_type": "code",
    "id": "AXkrOQwSRxcv"
   },
   "outputs": [],
   "source": [
    "r = Runner()"
   ]
  },
  {
   "cell_type": "code",
   "execution_count": 0,
   "metadata": {
    "colab": {},
    "colab_type": "code",
    "id": "oFRqsO5iSkBD"
   },
   "outputs": [],
   "source": [
    "#export\n",
    "class AvgStats():\n",
    "    def __init__(self, metrics, in_train): self.metrics,self.in_train = listify(metrics),in_train\n",
    "    \n",
    "    def reset(self):\n",
    "        self.tot_loss,self.count = 0.,0\n",
    "        self.tot_mets = [0.] * len(self.metrics)\n",
    "        \n",
    "    @property\n",
    "    def all_stats(self): return [self.tot_loss.item()] + self.tot_mets\n",
    "    @property\n",
    "    def avg_stats(self): return [o/self.count for o in self.all_stats]\n",
    "    \n",
    "    def __repr__(self):\n",
    "        if not self.count: return \"\"\n",
    "        return f\"{'train' if self.in_train else 'valid'}: {self.avg_stats}\"\n",
    "\n",
    "    def accumulate(self, run):\n",
    "        bn = run.xb.shape[0]\n",
    "        self.tot_loss += run.loss * bn\n",
    "        self.count += bn\n",
    "        for i,m in enumerate(self.metrics):\n",
    "            self.tot_mets[i] += m(run.pred, run.yb) * bn\n",
    "\n",
    "class AvgStatsCallback(Callback):\n",
    "    def __init__(self, metrics):\n",
    "        self.train_stats,self.valid_stats = AvgStats(metrics,True),AvgStats(metrics,False)\n",
    "\n",
    "    def begin_epoch(self):\n",
    "        self.train_stats.reset()\n",
    "        self.valid_stats.reset()\n",
    "        \n",
    "    def after_loss(self):\n",
    "        stats = self.train_stats if self.in_train else self.valid_stats\n",
    "        with torch.no_grad(): stats.accumulate(self.run)\n",
    "    \n",
    "    def after_epoch(self):\n",
    "        print(self.train_stats)\n",
    "        print(self.valid_stats)"
   ]
  },
  {
   "cell_type": "code",
   "execution_count": 0,
   "metadata": {
    "colab": {},
    "colab_type": "code",
    "id": "i8a7H9-lVtu1"
   },
   "outputs": [],
   "source": [
    "learn = Learner(*get_model(data), loss_func, data)"
   ]
  },
  {
   "cell_type": "code",
   "execution_count": 0,
   "metadata": {
    "colab": {},
    "colab_type": "code",
    "id": "yHZP3R_mV0JT"
   },
   "outputs": [],
   "source": [
    "stats = AvgStatsCallback([accuracy])\n",
    "run = Runner(cbs=stats)"
   ]
  },
  {
   "cell_type": "code",
   "execution_count": 0,
   "metadata": {
    "colab": {
     "base_uri": "https://localhost:8080/",
     "height": 84
    },
    "colab_type": "code",
    "id": "KCz0TKvoWHUK",
    "outputId": "6c437f7f-3e25-40d3-8d85-c4e265a82bb8"
   },
   "outputs": [
    {
     "name": "stdout",
     "output_type": "stream",
     "text": [
      "train: [0.31283396484375, tensor(0.9040)]\n",
      "valid: [0.16162254638671875, tensor(0.9530)]\n",
      "train: [0.145072255859375, tensor(0.9562)]\n",
      "valid: [0.336166357421875, tensor(0.9029)]\n"
     ]
    }
   ],
   "source": [
    "run.fit(2, learn)"
   ]
  },
  {
   "cell_type": "code",
   "execution_count": 0,
   "metadata": {
    "colab": {},
    "colab_type": "code",
    "id": "ksk74tXyWNI-"
   },
   "outputs": [],
   "source": [
    "# stats.train_stats.avg_stats"
   ]
  },
  {
   "cell_type": "code",
   "execution_count": 0,
   "metadata": {
    "colab": {},
    "colab_type": "code",
    "id": "xOujP_eMXBka"
   },
   "outputs": [],
   "source": [
    "from functools import partial\n",
    "\n",
    "acc_cbf = partial(AvgStatsCallback, accuracy)\n",
    "run = Runner(cb_funcs=acc_cbf)"
   ]
  },
  {
   "cell_type": "code",
   "execution_count": 0,
   "metadata": {
    "colab": {
     "base_uri": "https://localhost:8080/",
     "height": 50
    },
    "colab_type": "code",
    "id": "ZTW6ms_hXWXD",
    "outputId": "1b7ea20e-450c-48a0-9a50-6e1f01519522"
   },
   "outputs": [
    {
     "name": "stdout",
     "output_type": "stream",
     "text": [
      "train: [0.111758173828125, tensor(0.9657)]\n",
      "valid: [0.15669407958984374, tensor(0.9561)]\n"
     ]
    }
   ],
   "source": [
    "run.fit(1, learn)"
   ]
  },
  {
   "cell_type": "code",
   "execution_count": 0,
   "metadata": {
    "colab": {
     "base_uri": "https://localhost:8080/",
     "height": 34
    },
    "colab_type": "code",
    "id": "8b3IoGDHXXcb",
    "outputId": "74317dfb-e3ad-43f9-91ae-d596f120a4b3"
   },
   "outputs": [
    {
     "data": {
      "text/plain": [
       "train: [0.111758173828125, tensor(0.9657)]"
      ]
     },
     "execution_count": 204,
     "metadata": {
      "tags": []
     },
     "output_type": "execute_result"
    }
   ],
   "source": [
    "run.avg_stats.train_stats"
   ]
  },
  {
   "cell_type": "code",
   "execution_count": 0,
   "metadata": {
    "colab": {
     "base_uri": "https://localhost:8080/",
     "height": 34
    },
    "colab_type": "code",
    "id": "LD4PB9NpXcSm",
    "outputId": "deb3b43b-b072-47c9-a98b-2f41dcaa613d",
    "scrolled": true
   },
   "outputs": [
    {
     "data": {
      "text/plain": [
       "valid: [0.15669407958984374, tensor(0.9561)]"
      ]
     },
     "execution_count": 205,
     "metadata": {
      "tags": []
     },
     "output_type": "execute_result"
    }
   ],
   "source": [
    "run.avg_stats.valid_stats"
   ]
  },
  {
   "cell_type": "code",
   "execution_count": 1,
   "metadata": {
    "colab": {},
    "colab_type": "code",
    "id": "ZyIbIEFYXfN_"
   },
   "outputs": [],
   "source": [
    "from functools import partial"
   ]
  },
  {
   "cell_type": "code",
   "execution_count": null,
   "metadata": {},
   "outputs": [],
   "source": []
  }
 ],
 "metadata": {
  "accelerator": "GPU",
  "colab": {
   "collapsed_sections": [],
   "name": "DataBunch Learner fit Callbacks.ipynb",
   "provenance": [],
   "toc_visible": true,
   "version": "0.3.2"
  },
  "kernelspec": {
   "display_name": "Python 3",
   "language": "python",
   "name": "python3"
  },
  "language_info": {
   "codemirror_mode": {
    "name": "ipython",
    "version": 3
   },
   "file_extension": ".py",
   "mimetype": "text/x-python",
   "name": "python",
   "nbconvert_exporter": "python",
   "pygments_lexer": "ipython3",
   "version": "3.7.3"
  }
 },
 "nbformat": 4,
 "nbformat_minor": 1
}
