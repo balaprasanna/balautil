{
 "cells": [
  {
   "cell_type": "markdown",
   "metadata": {
    "colab_type": "text",
    "id": "KETH7SRfUpm2"
   },
   "source": [
    "---\n",
    "- DataBunch \n",
    "- Learner\n",
    "- fit\n",
    "- Callbacks\n",
    "---"
   ]
  },
  {
   "cell_type": "code",
   "execution_count": 0,
   "metadata": {
    "colab": {},
    "colab_type": "code",
    "id": "HnH61-Wlm_xx"
   },
   "outputs": [],
   "source": [
    "# Download datasets\n",
    "\n",
    "# !wget http://deeplearning.net/data/mnist/mnist.pkl.gz\n",
    "# !mkdir mnist\n",
    "# !mv mnist.pkl.gz ./mnist"
   ]
  },
  {
   "cell_type": "code",
   "execution_count": 0,
   "metadata": {
    "colab": {},
    "colab_type": "code",
    "id": "ysXkR73fm_2D"
   },
   "outputs": [],
   "source": [
    "# Imports\n",
    "%matplotlib inline\n",
    "from fastai.basics import *"
   ]
  },
  {
   "cell_type": "markdown",
   "metadata": {
    "colab_type": "text",
    "id": "pS0QxHxWfrea"
   },
   "source": [
    "## Bala Utils"
   ]
  },
  {
   "cell_type": "code",
   "execution_count": 1,
   "metadata": {
    "colab": {},
    "colab_type": "code",
    "id": "zfWmSvEPnzTi"
   },
   "outputs": [],
   "source": [
    "def bala_show1img(x, shape, cmap=\"gray\", ax=None):\n",
    "  tmp = x.reshape(shape)\n",
    "  if ax:\n",
    "    ax.imshow(tmp, cmap=cmap)\n",
    "    ax.axis('off')\n",
    "  else:\n",
    "    plt.imshow(tmp, cmap=cmap)\n",
    "    plt.axis('off')\n",
    "  \n",
    "def bala_show1img_ds(x, shape=(28,28), cmap=\"gray\", ax=None):\n",
    "  inp, tar = x #to unwrap the tuple..\n",
    "  tmp = inp.reshape(shape)\n",
    "  if ax:\n",
    "    ax.imshow(tmp, cmap=cmap)\n",
    "    ax.axis('off')\n",
    "  else:\n",
    "    plt.imshow(tmp, cmap=cmap)\n",
    "    plt.axis('off')\n",
    "    \n",
    "def bala_show_random(x, n=5, figsize=(10,10), cmap=\"gray\"):\n",
    "  len_x = len(x)\n",
    "  fig, ax = plt.subplots(nrows=1, ncols=n, figsize=figsize)\n",
    "  for i in range(n):\n",
    "    rand_idx = random.randint(0, len_x)\n",
    "    bala_show1img(x[rand_idx], shape=(28,28), ax=ax[i], cmap=cmap)"
   ]
  },
  {
   "cell_type": "code",
   "execution_count": 0,
   "metadata": {
    "colab": {},
    "colab_type": "code",
    "id": "KQo4fHNmgJkA"
   },
   "outputs": [],
   "source": []
  },
  {
   "cell_type": "markdown",
   "metadata": {
    "colab_type": "text",
    "id": "EIVGSlnwf2p4"
   },
   "source": [
    "## Load Datasets"
   ]
  },
  {
   "cell_type": "markdown",
   "metadata": {
    "colab_type": "text",
    "id": "eIdYyaiTEjyH"
   },
   "source": [
    "## Params & Hyper params"
   ]
  },
  {
   "cell_type": "code",
   "execution_count": 0,
   "metadata": {
    "colab": {},
    "colab_type": "code",
    "id": "IlJapxGkR1Fp"
   },
   "outputs": [],
   "source": [
    "# DataBunch??"
   ]
  },
  {
   "cell_type": "code",
   "execution_count": 2,
   "metadata": {
    "colab": {},
    "colab_type": "code",
    "id": "IYhP9sSQrNvo"
   },
   "outputs": [],
   "source": [
    "## Starting Point\n",
    "\n",
    "\n",
    "import operator\n",
    "\n",
    "def test(a,b,cmp,cname=None):\n",
    "    if cname is None: cname=cmp.__name__\n",
    "    assert cmp(a,b),f\"{cname}:\\n{a}\\n{b}\"\n",
    "\n",
    "def test_eq(a,b): test(a,b,operator.eq,'==')\n",
    "\n",
    "from pathlib import Path\n",
    "from IPython.core.debugger import set_trace\n",
    "from fastai import datasets\n",
    "import pickle, gzip, math, torch, matplotlib as mpl\n",
    "import matplotlib.pyplot as plt\n",
    "from torch import tensor\n",
    "\n",
    "MNIST_URL='http://deeplearning.net/data/mnist/mnist.pkl'\n",
    "\n",
    "def near(a,b): return torch.allclose(a, b, rtol=1e-3, atol=1e-5)\n",
    "def test_near(a,b): test(a,b,near)\n",
    "  \n",
    "\n",
    "def get_data():\n",
    "    path = datasets.download_data(MNIST_URL, ext='.gz')\n",
    "    with gzip.open(path, 'rb') as f:\n",
    "        ((x_train, y_train), (x_valid, y_valid), _) = pickle.load(f, encoding='latin-1')\n",
    "    return map(tensor, (x_train,y_train,x_valid,y_valid))\n",
    "\n",
    "def normalize(x, m, s): return (x-m)/s\n",
    "\n",
    "def test_near_zero(a,tol=1e-3): assert a.abs()<tol, f\"Near zero: {a}\"\n",
    "\n",
    "from torch.nn import init\n",
    "\n",
    "def mse(output, targ): return (output.squeeze(-1) - targ).pow(2).mean()\n",
    "\n",
    "from torch import nn\n",
    "import torch.nn.functional as F\n"
   ]
  },
  {
   "cell_type": "code",
   "execution_count": 3,
   "metadata": {
    "colab": {},
    "colab_type": "code",
    "id": "ZQGJrh30rpHI"
   },
   "outputs": [],
   "source": [
    "x_train,y_train,x_valid,y_valid = get_data()"
   ]
  },
  {
   "cell_type": "code",
   "execution_count": 4,
   "metadata": {
    "colab": {
     "base_uri": "https://localhost:8080/",
     "height": 34
    },
    "colab_type": "code",
    "id": "Chf9EDnmrweP",
    "outputId": "e49d706f-9da5-48f8-94b1-1bfdcae94aa6"
   },
   "outputs": [
    {
     "name": "stdout",
     "output_type": "stream",
     "text": [
      "50000 784 tensor(10) 50\n"
     ]
    }
   ],
   "source": [
    "n,m = x_train.shape\n",
    "c = y_train.max()+1\n",
    "nh = 50\n",
    "\n",
    "print(n,m,c,nh)"
   ]
  },
  {
   "cell_type": "code",
   "execution_count": 5,
   "metadata": {
    "colab": {},
    "colab_type": "code",
    "id": "GGc4A5uMSxYV"
   },
   "outputs": [],
   "source": [
    "class Model(nn.Module):\n",
    "    def __init__(self, n_in, nh, n_out):\n",
    "        super().__init__()\n",
    "        self.layers = [nn.Linear(n_in,nh), nn.ReLU(), nn.Linear(nh,n_out)]\n",
    "        \n",
    "    def __call__(self, x):\n",
    "        for l in self.layers: x = l(x)\n",
    "        return x"
   ]
  },
  {
   "cell_type": "code",
   "execution_count": 6,
   "metadata": {
    "colab": {},
    "colab_type": "code",
    "id": "MdrfTKfksASm"
   },
   "outputs": [],
   "source": [
    "n_out = int(c)\n",
    "model = Model(m, nh, n_out)\n",
    "pred = model(x_train)"
   ]
  },
  {
   "cell_type": "code",
   "execution_count": 7,
   "metadata": {
    "colab": {
     "base_uri": "https://localhost:8080/",
     "height": 34
    },
    "colab_type": "code",
    "id": "Z4LWEQo4pEeE",
    "outputId": "186403eb-b82b-43c3-ef5c-b41eefa90e5d"
   },
   "outputs": [
    {
     "data": {
      "text/plain": [
       "tensor(2.2997, grad_fn=<NegBackward>)"
      ]
     },
     "execution_count": 7,
     "metadata": {},
     "output_type": "execute_result"
    }
   ],
   "source": [
    "def log_softmax(x):\n",
    "  return (x.exp()/  (x.exp().sum(-1, keepdim=True))).log()\n",
    "\n",
    "sm_pred = log_softmax(pred)\n",
    "\n",
    "def nll(input, target): \n",
    "  return -input[range(target.shape[0]), target].mean()\n",
    "\n",
    "loss = nll(sm_pred, y_train)\n",
    "loss"
   ]
  },
  {
   "cell_type": "code",
   "execution_count": 8,
   "metadata": {
    "colab": {},
    "colab_type": "code",
    "id": "ynnx86DytO0e"
   },
   "outputs": [],
   "source": [
    "def log_softmax(x): \n",
    "  return x - x.exp().sum(-1,keepdim=True).log()\n",
    "\n",
    "test_near(nll(log_softmax(pred), y_train), loss)"
   ]
  },
  {
   "cell_type": "code",
   "execution_count": 9,
   "metadata": {
    "colab": {},
    "colab_type": "code",
    "id": "PqPY1793tc1P"
   },
   "outputs": [],
   "source": [
    "test_near(F.cross_entropy(pred, y_train), loss)"
   ]
  },
  {
   "cell_type": "markdown",
   "metadata": {
    "colab_type": "text",
    "id": "2lNJqFUzth_R"
   },
   "source": [
    "## Basic Training Loop"
   ]
  },
  {
   "cell_type": "code",
   "execution_count": 10,
   "metadata": {
    "colab": {},
    "colab_type": "code",
    "id": "JEuBBbnhtjFB"
   },
   "outputs": [],
   "source": [
    "## Basic Training Loop"
   ]
  },
  {
   "cell_type": "code",
   "execution_count": 11,
   "metadata": {
    "colab": {},
    "colab_type": "code",
    "id": "7IIyNgF1uWsn"
   },
   "outputs": [],
   "source": [
    "loss_func = F.cross_entropy\n"
   ]
  },
  {
   "cell_type": "code",
   "execution_count": 12,
   "metadata": {
    "colab": {},
    "colab_type": "code",
    "id": "CH_0tqYiuaYy"
   },
   "outputs": [],
   "source": [
    "def accuracy(pred, targ):\n",
    "  return (torch.argmax(pred, dim=1) == targ).float().mean()"
   ]
  },
  {
   "cell_type": "code",
   "execution_count": 13,
   "metadata": {
    "colab": {
     "base_uri": "https://localhost:8080/",
     "height": 50
    },
    "colab_type": "code",
    "id": "aj3o-Mp2uoVL",
    "outputId": "81e5e28a-b868-4b82-cb9a-b47af0a9acfc"
   },
   "outputs": [
    {
     "data": {
      "text/plain": [
       "(tensor([-0.1346,  0.0946, -0.1514,  0.1288,  0.0144,  0.0307,  0.1355, -0.0128,\n",
       "         -0.1794, -0.0358], grad_fn=<SelectBackward>), torch.Size([64, 10]))"
      ]
     },
     "execution_count": 13,
     "metadata": {},
     "output_type": "execute_result"
    }
   ],
   "source": [
    "bs = 64\n",
    "\n",
    "xb = x_train[0: bs]\n",
    "preds = model(xb)\n",
    "preds[0], preds.shape"
   ]
  },
  {
   "cell_type": "code",
   "execution_count": 14,
   "metadata": {
    "colab": {},
    "colab_type": "code",
    "id": "yrxyCcR9urOQ"
   },
   "outputs": [],
   "source": [
    "yb = y_train[0:bs]"
   ]
  },
  {
   "cell_type": "code",
   "execution_count": 15,
   "metadata": {
    "colab": {
     "base_uri": "https://localhost:8080/",
     "height": 34
    },
    "colab_type": "code",
    "id": "ghnnonAIu6G4",
    "outputId": "a708b178-afad-4a7d-d656-54eabc104260"
   },
   "outputs": [
    {
     "data": {
      "text/plain": [
       "tensor(2.2920, grad_fn=<NllLossBackward>)"
      ]
     },
     "execution_count": 15,
     "metadata": {},
     "output_type": "execute_result"
    }
   ],
   "source": [
    "loss_func(preds, yb)"
   ]
  },
  {
   "cell_type": "code",
   "execution_count": 16,
   "metadata": {
    "colab": {
     "base_uri": "https://localhost:8080/",
     "height": 34
    },
    "colab_type": "code",
    "id": "WSnzmILOvBYW",
    "outputId": "c8c0dcbc-ace0-4e8f-b881-de05ac728b99"
   },
   "outputs": [
    {
     "data": {
      "text/plain": [
       "tensor(0.1562)"
      ]
     },
     "execution_count": 16,
     "metadata": {},
     "output_type": "execute_result"
    }
   ],
   "source": [
    "accuracy(preds, yb)"
   ]
  },
  {
   "cell_type": "code",
   "execution_count": 17,
   "metadata": {
    "colab": {},
    "colab_type": "code",
    "id": "binhVP_avGBR"
   },
   "outputs": [],
   "source": [
    "lr = 0.5\n",
    "epochs = 1"
   ]
  },
  {
   "cell_type": "code",
   "execution_count": 18,
   "metadata": {
    "colab": {},
    "colab_type": "code",
    "id": "m_7TyntdvTbN"
   },
   "outputs": [],
   "source": [
    "n , n//bs\n",
    "epochs= 1"
   ]
  },
  {
   "cell_type": "code",
   "execution_count": 19,
   "metadata": {
    "colab": {},
    "colab_type": "code",
    "id": "2hGeEbxXvJWH"
   },
   "outputs": [],
   "source": [
    "for epoch in range(epochs):\n",
    "  for idx in range(0, n, bs):\n",
    "    \n",
    "    xb = x_train[idx: idx+bs]\n",
    "    yb = y_train[idx: idx+bs]\n",
    "    \n",
    "    loss = loss_func( model(xb), yb)\n",
    "    \n",
    "    loss.backward()\n",
    "    with torch.no_grad():\n",
    "      for l in model.layers:\n",
    "        if hasattr(l, 'weight'):\n",
    "          l.weight -= l.weight.grad * lr\n",
    "          l.bias -= l.bias.grad * lr\n",
    "          l.weight.grad.zero_()\n",
    "          l.bias.grad.zero_()"
   ]
  },
  {
   "cell_type": "code",
   "execution_count": 20,
   "metadata": {
    "colab": {
     "base_uri": "https://localhost:8080/",
     "height": 34
    },
    "colab_type": "code",
    "id": "9DQ5E0__vjca",
    "outputId": "0eba1d0e-44d7-4157-b15a-123cc146e92c"
   },
   "outputs": [
    {
     "data": {
      "text/plain": [
       "tensor(1.)"
      ]
     },
     "execution_count": 20,
     "metadata": {},
     "output_type": "execute_result"
    }
   ],
   "source": [
    "accuracy(model(xb), yb)"
   ]
  },
  {
   "cell_type": "code",
   "execution_count": 21,
   "metadata": {
    "colab": {},
    "colab_type": "code",
    "id": "l7kRqhY4xXPx"
   },
   "outputs": [],
   "source": [
    "# Using parameters and optim"
   ]
  },
  {
   "cell_type": "code",
   "execution_count": 22,
   "metadata": {
    "colab": {},
    "colab_type": "code",
    "id": "Z73m32orx_Zg"
   },
   "outputs": [],
   "source": [
    "class Model(nn.Module):\n",
    "  def __init__(self, n_in, nh, n_out):\n",
    "    super().__init__()\n",
    "    \n",
    "    self.l1 = nn.Linear(n_in, nh)\n",
    "    self.l2 = nn.Linear(nh, n_out)\n",
    "    \n",
    "  def __call__(self, x): \n",
    "    return self.l2( F.relu( self.l1(x) ))"
   ]
  },
  {
   "cell_type": "code",
   "execution_count": 23,
   "metadata": {
    "colab": {
     "base_uri": "https://localhost:8080/",
     "height": 84
    },
    "colab_type": "code",
    "id": "rDKN42Htya1p",
    "outputId": "b7ebc000-e8a9-4e93-aa78-3048fbf20c92"
   },
   "outputs": [
    {
     "data": {
      "text/plain": [
       "Model(\n",
       "  (l1): Linear(in_features=784, out_features=50, bias=True)\n",
       "  (l2): Linear(in_features=50, out_features=10, bias=True)\n",
       ")"
      ]
     },
     "execution_count": 23,
     "metadata": {},
     "output_type": "execute_result"
    }
   ],
   "source": [
    "model = Model(m, nh, n_out)\n",
    "model"
   ]
  },
  {
   "cell_type": "code",
   "execution_count": 24,
   "metadata": {
    "colab": {
     "base_uri": "https://localhost:8080/",
     "height": 50
    },
    "colab_type": "code",
    "id": "wkowkM9Byead",
    "outputId": "3067cc2c-7237-4e2a-b7b2-a87df22049d1"
   },
   "outputs": [
    {
     "name": "stdout",
     "output_type": "stream",
     "text": [
      "l1: Linear(in_features=784, out_features=50, bias=True)\n",
      "l2: Linear(in_features=50, out_features=10, bias=True)\n"
     ]
    }
   ],
   "source": [
    "for name,l in model.named_children(): \n",
    "  print(f\"{name}: {l}\")"
   ]
  },
  {
   "cell_type": "code",
   "execution_count": 25,
   "metadata": {
    "colab": {
     "base_uri": "https://localhost:8080/",
     "height": 34
    },
    "colab_type": "code",
    "id": "ftxjV5Y9ymSa",
    "outputId": "68ec69b4-2320-4bc8-db95-1af5dee3f6ae"
   },
   "outputs": [
    {
     "data": {
      "text/plain": [
       "Linear(in_features=784, out_features=50, bias=True)"
      ]
     },
     "execution_count": 25,
     "metadata": {},
     "output_type": "execute_result"
    }
   ],
   "source": [
    "model.l1"
   ]
  },
  {
   "cell_type": "code",
   "execution_count": 26,
   "metadata": {
    "colab": {},
    "colab_type": "code",
    "id": "wfeeLQRnyoZy"
   },
   "outputs": [],
   "source": [
    "def fit():\n",
    "  for epoch in range(epochs):\n",
    "    for idx in range(0, n, bs):\n",
    "      xb = x_train[idx: idx+bs]\n",
    "      yb = y_train[idx: idx+bs]\n",
    "      \n",
    "      loss = loss_func( model(xb), yb)\n",
    "\n",
    "      loss.backward()\n",
    "      with torch.no_grad():\n",
    "        for p in model.parameters(): p -= p.grad * lr\n",
    "        model.zero_grad()"
   ]
  },
  {
   "cell_type": "code",
   "execution_count": 27,
   "metadata": {
    "colab": {},
    "colab_type": "code",
    "id": "Ticj0RDozBKS"
   },
   "outputs": [],
   "source": [
    "fit()"
   ]
  },
  {
   "cell_type": "code",
   "execution_count": 28,
   "metadata": {
    "colab": {
     "base_uri": "https://localhost:8080/",
     "height": 34
    },
    "colab_type": "code",
    "id": "vE9eSm7FzCsF",
    "outputId": "065b7817-0438-4c75-c8bc-40749253e416"
   },
   "outputs": [
    {
     "data": {
      "text/plain": [
       "(tensor(0.2041, grad_fn=<NllLossBackward>), tensor(0.9375))"
      ]
     },
     "execution_count": 28,
     "metadata": {},
     "output_type": "execute_result"
    }
   ],
   "source": [
    "loss_func(model(xb), yb) , accuracy(model(xb), yb)"
   ]
  },
  {
   "cell_type": "code",
   "execution_count": 29,
   "metadata": {
    "colab": {},
    "colab_type": "code",
    "id": "9cFDS4ctzMCL"
   },
   "outputs": [],
   "source": [
    "layers = [nn.Linear(m,nh), nn.ReLU(), nn.Linear(nh,10)]\n",
    "\n",
    "class Model(nn.Module):\n",
    "  def __init__(self, layers):\n",
    "    super().__init__()\n",
    "    \n",
    "    self.layers = layers\n",
    "    for i,l in enumerate(layers):\n",
    "      self.add_module(f'layer_{i}', l)\n",
    "    \n",
    "  def __call__(self, x): \n",
    "    for l in self.layers: x = l(x)\n",
    "    return x"
   ]
  },
  {
   "cell_type": "code",
   "execution_count": 30,
   "metadata": {
    "colab": {},
    "colab_type": "code",
    "id": "imFofPvHzsTc"
   },
   "outputs": [],
   "source": [
    "model = Model(layers)"
   ]
  },
  {
   "cell_type": "code",
   "execution_count": 31,
   "metadata": {
    "colab": {
     "base_uri": "https://localhost:8080/",
     "height": 101
    },
    "colab_type": "code",
    "id": "9GK3gCjdzuHo",
    "outputId": "1aba9ce6-9e4b-42a6-b81b-a1c324f1265c"
   },
   "outputs": [
    {
     "data": {
      "text/plain": [
       "Model(\n",
       "  (layer_0): Linear(in_features=784, out_features=50, bias=True)\n",
       "  (layer_1): ReLU()\n",
       "  (layer_2): Linear(in_features=50, out_features=10, bias=True)\n",
       ")"
      ]
     },
     "execution_count": 31,
     "metadata": {},
     "output_type": "execute_result"
    }
   ],
   "source": [
    "model"
   ]
  },
  {
   "cell_type": "code",
   "execution_count": 32,
   "metadata": {
    "colab": {},
    "colab_type": "code",
    "id": "mjCPlslIzu8P"
   },
   "outputs": [],
   "source": [
    "layers = [nn.Linear(m,nh), nn.ReLU(), nn.Linear(nh,10)]\n",
    "\n",
    "class Model(nn.Module):\n",
    "  def __init__(self, layers):\n",
    "    super().__init__()\n",
    "    \n",
    "    self.layers = nn.ModuleList(layers)\n",
    "    \n",
    "  def __call__(self, x): \n",
    "    for l in self.layers: x = l(x)\n",
    "    return x"
   ]
  },
  {
   "cell_type": "code",
   "execution_count": 33,
   "metadata": {
    "colab": {
     "base_uri": "https://localhost:8080/",
     "height": 134
    },
    "colab_type": "code",
    "id": "OisYkEsQz6wH",
    "outputId": "c083d235-0c38-425f-f56e-730e77869c30"
   },
   "outputs": [
    {
     "data": {
      "text/plain": [
       "Model(\n",
       "  (layers): ModuleList(\n",
       "    (0): Linear(in_features=784, out_features=50, bias=True)\n",
       "    (1): ReLU()\n",
       "    (2): Linear(in_features=50, out_features=10, bias=True)\n",
       "  )\n",
       ")"
      ]
     },
     "execution_count": 33,
     "metadata": {},
     "output_type": "execute_result"
    }
   ],
   "source": [
    "model = Model(layers)\n",
    "model"
   ]
  },
  {
   "cell_type": "code",
   "execution_count": 34,
   "metadata": {
    "colab": {},
    "colab_type": "code",
    "id": "iqsEF3Jvz8li"
   },
   "outputs": [],
   "source": [
    "# model.layers.named_children"
   ]
  },
  {
   "cell_type": "code",
   "execution_count": 35,
   "metadata": {
    "colab": {
     "base_uri": "https://localhost:8080/",
     "height": 34
    },
    "colab_type": "code",
    "id": "-CXai8R6z_ve",
    "outputId": "396e3785-b567-4c28-85ff-7e0a5943c115"
   },
   "outputs": [
    {
     "data": {
      "text/plain": [
       "(tensor(0.3358, grad_fn=<NllLossBackward>), tensor(0.9375))"
      ]
     },
     "execution_count": 35,
     "metadata": {},
     "output_type": "execute_result"
    }
   ],
   "source": [
    "fit()\n",
    "loss_func(model(xb), yb), accuracy(model(xb), yb)"
   ]
  },
  {
   "cell_type": "code",
   "execution_count": 36,
   "metadata": {
    "colab": {},
    "colab_type": "code",
    "id": "5tSUqL4V0QGk"
   },
   "outputs": [],
   "source": [
    "# nn.Sequential\n"
   ]
  },
  {
   "cell_type": "code",
   "execution_count": 37,
   "metadata": {
    "colab": {},
    "colab_type": "code",
    "id": "_swce4J40UHv"
   },
   "outputs": [],
   "source": [
    "model = nn.Sequential(\n",
    "    nn.Linear(m,nh), \n",
    "    nn.ReLU(), \n",
    "    nn.Linear(nh,10))"
   ]
  },
  {
   "cell_type": "code",
   "execution_count": 38,
   "metadata": {
    "colab": {
     "base_uri": "https://localhost:8080/",
     "height": 34
    },
    "colab_type": "code",
    "id": "fERxbMGq0W3j",
    "outputId": "e21508d9-0751-45f2-d92c-e293a607bd87"
   },
   "outputs": [
    {
     "data": {
      "text/plain": [
       "(tensor(0.1906, grad_fn=<NllLossBackward>), tensor(0.9375))"
      ]
     },
     "execution_count": 38,
     "metadata": {},
     "output_type": "execute_result"
    }
   ],
   "source": [
    "fit()\n",
    "loss_func(model(xb), yb), accuracy(model(xb), yb)"
   ]
  },
  {
   "cell_type": "code",
   "execution_count": 39,
   "metadata": {
    "colab": {
     "base_uri": "https://localhost:8080/",
     "height": 101
    },
    "colab_type": "code",
    "id": "NaXGYPTK0bNN",
    "outputId": "30493485-9042-479c-f559-324672460247"
   },
   "outputs": [
    {
     "data": {
      "text/plain": [
       "Sequential(\n",
       "  (0): Linear(in_features=784, out_features=50, bias=True)\n",
       "  (1): ReLU()\n",
       "  (2): Linear(in_features=50, out_features=10, bias=True)\n",
       ")"
      ]
     },
     "execution_count": 39,
     "metadata": {},
     "output_type": "execute_result"
    }
   ],
   "source": [
    "model"
   ]
  },
  {
   "cell_type": "code",
   "execution_count": 40,
   "metadata": {
    "colab": {},
    "colab_type": "code",
    "id": "1O47hu6d0eiy"
   },
   "outputs": [],
   "source": [
    "fit??"
   ]
  },
  {
   "cell_type": "code",
   "execution_count": 41,
   "metadata": {
    "colab": {},
    "colab_type": "code",
    "id": "dXPwlwQt0gv3"
   },
   "outputs": [],
   "source": [
    "## Optimizer"
   ]
  },
  {
   "cell_type": "code",
   "execution_count": 42,
   "metadata": {
    "colab": {},
    "colab_type": "code",
    "id": "IVFQJomi0lec"
   },
   "outputs": [],
   "source": [
    "class Optimizer():\n",
    "  \n",
    "  def __init__(self, params, lr=0.5):\n",
    "    self.params = list(params) # turn the generator into values,, using list\n",
    "    self.lr = lr\n",
    "    \n",
    "  def step(self):\n",
    "    with torch.no_grad():\n",
    "      for p in self.params: p -= p.grad * self.lr\n",
    "  \n",
    "  def zero_grad(self):\n",
    "    for p in self.params: p.grad.data.zero_()\n",
    "  "
   ]
  },
  {
   "cell_type": "code",
   "execution_count": 43,
   "metadata": {
    "colab": {},
    "colab_type": "code",
    "id": "QufC_Z7i1Vgk"
   },
   "outputs": [],
   "source": [
    "model = nn.Sequential(nn.Linear(m,nh), nn.ReLU(), nn.Linear(nh,10))"
   ]
  },
  {
   "cell_type": "code",
   "execution_count": 44,
   "metadata": {
    "colab": {},
    "colab_type": "code",
    "id": "ITuHhHZT1YWn"
   },
   "outputs": [],
   "source": [
    "opt = Optimizer(model.parameters())"
   ]
  },
  {
   "cell_type": "code",
   "execution_count": 45,
   "metadata": {
    "colab": {},
    "colab_type": "code",
    "id": "-LIWu1au1ca_"
   },
   "outputs": [],
   "source": [
    "# opt.params"
   ]
  },
  {
   "cell_type": "code",
   "execution_count": 46,
   "metadata": {
    "colab": {},
    "colab_type": "code",
    "id": "LeMyEuzC1h-a"
   },
   "outputs": [],
   "source": [
    "fit??"
   ]
  },
  {
   "cell_type": "code",
   "execution_count": 47,
   "metadata": {
    "colab": {},
    "colab_type": "code",
    "id": "qPU1Vi1v13SZ"
   },
   "outputs": [],
   "source": [
    "def fit():\n",
    "  for epoch in range(epochs):\n",
    "    for idx in range(0, n, bs):\n",
    "      xb = x_train[idx: idx+bs]\n",
    "      yb = y_train[idx: idx+bs]\n",
    "      \n",
    "      loss = loss_func( model(xb), yb)\n",
    "\n",
    "      loss.backward()\n",
    "      opt.step()\n",
    "      opt.zero_grad()"
   ]
  },
  {
   "cell_type": "code",
   "execution_count": 48,
   "metadata": {
    "colab": {},
    "colab_type": "code",
    "id": "jYrt573S2CQi"
   },
   "outputs": [],
   "source": [
    "model = nn.Sequential(nn.Linear(m,nh), nn.ReLU(), nn.Linear(nh,10))\n",
    "opt = Optimizer(model.parameters())\n"
   ]
  },
  {
   "cell_type": "code",
   "execution_count": 49,
   "metadata": {
    "colab": {
     "base_uri": "https://localhost:8080/",
     "height": 34
    },
    "colab_type": "code",
    "id": "5VCrwiB82I53",
    "outputId": "f77cca59-c7f1-4db1-b626-192f53aefa88"
   },
   "outputs": [
    {
     "data": {
      "text/plain": [
       "(tensor(0.2264, grad_fn=<NllLossBackward>), tensor(0.9375))"
      ]
     },
     "execution_count": 49,
     "metadata": {},
     "output_type": "execute_result"
    }
   ],
   "source": [
    "fit()\n",
    "loss_func(model(xb), yb), accuracy(model(xb), yb)"
   ]
  },
  {
   "cell_type": "code",
   "execution_count": 50,
   "metadata": {
    "colab": {},
    "colab_type": "code",
    "id": "Qt-gC9cZ2JUK"
   },
   "outputs": [],
   "source": [
    "from torch import optim"
   ]
  },
  {
   "cell_type": "code",
   "execution_count": 51,
   "metadata": {
    "colab": {},
    "colab_type": "code",
    "id": "21GrEoEQ2R-4"
   },
   "outputs": [],
   "source": [
    "# optim.SGD.step??"
   ]
  },
  {
   "cell_type": "code",
   "execution_count": 52,
   "metadata": {
    "colab": {},
    "colab_type": "code",
    "id": "zJ-lYfvU2UGV"
   },
   "outputs": [],
   "source": [
    "def get_model():\n",
    "  model = nn.Sequential(nn.Linear(m,nh), nn.ReLU(), nn.Linear(nh,10))\n",
    "  opt =  optim.SGD(model.parameters(), lr=lr) #Optimizer(model.parameters())\n",
    "  return model, opt"
   ]
  },
  {
   "cell_type": "code",
   "execution_count": 53,
   "metadata": {
    "colab": {},
    "colab_type": "code",
    "id": "9-e5URoj2kMD"
   },
   "outputs": [],
   "source": [
    "model, opt = get_model()\n",
    "fit()"
   ]
  },
  {
   "cell_type": "code",
   "execution_count": 54,
   "metadata": {
    "colab": {
     "base_uri": "https://localhost:8080/",
     "height": 34
    },
    "colab_type": "code",
    "id": "aUGQEi572nXC",
    "outputId": "2404c286-7283-402d-db6a-878b7891c707"
   },
   "outputs": [
    {
     "data": {
      "text/plain": [
       "(tensor(0.1273, grad_fn=<NllLossBackward>), tensor(0.9375))"
      ]
     },
     "execution_count": 54,
     "metadata": {},
     "output_type": "execute_result"
    }
   ],
   "source": [
    "loss, acc = loss_func(model(xb), yb), accuracy(model(xb), yb)\n",
    "loss, acc"
   ]
  },
  {
   "cell_type": "code",
   "execution_count": 55,
   "metadata": {
    "colab": {},
    "colab_type": "code",
    "id": "gZFckwwc2rS4"
   },
   "outputs": [],
   "source": [
    "assert acc>0.7"
   ]
  },
  {
   "cell_type": "code",
   "execution_count": 56,
   "metadata": {
    "colab": {},
    "colab_type": "code",
    "id": "Ciw--YiL2z7P"
   },
   "outputs": [],
   "source": [
    "## Dataset and DataLoader"
   ]
  },
  {
   "cell_type": "code",
   "execution_count": 57,
   "metadata": {
    "colab": {},
    "colab_type": "code",
    "id": "cIB2uLCB239W"
   },
   "outputs": [],
   "source": [
    "class Dataset():\n",
    "  \n",
    "  def __init__(self, x,y):\n",
    "    self.x = x\n",
    "    self.y = y\n",
    "    \n",
    "  def __len__(self):\n",
    "    return len(self.x)\n",
    "  \n",
    "  def __getitem__(self, i):\n",
    "    return self.x[i], self.y[i]"
   ]
  },
  {
   "cell_type": "code",
   "execution_count": 58,
   "metadata": {
    "colab": {},
    "colab_type": "code",
    "id": "YLG4E8cG39L3"
   },
   "outputs": [],
   "source": [
    "train_ds = Dataset(x_train, y_train)\n",
    "valid_ds = Dataset(x_valid, y_valid)"
   ]
  },
  {
   "cell_type": "code",
   "execution_count": 59,
   "metadata": {
    "colab": {},
    "colab_type": "code",
    "id": "pyXxRrJs4JF2"
   },
   "outputs": [],
   "source": [
    "assert len(train_ds) == len(x_train)"
   ]
  },
  {
   "cell_type": "code",
   "execution_count": 60,
   "metadata": {
    "colab": {
     "base_uri": "https://localhost:8080/",
     "height": 34
    },
    "colab_type": "code",
    "id": "xv73TF5o4Mjm",
    "outputId": "2b91a885-b2ef-4f5a-f46f-998d4f3175b9"
   },
   "outputs": [
    {
     "data": {
      "text/plain": [
       "(torch.Size([5, 784]), tensor([5, 0, 4, 1, 9]))"
      ]
     },
     "execution_count": 60,
     "metadata": {},
     "output_type": "execute_result"
    }
   ],
   "source": [
    "xb, yb = train_ds[0:5]\n",
    "xb.shape, yb"
   ]
  },
  {
   "cell_type": "code",
   "execution_count": 61,
   "metadata": {
    "colab": {},
    "colab_type": "code",
    "id": "IV9ZmR2n4Tec"
   },
   "outputs": [],
   "source": [
    "model, opt = get_model()"
   ]
  },
  {
   "cell_type": "code",
   "execution_count": 62,
   "metadata": {
    "colab": {},
    "colab_type": "code",
    "id": "Xn17lCnr5RwK"
   },
   "outputs": [],
   "source": [
    "def measure():\n",
    "  loss, acc = loss_func(model(xb), yb), accuracy(model(xb), yb)\n",
    "  return loss, acc"
   ]
  },
  {
   "cell_type": "code",
   "execution_count": 0,
   "metadata": {
    "colab": {},
    "colab_type": "code",
    "id": "K0hYfcrf5AAN"
   },
   "outputs": [],
   "source": [
    "fit??"
   ]
  },
  {
   "cell_type": "code",
   "execution_count": 63,
   "metadata": {
    "colab": {},
    "colab_type": "code",
    "id": "RJj42MPN5Aj_"
   },
   "outputs": [],
   "source": [
    "def fit():\n",
    "  for epoch in range(epochs):\n",
    "    for idx in range(0, n, bs):\n",
    "      xb , yb = train_ds[idx: idx+bs]\n",
    "      \n",
    "      loss = loss_func( model(xb), yb)\n",
    "\n",
    "      loss.backward()\n",
    "      opt.step()\n",
    "      opt.zero_grad()"
   ]
  },
  {
   "cell_type": "code",
   "execution_count": 64,
   "metadata": {
    "colab": {},
    "colab_type": "code",
    "id": "L8uN-0rL5NLI"
   },
   "outputs": [],
   "source": [
    "fit()"
   ]
  },
  {
   "cell_type": "code",
   "execution_count": 65,
   "metadata": {
    "colab": {
     "base_uri": "https://localhost:8080/",
     "height": 34
    },
    "colab_type": "code",
    "id": "9ngdsG7J5OEZ",
    "outputId": "8806ad6a-8533-4710-acd6-0dc1379a6a46"
   },
   "outputs": [
    {
     "data": {
      "text/plain": [
       "(tensor(0.0503, grad_fn=<NllLossBackward>), tensor(1.))"
      ]
     },
     "execution_count": 65,
     "metadata": {},
     "output_type": "execute_result"
    }
   ],
   "source": [
    "measure()"
   ]
  },
  {
   "cell_type": "code",
   "execution_count": 66,
   "metadata": {
    "colab": {},
    "colab_type": "code",
    "id": "P3gtR8rD5ZfU"
   },
   "outputs": [],
   "source": [
    "## DataLoaders\n",
    "\n",
    "class DataLoader():\n",
    "  def __init__(self, ds, bs):\n",
    "    self.ds, self.bs = ds, bs\n",
    "   \n",
    "  def __iter__(self):\n",
    "    for idx in range(0, len(self.ds), self.bs):\n",
    "      yield self.ds[idx: idx+self.bs]"
   ]
  },
  {
   "cell_type": "code",
   "execution_count": 67,
   "metadata": {
    "colab": {},
    "colab_type": "code",
    "id": "tdoBStXq6J4w"
   },
   "outputs": [],
   "source": [
    "train_dl = DataLoader(train_ds, bs)\n",
    "valid_dl = DataLoader(valid_ds, bs)"
   ]
  },
  {
   "cell_type": "code",
   "execution_count": 68,
   "metadata": {
    "colab": {},
    "colab_type": "code",
    "id": "4jZrGxpC6Wc1"
   },
   "outputs": [],
   "source": [
    "xb, yb = next(iter(train_dl))"
   ]
  },
  {
   "cell_type": "code",
   "execution_count": 69,
   "metadata": {
    "colab": {
     "base_uri": "https://localhost:8080/",
     "height": 34
    },
    "colab_type": "code",
    "id": "fnGLRMAd6chb",
    "outputId": "f80c6a92-2e8d-451b-a8aa-aff2b774cfd5"
   },
   "outputs": [
    {
     "data": {
      "text/plain": [
       "torch.Size([64, 784])"
      ]
     },
     "execution_count": 69,
     "metadata": {},
     "output_type": "execute_result"
    }
   ],
   "source": [
    "xb.shape"
   ]
  },
  {
   "cell_type": "code",
   "execution_count": 70,
   "metadata": {
    "colab": {
     "base_uri": "https://localhost:8080/",
     "height": 265
    },
    "colab_type": "code",
    "id": "e5uqJNMu6efr",
    "outputId": "9a0afd55-3b5e-451d-e4c2-823d67de42d3"
   },
   "outputs": [
    {
     "data": {
      "image/png": "[encoded data removed]",
      "text/plain": [
       "<Figure size 432x288 with 1 Axes>"
      ]
     },
     "metadata": {
      "needs_background": "light"
     },
     "output_type": "display_data"
    }
   ],
   "source": [
    "bala_show1img(xb[0],shape=(28,28))"
   ]
  },
  {
   "cell_type": "code",
   "execution_count": 71,
   "metadata": {
    "colab": {
     "base_uri": "https://localhost:8080/",
     "height": 146
    },
    "colab_type": "code",
    "id": "e7mPbUpf6im_",
    "outputId": "ad6e12ec-9d58-4538-8c2c-83bd00cd05c7"
   },
   "outputs": [
    {
     "data": {
      "image/png": "[encoded data removed]",
      "text/plain": [
       "<Figure size 720x720 with 5 Axes>"
      ]
     },
     "metadata": {
      "needs_background": "light"
     },
     "output_type": "display_data"
    }
   ],
   "source": [
    "import random\n",
    "bala_show_random(xb)"
   ]
  },
  {
   "cell_type": "code",
   "execution_count": 72,
   "metadata": {
    "colab": {},
    "colab_type": "code",
    "id": "bjsS9zNA6pss"
   },
   "outputs": [],
   "source": [
    "bala_show_random??"
   ]
  },
  {
   "cell_type": "code",
   "execution_count": 73,
   "metadata": {
    "colab": {},
    "colab_type": "code",
    "id": "zrUye_mW6top"
   },
   "outputs": [],
   "source": [
    "model,opt = get_model()"
   ]
  },
  {
   "cell_type": "code",
   "execution_count": 74,
   "metadata": {
    "colab": {},
    "colab_type": "code",
    "id": "vFlCdZ6Z9aDJ"
   },
   "outputs": [],
   "source": [
    "def fit():\n",
    "  for epoch in range(epochs):\n",
    "    for xb,yb in train_dl:\n",
    "      loss = loss_func( model(xb), yb)\n",
    "\n",
    "      loss.backward()\n",
    "      opt.step()\n",
    "      opt.zero_grad()"
   ]
  },
  {
   "cell_type": "code",
   "execution_count": 75,
   "metadata": {
    "colab": {},
    "colab_type": "code",
    "id": "2_PaDCuN9jhA"
   },
   "outputs": [],
   "source": [
    "fit()"
   ]
  },
  {
   "cell_type": "code",
   "execution_count": 76,
   "metadata": {
    "colab": {
     "base_uri": "https://localhost:8080/",
     "height": 34
    },
    "colab_type": "code",
    "id": "hjpfntPw9kXA",
    "outputId": "fd09ef1e-9015-4209-faf9-ccab378c561b"
   },
   "outputs": [
    {
     "data": {
      "text/plain": [
       "(tensor(0.1986, grad_fn=<NllLossBackward>), tensor(0.9375))"
      ]
     },
     "execution_count": 76,
     "metadata": {},
     "output_type": "execute_result"
    }
   ],
   "source": [
    "measure()"
   ]
  },
  {
   "cell_type": "code",
   "execution_count": 77,
   "metadata": {
    "colab": {},
    "colab_type": "code",
    "id": "ozt_ifXj9lIU"
   },
   "outputs": [],
   "source": [
    "## Sampler()\n",
    "\n",
    "\n",
    "class Sampler():\n",
    "  def __init__(self, ds, bs, shuffle=False):\n",
    "    self.n, self.bs, self.shuffle = len(ds), bs, shuffle\n",
    "    \n",
    "  def __iter__(self):\n",
    "    self.idxs = torch.randperm(self.n) if self.shuffle else torch.arange(self.n)\n",
    "    \n",
    "    for i in range(0, self.n, self.bs):\n",
    "      yield self.idxs[i: i+self.bs]\n",
    "    "
   ]
  },
  {
   "cell_type": "code",
   "execution_count": 78,
   "metadata": {
    "colab": {},
    "colab_type": "code",
    "id": "KSlJOQZq-UNJ"
   },
   "outputs": [],
   "source": [
    "small_ds = Dataset(*train_ds[:10])"
   ]
  },
  {
   "cell_type": "code",
   "execution_count": 79,
   "metadata": {
    "colab": {
     "base_uri": "https://localhost:8080/",
     "height": 34
    },
    "colab_type": "code",
    "id": "9zuA26z--Wz4",
    "outputId": "fd078930-83bf-44a0-a110-ac96a4768e8b"
   },
   "outputs": [
    {
     "data": {
      "text/plain": [
       "[tensor([0, 1, 2]), tensor([3, 4, 5]), tensor([6, 7, 8]), tensor([9])]"
      ]
     },
     "execution_count": 79,
     "metadata": {},
     "output_type": "execute_result"
    }
   ],
   "source": [
    "s = Sampler(small_ds, 3, False)\n",
    "[o for o in s]"
   ]
  },
  {
   "cell_type": "code",
   "execution_count": 80,
   "metadata": {
    "colab": {
     "base_uri": "https://localhost:8080/",
     "height": 34
    },
    "colab_type": "code",
    "id": "IhXW9v26-c0H",
    "outputId": "91c9c2cf-8c87-4a5a-97d5-2f9228b5f894"
   },
   "outputs": [
    {
     "data": {
      "text/plain": [
       "[tensor([0, 5, 7]), tensor([1, 3, 9]), tensor([8, 6, 4]), tensor([2])]"
      ]
     },
     "execution_count": 80,
     "metadata": {},
     "output_type": "execute_result"
    }
   ],
   "source": [
    "s = Sampler(small_ds, 3, True)\n",
    "[o for o in s]"
   ]
  },
  {
   "cell_type": "code",
   "execution_count": 81,
   "metadata": {
    "colab": {},
    "colab_type": "code",
    "id": "2VtIPZ47-yuW"
   },
   "outputs": [],
   "source": [
    "def collate(b):\n",
    "  xs, ys = zip(*b)\n",
    "  return torch.stack(xs), torch.stack(ys)\n",
    "\n",
    "class DataLoader():\n",
    "  def __init__(self, ds, sampler, collate_fn=collate):\n",
    "    self.ds, self.sampler, self.collate_fn = ds, sampler, collate_fn\n",
    "    \n",
    "  def __iter__(self):\n",
    "    for s in self.sampler:\n",
    "      records = [ self.ds[i] for i in s]\n",
    "      yield self.collate_fn(records)"
   ]
  },
  {
   "cell_type": "code",
   "execution_count": 82,
   "metadata": {
    "colab": {},
    "colab_type": "code",
    "id": "J2sVNnS7_pKy"
   },
   "outputs": [],
   "source": [
    "train_samp = Sampler(train_ds, bs, shuffle=True)\n",
    "valid_samp = Sampler(valid_ds, bs, shuffle=False)"
   ]
  },
  {
   "cell_type": "code",
   "execution_count": 83,
   "metadata": {
    "colab": {},
    "colab_type": "code",
    "id": "WTmp0yyC_x4m"
   },
   "outputs": [],
   "source": [
    "train_dl = DataLoader(train_ds, sampler=train_samp, collate_fn=collate)\n",
    "valid_dl = DataLoader(valid_ds, sampler=valid_samp, collate_fn=collate)"
   ]
  },
  {
   "cell_type": "code",
   "execution_count": 84,
   "metadata": {
    "colab": {},
    "colab_type": "code",
    "id": "uJsmhmp3_8ZF"
   },
   "outputs": [],
   "source": [
    "xb, yb = next(iter(train_dl))"
   ]
  },
  {
   "cell_type": "code",
   "execution_count": 85,
   "metadata": {
    "colab": {
     "base_uri": "https://localhost:8080/",
     "height": 146
    },
    "colab_type": "code",
    "id": "D5bfRwzq__oy",
    "outputId": "00cd27da-4620-4970-8ece-82987dc3c6ca"
   },
   "outputs": [
    {
     "data": {
      "image/png": "[encoded data removed]",
      "text/plain": [
       "<Figure size 720x720 with 5 Axes>"
      ]
     },
     "metadata": {
      "needs_background": "light"
     },
     "output_type": "display_data"
    }
   ],
   "source": [
    "bala_show_random(xb)"
   ]
  },
  {
   "cell_type": "code",
   "execution_count": 86,
   "metadata": {
    "colab": {
     "base_uri": "https://localhost:8080/",
     "height": 146
    },
    "colab_type": "code",
    "id": "HrokMHy3ACVk",
    "outputId": "97889745-dd7c-490b-973b-8c40921fa73f"
   },
   "outputs": [
    {
     "data": {
      "image/png": "[encoded data removed]",
      "text/plain": [
       "<Figure size 720x720 with 5 Axes>"
      ]
     },
     "metadata": {
      "needs_background": "light"
     },
     "output_type": "display_data"
    }
   ],
   "source": [
    "bala_show_random(xb)"
   ]
  },
  {
   "cell_type": "code",
   "execution_count": 87,
   "metadata": {
    "colab": {
     "base_uri": "https://localhost:8080/",
     "height": 34
    },
    "colab_type": "code",
    "id": "CDnRgKnIADnw",
    "outputId": "512c361d-f221-4516-e4ea-f81fee441cee"
   },
   "outputs": [
    {
     "data": {
      "text/plain": [
       "(tensor(0.2425, grad_fn=<NllLossBackward>), tensor(0.9219))"
      ]
     },
     "execution_count": 87,
     "metadata": {},
     "output_type": "execute_result"
    }
   ],
   "source": [
    "model, opt = get_model()\n",
    "fit()\n",
    "measure()"
   ]
  },
  {
   "cell_type": "code",
   "execution_count": 88,
   "metadata": {
    "colab": {},
    "colab_type": "code",
    "id": "TG2Gu0qGANDg"
   },
   "outputs": [],
   "source": [
    "from torch.utils.data import DataLoader\n",
    "from torch.utils.data import SequentialSampler\n",
    "from torch.utils.data import RandomSampler"
   ]
  },
  {
   "cell_type": "code",
   "execution_count": 89,
   "metadata": {
    "colab": {},
    "colab_type": "code",
    "id": "ydZ1L1U9AV_N"
   },
   "outputs": [],
   "source": [
    "train_dl = DataLoader(train_ds, bs, \n",
    "                      sampler=RandomSampler(train_ds), \n",
    "                      collate_fn=collate)\n",
    "valid_dl = DataLoader(valid_ds, bs, \n",
    "                      sampler=SequentialSampler(valid_ds), \n",
    "                      collate_fn=collate)"
   ]
  },
  {
   "cell_type": "code",
   "execution_count": 90,
   "metadata": {
    "colab": {
     "base_uri": "https://localhost:8080/",
     "height": 34
    },
    "colab_type": "code",
    "id": "d66J57feAuKF",
    "outputId": "704fa9c3-a4c2-4eb4-9867-9fd027bc419c"
   },
   "outputs": [
    {
     "data": {
      "text/plain": [
       "(tensor(0.1938, grad_fn=<NllLossBackward>), tensor(0.9375))"
      ]
     },
     "execution_count": 90,
     "metadata": {},
     "output_type": "execute_result"
    }
   ],
   "source": [
    "model, opt = get_model()\n",
    "fit()\n",
    "measure()"
   ]
  },
  {
   "cell_type": "code",
   "execution_count": 91,
   "metadata": {
    "colab": {},
    "colab_type": "code",
    "id": "wyV1BnnWAvzb"
   },
   "outputs": [],
   "source": [
    "train_dl = DataLoader(train_ds, bs, shuffle=True, drop_last=True)\n",
    "valid_dl = DataLoader(valid_ds, bs, shuffle=False)"
   ]
  },
  {
   "cell_type": "code",
   "execution_count": 92,
   "metadata": {
    "colab": {
     "base_uri": "https://localhost:8080/",
     "height": 34
    },
    "colab_type": "code",
    "id": "9hkjpJT3A21-",
    "outputId": "9025fc7a-e2a0-49a4-b7c1-1ccf14d8ed7c"
   },
   "outputs": [
    {
     "data": {
      "text/plain": [
       "(tensor(0.2025, grad_fn=<NllLossBackward>), tensor(0.9531))"
      ]
     },
     "execution_count": 92,
     "metadata": {},
     "output_type": "execute_result"
    }
   ],
   "source": [
    "model, opt = get_model()\n",
    "fit()\n",
    "measure()"
   ]
  },
  {
   "cell_type": "code",
   "execution_count": 0,
   "metadata": {
    "colab": {},
    "colab_type": "code",
    "id": "LqiCqzKiBcUM"
   },
   "outputs": [],
   "source": [
    "measure??"
   ]
  },
  {
   "cell_type": "code",
   "execution_count": 0,
   "metadata": {
    "colab": {},
    "colab_type": "code",
    "id": "7uJP_UN0A3_M"
   },
   "outputs": [],
   "source": [
    "fit??"
   ]
  },
  {
   "cell_type": "code",
   "execution_count": 93,
   "metadata": {
    "colab": {},
    "colab_type": "code",
    "id": "WCVYv1w4A5T8"
   },
   "outputs": [],
   "source": [
    "def fit(epochs, model, loss_func, opt, train_dl, valid_dl):\n",
    "  for epoch in range(epochs):\n",
    "    # set training model \n",
    "    model.train()\n",
    "    for xb,yb in train_dl: \n",
    "      loss = loss_func( model(xb), yb)\n",
    "      loss.backward()\n",
    "      opt.step()\n",
    "      opt.zero_grad()\n",
    "      \n",
    "    model.eval()\n",
    "    with torch.no_grad():\n",
    "      tot_loss , tot_acc = 0. , 0.\n",
    "      for xb,yb in valid_dl: \n",
    "        pred = model(xb)\n",
    "        tot_loss += loss_func(model(xb), yb)\n",
    "        tot_acc  += accuracy(model(xb), yb)\n",
    "        \n",
    "    nv = len(valid_dl)\n",
    "    print(epoch, tot_loss/nv , tot_acc/nv)\n",
    "  return tot_loss/nv , tot_acc/nv"
   ]
  },
  {
   "cell_type": "code",
   "execution_count": 94,
   "metadata": {
    "colab": {},
    "colab_type": "code",
    "id": "74l-ArRQCOen"
   },
   "outputs": [],
   "source": [
    "def get_model():\n",
    "  model = nn.Sequential(nn.Linear(m,nh), nn.ReLU(), nn.Linear(nh,10))\n",
    "  opt =  optim.SGD(model.parameters(), lr=lr) #Optimizer(model.parameters())\n",
    "  return model, opt"
   ]
  },
  {
   "cell_type": "code",
   "execution_count": 95,
   "metadata": {
    "colab": {},
    "colab_type": "code",
    "id": "k-iqNUkoCiYk"
   },
   "outputs": [],
   "source": [
    "def get_dls(train_ds, valid_ds, bs, **kwargs):\n",
    "    return (DataLoader(train_ds, batch_size=bs, shuffle=True, **kwargs),\n",
    "            DataLoader(valid_ds, batch_size=bs*2, **kwargs))"
   ]
  },
  {
   "cell_type": "code",
   "execution_count": 96,
   "metadata": {
    "colab": {
     "base_uri": "https://localhost:8080/",
     "height": 34
    },
    "colab_type": "code",
    "id": "XW6TsZXQB2fn",
    "outputId": "6c69815c-ed5e-450c-8721-5c9460a75b17"
   },
   "outputs": [
    {
     "name": "stdout",
     "output_type": "stream",
     "text": [
      "0 tensor(0.2444) tensor(0.9286)\n"
     ]
    }
   ],
   "source": [
    "epochs = 1\n",
    "lr = 0.5\n",
    "bs = 64\n",
    "\n",
    "train_dl , valid_dl = get_dls(train_ds, valid_ds, bs)\n",
    "\n",
    "model, opt = get_model()\n",
    "\n",
    "loss_func = F.cross_entropy\n",
    "\n",
    "loss, acc = fit(epochs, model, loss_func, opt, train_dl, valid_dl)"
   ]
  },
  {
   "cell_type": "code",
   "execution_count": 97,
   "metadata": {
    "colab": {
     "base_uri": "https://localhost:8080/",
     "height": 34
    },
    "colab_type": "code",
    "id": "X-HDPykeCSa0",
    "outputId": "0d4d8440-6d57-41ce-fdfb-2da9e3056f2e"
   },
   "outputs": [
    {
     "name": "stdout",
     "output_type": "stream",
     "text": [
      "0 tensor(0.1547) tensor(0.9536)\n"
     ]
    }
   ],
   "source": [
    "loss , acc  =fit(epochs, model, loss_func, opt, train_dl, valid_dl)"
   ]
  },
  {
   "cell_type": "code",
   "execution_count": 98,
   "metadata": {
    "colab": {},
    "colab_type": "code",
    "id": "yfQii38HCY84"
   },
   "outputs": [],
   "source": [
    "assert acc>0.9"
   ]
  },
  {
   "cell_type": "code",
   "execution_count": null,
   "metadata": {
    "colab": {},
    "colab_type": "code",
    "id": "jCev2qQwDFcw"
   },
   "outputs": [],
   "source": []
  },
  {
   "cell_type": "markdown",
   "metadata": {
    "colab_type": "text",
    "id": "1qPhpbarmyod"
   },
   "source": [
    "## DataBunch / Learner"
   ]
  },
  {
   "cell_type": "code",
   "execution_count": 99,
   "metadata": {
    "colab": {},
    "colab_type": "code",
    "id": "qTerLG9Km0Oq"
   },
   "outputs": [],
   "source": [
    "get_data??"
   ]
  },
  {
   "cell_type": "code",
   "execution_count": 101,
   "metadata": {
    "colab": {},
    "colab_type": "code",
    "id": "qlb4W1rinGP6"
   },
   "outputs": [],
   "source": [
    "x_train,y_train,x_valid,y_valid = get_data()\n",
    "train_ds, valid_ds = Dataset(x_train, y_train) ,Dataset(x_valid, y_valid)"
   ]
  },
  {
   "cell_type": "code",
   "execution_count": 102,
   "metadata": {
    "colab": {},
    "colab_type": "code",
    "id": "ns5B2-FVnyi5"
   },
   "outputs": [],
   "source": [
    "nh = 50\n",
    "bs = 64\n",
    "c = y_train.max().item() + 1\n",
    "loss_func = F.cross_entropy"
   ]
  },
  {
   "cell_type": "code",
   "execution_count": 103,
   "metadata": {
    "colab": {},
    "colab_type": "code",
    "id": "c81PIty1oBLL"
   },
   "outputs": [],
   "source": [
    "class DataBunch():\n",
    "  \n",
    "  def __init__(self, train_dl, valid_dl, c=None):\n",
    "    self.train_dl = train_dl\n",
    "    self.valid_dl = valid_dl\n",
    "    self.c = c\n",
    "  \n",
    "  @property\n",
    "  def train_ds(self):\n",
    "    return self.train_dl.dataset #to access dataset from dataloader\n",
    "  \n",
    "  @property\n",
    "  def valid_ds(self):\n",
    "    return self.valid_dl.dataset\n",
    "  \n",
    "  \n",
    "  def show_batch(self, figsize=(10,10)):\n",
    "    #bala_show_random(self.train_dl, n=no_elems)\n",
    "    rows, cols = 8 , 8\n",
    "    fig, ax = plt.subplots(nrows=rows, ncols=cols, figsize=figsize)\n",
    "    xb , yb = next(iter(self.train_dl))\n",
    "    \n",
    "    for ro in range(rows):\n",
    "      for co in range(cols):\n",
    "        idx = ro * co + co\n",
    "        bala_show1img(xb[idx],shape=(28,28), ax=ax[ro, co])\n",
    "    "
   ]
  },
  {
   "cell_type": "code",
   "execution_count": 105,
   "metadata": {
    "colab": {},
    "colab_type": "code",
    "id": "AvSHHaycpSpD"
   },
   "outputs": [],
   "source": [
    "get_dls??\n",
    "\n",
    "def get_dls(train_ds, valid_ds, bs, **kwargs):\n",
    "    return (DataLoader(train_ds, batch_size=bs, shuffle=True, **kwargs),\n",
    "            DataLoader(valid_ds, batch_size=bs*2, **kwargs))"
   ]
  },
  {
   "cell_type": "code",
   "execution_count": 106,
   "metadata": {
    "colab": {},
    "colab_type": "code",
    "id": "YaofigwopYiD"
   },
   "outputs": [],
   "source": [
    "data = DataBunch(*get_dls(train_ds, valid_ds, bs), c)"
   ]
  },
  {
   "cell_type": "code",
   "execution_count": 107,
   "metadata": {
    "colab": {},
    "colab_type": "code",
    "id": "x13nW9Qcpnx-"
   },
   "outputs": [],
   "source": [
    "# data.show_batch()"
   ]
  },
  {
   "cell_type": "code",
   "execution_count": 0,
   "metadata": {
    "colab": {},
    "colab_type": "code",
    "id": "ue-gcS0SwDIt"
   },
   "outputs": [],
   "source": [
    "get_model??"
   ]
  },
  {
   "cell_type": "code",
   "execution_count": 108,
   "metadata": {
    "colab": {},
    "colab_type": "code",
    "id": "XgAYw3WcwwMZ"
   },
   "outputs": [],
   "source": [
    "def get_model(data, lr=0.5, nh=50):\n",
    "  m = data.train_ds.x.shape[1]\n",
    "  model = nn.Sequential(nn.Linear(m,nh), nn.ReLU(), nn.Linear(nh,data.c))\n",
    "  opt =  optim.SGD(model.parameters(), lr=lr) #Optimizer(model.parameters())\n",
    "  return model, opt"
   ]
  },
  {
   "cell_type": "code",
   "execution_count": 109,
   "metadata": {
    "colab": {},
    "colab_type": "code",
    "id": "oiF2xc-Hy_YY"
   },
   "outputs": [],
   "source": [
    "class Learner():\n",
    "  def __init__(self, model, opt, loss_func, data):\n",
    "    self.model = model\n",
    "    self.opt = opt\n",
    "    self.loss_func = loss_func\n",
    "    self.data = data"
   ]
  },
  {
   "cell_type": "code",
   "execution_count": 110,
   "metadata": {
    "colab": {},
    "colab_type": "code",
    "id": "2aVQueqrzV1g"
   },
   "outputs": [],
   "source": [
    "data = DataBunch(*get_dls(train_ds, valid_ds, bs), c)\n",
    "learn = Learner(*get_model(data), loss_func, data)"
   ]
  },
  {
   "cell_type": "code",
   "execution_count": 111,
   "metadata": {
    "colab": {},
    "colab_type": "code",
    "id": "0lIj6qmCzfR1"
   },
   "outputs": [],
   "source": [
    "# learn"
   ]
  },
  {
   "cell_type": "code",
   "execution_count": 112,
   "metadata": {
    "colab": {},
    "colab_type": "code",
    "id": "dDSWRGgpzs7H"
   },
   "outputs": [],
   "source": [
    "fit??"
   ]
  },
  {
   "cell_type": "code",
   "execution_count": 113,
   "metadata": {
    "colab": {},
    "colab_type": "code",
    "id": "1aANHrWx4oI3"
   },
   "outputs": [],
   "source": [
    "def fit(epochs, learn):\n",
    "  for epoch in range(epochs):\n",
    "    # set training model \n",
    "    learn.model.train()\n",
    "    for xb,yb in learn.data.train_dl: \n",
    "      loss = learn.loss_func( learn.model(xb), yb)\n",
    "      loss.backward()\n",
    "      learn.opt.step()\n",
    "      learn.opt.zero_grad()\n",
    "      \n",
    "    learn.model.eval()\n",
    "    with torch.no_grad():\n",
    "      tot_loss , tot_acc = 0. , 0.\n",
    "      for xb,yb in learn.data.valid_dl: \n",
    "        pred = learn.model(xb)\n",
    "        tot_loss += loss_func(learn.model(xb), yb)\n",
    "        tot_acc  += accuracy(learn.model(xb), yb)\n",
    "        \n",
    "    nv = len(learn.data.valid_dl)\n",
    "    print(epoch, tot_loss/nv , tot_acc/nv)\n",
    "  return tot_loss/nv , tot_acc/nv"
   ]
  },
  {
   "cell_type": "code",
   "execution_count": 114,
   "metadata": {
    "colab": {
     "base_uri": "https://localhost:8080/",
     "height": 34
    },
    "colab_type": "code",
    "id": "ew-oCgOb5AJz",
    "outputId": "3809bcc0-d586-4834-9f8f-bba268e09190"
   },
   "outputs": [
    {
     "name": "stdout",
     "output_type": "stream",
     "text": [
      "0 tensor(0.3898) tensor(0.8777)\n"
     ]
    }
   ],
   "source": [
    "epochs =1 \n",
    "loss, acc = fit(epochs, learn)"
   ]
  },
  {
   "cell_type": "code",
   "execution_count": 115,
   "metadata": {
    "colab": {},
    "colab_type": "code",
    "id": "0iAnQVlm5EzO"
   },
   "outputs": [],
   "source": [
    "# CallbackHandler"
   ]
  },
  {
   "cell_type": "markdown",
   "metadata": {
    "colab_type": "text",
    "id": "n3VMMXlX5cNf"
   },
   "source": [
    "# CallbackHandler"
   ]
  },
  {
   "cell_type": "code",
   "execution_count": 116,
   "metadata": {
    "colab": {},
    "colab_type": "code",
    "id": "yoOQlP1_EzwC"
   },
   "outputs": [],
   "source": [
    "import re\n",
    "\n",
    "pat1 = '(.)([A-Z][a-z]+)'\n",
    "pat2 = '([a-z0-9])([A-Z])'\n",
    "\n",
    "_camel_re1 = re.compile(pat1)\n",
    "_camel_re2 = re.compile(pat2)\n",
    "\n",
    "def camel2snake(name):\n",
    "  s1 = re.sub(_camel_re1, r'\\1_\\2', name)\n",
    "  s2 = re.sub(_camel_re2, r'\\1_\\2', s1).lower()\n",
    "  return s2"
   ]
  },
  {
   "cell_type": "code",
   "execution_count": 117,
   "metadata": {
    "colab": {},
    "colab_type": "code",
    "id": "b07Sx5fsL2C6"
   },
   "outputs": [],
   "source": [
    "class Callback():\n",
    "  _order=0\n",
    "  \n",
    "  def set_runner(self, run):\n",
    "    self.run = run\n",
    "    \n",
    "  def __getattr__(self, k):\n",
    "    return getattr(self.run, k)\n",
    "  \n",
    "  @property\n",
    "  def name(self):\n",
    "    name = re.sub(r'Callback$', '', self.__class__.__name__)\n",
    "    return camel2snake(name or 'callback')"
   ]
  },
  {
   "cell_type": "code",
   "execution_count": 118,
   "metadata": {
    "colab": {
     "base_uri": "https://localhost:8080/",
     "height": 34
    },
    "colab_type": "code",
    "id": "KS9V_MATMO_H",
    "outputId": "63242626-5706-40a7-ecb7-ca7fefcde968"
   },
   "outputs": [
    {
     "data": {
      "text/plain": [
       "'hello_world'"
      ]
     },
     "execution_count": 118,
     "metadata": {},
     "output_type": "execute_result"
    }
   ],
   "source": [
    "class HelloWorldCallback(Callback):\n",
    "  pass\n",
    "\n",
    "a = HelloWorldCallback()\n",
    "a.name"
   ]
  },
  {
   "cell_type": "code",
   "execution_count": 119,
   "metadata": {
    "colab": {},
    "colab_type": "code",
    "id": "aFAPUf7MN_S4"
   },
   "outputs": [],
   "source": [
    "class TrainEvalCallback(Callback):\n",
    "  \n",
    "  def begin_fit(self):\n",
    "    self.run.n_epochs = 0.\n",
    "    self.run.n_iter = 0\n",
    "    \n",
    "  def after_batch(self):\n",
    "    if not self.in_train: return\n",
    "    self.run.n_epochs += 1/ self.iters\n",
    "    self.run.n_iter += 1\n",
    "\n",
    "  def begin_epoch(self):\n",
    "    self.run.n_epochs = self.epoch\n",
    "    self.model.train()\n",
    "    self.run.in_train = True\n",
    "    \n",
    "  def begin_validate(self):\n",
    "    self.model.eval()\n",
    "    self.run.in_train = False"
   ]
  },
  {
   "cell_type": "code",
   "execution_count": 120,
   "metadata": {
    "colab": {},
    "colab_type": "code",
    "id": "gfuCfwbFON45"
   },
   "outputs": [],
   "source": [
    "class TestCallback(Callback):\n",
    "  def after_step(self):\n",
    "    if self.train_eval.n_iters >=10: return True"
   ]
  },
  {
   "cell_type": "code",
   "execution_count": 121,
   "metadata": {
    "colab": {
     "base_uri": "https://localhost:8080/",
     "height": 34
    },
    "colab_type": "code",
    "id": "bEjvG46dRE8M",
    "outputId": "b2b4f4df-61bd-40d2-fac0-4906f4f945f8"
   },
   "outputs": [
    {
     "data": {
      "text/plain": [
       "'train_eval'"
      ]
     },
     "execution_count": 121,
     "metadata": {},
     "output_type": "execute_result"
    }
   ],
   "source": [
    "TrainEvalCallback().name"
   ]
  },
  {
   "cell_type": "code",
   "execution_count": 122,
   "metadata": {
    "colab": {},
    "colab_type": "code",
    "id": "CZmzXOEwRJyz"
   },
   "outputs": [],
   "source": [
    "from typing import *\n",
    "\n",
    "def listify(o):\n",
    "  if o is None: return []\n",
    "  if isinstance(o, list): return o\n",
    "  if isinstance(o, str): return [o]\n",
    "  if isinstance(o, Iterable): return list(o)\n",
    "  return [o]"
   ]
  },
  {
   "cell_type": "code",
   "execution_count": 123,
   "metadata": {
    "colab": {},
    "colab_type": "code",
    "id": "91juLOZoRam6"
   },
   "outputs": [],
   "source": [
    "class Runner():\n",
    "  def __init__(self, cbs=None, cb_funcs=None):\n",
    "    cbs = listify(cbs)\n",
    "    for cbf in listify(cb_funcs):\n",
    "      cb = cbf()\n",
    "      setattr(self, cb.name, cb)\n",
    "      cbs.append(cb)\n",
    "    self.stop = False\n",
    "    self.cbs = [TrainEvalCallback()] + cbs\n",
    "  \n",
    "  @property\n",
    "  def opt(self):    return self.learn.opt\n",
    "  \n",
    "  @property\n",
    "  def model(self):    return self.learn.model\n",
    "  \n",
    "  @property\n",
    "  def loss_func(self):    return self.learn.loss_func\n",
    "  \n",
    "  @property\n",
    "  def data(self):    return self.learn.data\n",
    "  \n",
    "  \n",
    "  def one_batch(self, xb, yb):\n",
    "    self.xb , self.yb = xb, yb\n",
    "    if self('begin_batch'): return\n",
    "    self.pred = self.model(self.xb)\n",
    "    if self('after_pred'): return\n",
    "    self.loss = self.loss_func(self.pred, self.yb)\n",
    "    if self('after_loss') or not self.in_train: return\n",
    "    self.loss.backward()\n",
    "    if self('after_backward'): return\n",
    "    self.opt.step()\n",
    "    if self('after_step'): return\n",
    "    self.opt.zero_grad()\n",
    "  \n",
    "  def all_batches(self, dl):\n",
    "    self.iters = len(dl)\n",
    "    for xb,yb in dl:\n",
    "      if self.stop: break\n",
    "      self.one_batch(xb,yb)\n",
    "      self('after_batch')\n",
    "    self.stop = False\n",
    "  \n",
    "  def fit(self, epochs, learn):\n",
    "    self.epochs , self.learn = epochs, learn\n",
    "    \n",
    "    try:\n",
    "      for cb in self.cbs:\n",
    "        cb.set_runner(self)\n",
    "        \n",
    "      if self('begin_fit'): return\n",
    "      for epoch in range(epochs):\n",
    "        self.epoch =  epoch\n",
    "        if not self('begin_epoch'):\n",
    "          self.all_batches(self.data.train_dl)\n",
    "\n",
    "        with torch.no_grad():\n",
    "          if not self('begin_validate'):\n",
    "            self.all_batches(self.data.valid_dl)\n",
    "        if self('after_epoch'): break\n",
    "    \n",
    "    finally:\n",
    "      self('after_fit')\n",
    "      self.learn = None\n",
    "  \n",
    "  \n",
    "  def __call__(self, cb_name):\n",
    "    for cb in sorted(self.cbs, key=(lambda x: x._order)):\n",
    "      f = getattr(cb, cb_name, None)\n",
    "      if f and f(): \n",
    "        return True\n",
    "    return False\n",
    "    "
   ]
  },
  {
   "cell_type": "code",
   "execution_count": 124,
   "metadata": {
    "colab": {},
    "colab_type": "code",
    "id": "AXkrOQwSRxcv"
   },
   "outputs": [],
   "source": [
    "r = Runner()"
   ]
  },
  {
   "cell_type": "code",
   "execution_count": 125,
   "metadata": {
    "colab": {},
    "colab_type": "code",
    "id": "oFRqsO5iSkBD"
   },
   "outputs": [],
   "source": [
    "#export\n",
    "class AvgStats():\n",
    "    def __init__(self, metrics, in_train): self.metrics,self.in_train = listify(metrics),in_train\n",
    "    \n",
    "    def reset(self):\n",
    "        self.tot_loss,self.count = 0.,0\n",
    "        self.tot_mets = [0.] * len(self.metrics)\n",
    "        \n",
    "    @property\n",
    "    def all_stats(self): return [self.tot_loss.item()] + self.tot_mets\n",
    "    @property\n",
    "    def avg_stats(self): return [o/self.count for o in self.all_stats]\n",
    "    \n",
    "    def __repr__(self):\n",
    "        if not self.count: return \"\"\n",
    "        return f\"{'train' if self.in_train else 'valid'}: {self.avg_stats}\"\n",
    "\n",
    "    def accumulate(self, run):\n",
    "        bn = run.xb.shape[0]\n",
    "        self.tot_loss += run.loss * bn\n",
    "        self.count += bn\n",
    "        for i,m in enumerate(self.metrics):\n",
    "            self.tot_mets[i] += m(run.pred, run.yb) * bn\n",
    "\n",
    "class AvgStatsCallback(Callback):\n",
    "    def __init__(self, metrics):\n",
    "        self.train_stats,self.valid_stats = AvgStats(metrics,True),AvgStats(metrics,False)\n",
    "\n",
    "    def begin_epoch(self):\n",
    "        self.train_stats.reset()\n",
    "        self.valid_stats.reset()\n",
    "        \n",
    "    def after_loss(self):\n",
    "        stats = self.train_stats if self.in_train else self.valid_stats\n",
    "        with torch.no_grad(): stats.accumulate(self.run)\n",
    "    \n",
    "    def after_epoch(self):\n",
    "        print(self.train_stats)\n",
    "        print(self.valid_stats)"
   ]
  },
  {
   "cell_type": "code",
   "execution_count": 126,
   "metadata": {
    "colab": {},
    "colab_type": "code",
    "id": "i8a7H9-lVtu1"
   },
   "outputs": [],
   "source": [
    "learn = Learner(*get_model(data), loss_func, data)"
   ]
  },
  {
   "cell_type": "code",
   "execution_count": 127,
   "metadata": {
    "colab": {},
    "colab_type": "code",
    "id": "yHZP3R_mV0JT"
   },
   "outputs": [],
   "source": [
    "stats = AvgStatsCallback([accuracy])\n",
    "run = Runner(cbs=stats)"
   ]
  },
  {
   "cell_type": "code",
   "execution_count": 128,
   "metadata": {
    "colab": {
     "base_uri": "https://localhost:8080/",
     "height": 84
    },
    "colab_type": "code",
    "id": "KCz0TKvoWHUK",
    "outputId": "10c073ca-dae0-4d96-b440-2bf851cf92ca"
   },
   "outputs": [
    {
     "name": "stdout",
     "output_type": "stream",
     "text": [
      "train: [0.313213828125, tensor(0.9029)]\n",
      "valid: [0.14402308349609375, tensor(0.9589)]\n",
      "train: [0.14034892578125, tensor(0.9583)]\n",
      "valid: [0.2765946044921875, tensor(0.9167)]\n"
     ]
    }
   ],
   "source": [
    "run.fit(2, learn)"
   ]
  },
  {
   "cell_type": "code",
   "execution_count": 129,
   "metadata": {
    "colab": {},
    "colab_type": "code",
    "id": "ksk74tXyWNI-"
   },
   "outputs": [],
   "source": [
    "# stats.train_stats.avg_stats"
   ]
  },
  {
   "cell_type": "code",
   "execution_count": 130,
   "metadata": {
    "colab": {},
    "colab_type": "code",
    "id": "xOujP_eMXBka"
   },
   "outputs": [],
   "source": [
    "from functools import partial\n",
    "\n",
    "acc_cbf = partial(AvgStatsCallback, accuracy)\n",
    "run = Runner(cb_funcs=acc_cbf)"
   ]
  },
  {
   "cell_type": "code",
   "execution_count": 131,
   "metadata": {
    "colab": {
     "base_uri": "https://localhost:8080/",
     "height": 50
    },
    "colab_type": "code",
    "id": "ZTW6ms_hXWXD",
    "outputId": "782de5a5-18c8-4fe9-a2e5-a0f2ff6d0b0a"
   },
   "outputs": [
    {
     "name": "stdout",
     "output_type": "stream",
     "text": [
      "train: [0.109502265625, tensor(0.9669)]\n",
      "valid: [0.11902296142578125, tensor(0.9655)]\n"
     ]
    }
   ],
   "source": [
    "run.fit(1, learn)"
   ]
  },
  {
   "cell_type": "code",
   "execution_count": 132,
   "metadata": {
    "colab": {
     "base_uri": "https://localhost:8080/",
     "height": 34
    },
    "colab_type": "code",
    "id": "8b3IoGDHXXcb",
    "outputId": "8983ef03-c632-485b-a45f-ae5382a32e78"
   },
   "outputs": [
    {
     "data": {
      "text/plain": [
       "train: [0.109502265625, tensor(0.9669)]"
      ]
     },
     "execution_count": 132,
     "metadata": {},
     "output_type": "execute_result"
    }
   ],
   "source": [
    "run.avg_stats.train_stats"
   ]
  },
  {
   "cell_type": "code",
   "execution_count": 133,
   "metadata": {
    "colab": {
     "base_uri": "https://localhost:8080/",
     "height": 34
    },
    "colab_type": "code",
    "id": "LD4PB9NpXcSm",
    "outputId": "4e37e0a1-933e-4787-ff02-5cdd75605503"
   },
   "outputs": [
    {
     "data": {
      "text/plain": [
       "valid: [0.11902296142578125, tensor(0.9655)]"
      ]
     },
     "execution_count": 133,
     "metadata": {},
     "output_type": "execute_result"
    }
   ],
   "source": [
    "run.avg_stats.valid_stats"
   ]
  },
  {
   "cell_type": "code",
   "execution_count": 0,
   "metadata": {
    "colab": {},
    "colab_type": "code",
    "id": "ZyIbIEFYXfN_"
   },
   "outputs": [],
   "source": []
  },
  {
   "cell_type": "markdown",
   "metadata": {
    "colab_type": "text",
    "id": "58WjyfMFkQqB"
   },
   "source": [
    "## Test Callbacks"
   ]
  },
  {
   "cell_type": "code",
   "execution_count": 134,
   "metadata": {
    "colab": {},
    "colab_type": "code",
    "id": "eVi2yYAdkIl8"
   },
   "outputs": [],
   "source": [
    "class SimpleRecorderCallback(Callback):\n",
    "  pass"
   ]
  },
  {
   "cell_type": "code",
   "execution_count": 135,
   "metadata": {
    "colab": {
     "base_uri": "https://localhost:8080/",
     "height": 50
    },
    "colab_type": "code",
    "id": "5RZZpQdFkWtD",
    "outputId": "310937b7-b276-4f58-9543-87e6fdc5a9d0"
   },
   "outputs": [
    {
     "name": "stdout",
     "output_type": "stream",
     "text": [
      "train: [0.306379140625, tensor(0.9051)]\n",
      "valid: [0.2773498779296875, tensor(0.9148)]\n"
     ]
    }
   ],
   "source": [
    "from functools import partial\n",
    "\n",
    "data = DataBunch(*get_dls(train_ds, valid_ds, bs), c)\n",
    "learn = Learner(*get_model(data), loss_func, data)\n",
    "\n",
    "acc_cbf = partial(AvgStatsCallback, accuracy) # use partial if needed\n",
    "run = Runner(cb_funcs=acc_cbf)\n",
    "\n",
    "run.fit(1, learn)"
   ]
  },
  {
   "cell_type": "code",
   "execution_count": 136,
   "metadata": {
    "colab": {
     "base_uri": "https://localhost:8080/",
     "height": 34
    },
    "colab_type": "code",
    "id": "n7c25N4bkf_d",
    "outputId": "d254065a-f2ab-4a3b-d5c7-e13e7d09f52c"
   },
   "outputs": [
    {
     "data": {
      "text/plain": [
       "train: [0.306379140625, tensor(0.9051)]"
      ]
     },
     "execution_count": 136,
     "metadata": {},
     "output_type": "execute_result"
    }
   ],
   "source": [
    "run.avg_stats.train_stats"
   ]
  },
  {
   "cell_type": "code",
   "execution_count": 137,
   "metadata": {
    "colab": {
     "base_uri": "https://localhost:8080/",
     "height": 34
    },
    "colab_type": "code",
    "id": "XhVOltTNk_7M",
    "outputId": "f281b776-69c1-4155-beb1-715ec48a76a4"
   },
   "outputs": [
    {
     "data": {
      "text/plain": [
       "valid: [0.2773498779296875, tensor(0.9148)]"
      ]
     },
     "execution_count": 137,
     "metadata": {},
     "output_type": "execute_result"
    }
   ],
   "source": [
    "run.avg_stats.valid_stats"
   ]
  },
  {
   "cell_type": "code",
   "execution_count": 138,
   "metadata": {
    "colab": {},
    "colab_type": "code",
    "id": "TsIi7y_6lEa_"
   },
   "outputs": [],
   "source": [
    "content=\"\"\"\n",
    "class Runner():\n",
    "  def __init__(self, cbs=None, cb_funcs=None):\n",
    "    cbs = listify(cbs)\n",
    "    for cbf in listify(cb_funcs):\n",
    "      cb = cbf()\n",
    "      setattr(self, cb.name, cb)\n",
    "      cbs.append(cb)\n",
    "    self.stop = False\n",
    "    self.cbs = [TrainEvalCallback()] + cbs\n",
    "  \n",
    "  @property\n",
    "  def opt(self):    return self.learn.opt\n",
    "  \n",
    "  @property\n",
    "  def model(self):    return self.learn.model\n",
    "  \n",
    "  @property\n",
    "  def loss_func(self):    return self.learn.loss_func\n",
    "  \n",
    "  @property\n",
    "  def data(self):    return self.learn.data\n",
    "  \n",
    "  \n",
    "  def one_batch(self, xb, yb):\n",
    "    self.xb , self.yb = xb, yb\n",
    "    if self('begin_batch'): return\n",
    "    self.pred = self.model(self.xb)\n",
    "    if self('after_pred'): return\n",
    "    self.loss = self.loss_func(self.pred, self.yb)\n",
    "    if self('after_loss') or not self.in_train: return\n",
    "    self.loss.backward()\n",
    "    if self('after_backward'): return\n",
    "    self.opt.step()\n",
    "    if self('after_step'): return\n",
    "    self.opt.zero_grad()\n",
    "  \n",
    "  def all_batches(self, dl):\n",
    "    self.iters = len(dl)\n",
    "    for xb,yb in dl:\n",
    "      if self.stop: break\n",
    "      self.one_batch(xb,yb)\n",
    "      self('after_batch')\n",
    "    self.stop = False\n",
    "  \n",
    "  def fit(self, epochs, learn):\n",
    "    self.epochs , self.learn = epochs, learn\n",
    "    \n",
    "    try:\n",
    "      for cb in self.cbs:\n",
    "        cb.set_runner(self)\n",
    "        \n",
    "      if self('begin_fit'): return\n",
    "      for epoch in range(epochs):\n",
    "        self.epoch =  epoch\n",
    "        if not self('begin_epoch'):\n",
    "          self.all_batches(self.data.train_dl)\n",
    "\n",
    "        with torch.no_grad():\n",
    "          if not self('begin_validate'):\n",
    "            self.all_batches(self.data.valid_dl)\n",
    "        if self('after_epoch'): break\n",
    "    \n",
    "    finally:\n",
    "      self('after_fit')\n",
    "      self.learn = None\n",
    "  \n",
    "  \n",
    "  def __call__(self, cb_name):\n",
    "    for cb in sorted(self.cbs, key=(lambda x: x._order)):\n",
    "      f = getattr(cb, cb_name, None)\n",
    "      if f and f(): \n",
    "        return True\n",
    "    return False\n",
    "    \"\"\""
   ]
  },
  {
   "cell_type": "code",
   "execution_count": 139,
   "metadata": {
    "colab": {
     "base_uri": "https://localhost:8080/",
     "height": 571
    },
    "colab_type": "code",
    "id": "UXd6umeUlfqd",
    "outputId": "34e5d4dc-b98c-4cca-9e53-7f84be962597"
   },
   "outputs": [
    {
     "name": "stdout",
     "output_type": "stream",
     "text": [
      "def begin_batch(self):\n",
      "  pass\n",
      "\n",
      "def after_pred(self):\n",
      "  pass\n",
      "\n",
      "def after_loss(self):\n",
      "  pass\n",
      "\n",
      "def after_backward(self):\n",
      "  pass\n",
      "\n",
      "def after_step(self):\n",
      "  pass\n",
      "\n",
      "def after_batch(self):\n",
      "  pass\n",
      "\n",
      "def begin_fit(self):\n",
      "  pass\n",
      "\n",
      "def begin_epoch(self):\n",
      "  pass\n",
      "\n",
      "def begin_validate(self):\n",
      "  pass\n",
      "\n",
      "def after_epoch(self):\n",
      "  pass\n",
      "\n",
      "def after_fit(self):\n",
      "  pass\n",
      "\n"
     ]
    }
   ],
   "source": [
    "cb_pat = re.compile(\"(self\\((.+)\\))\")\n",
    "results = re.findall(cb_pat, content)\n",
    "CALL_BACKS = [r[-1].replace(\"'\",\"\") for r in results]\n",
    "for o in CALL_BACKS: \n",
    "  print(\"def\",f\"{o}(self):\")\n",
    "  print(\"  pass\")\n",
    "  print()"
   ]
  },
  {
   "cell_type": "code",
   "execution_count": 140,
   "metadata": {
    "colab": {},
    "colab_type": "code",
    "id": "X23kMDcmloXL"
   },
   "outputs": [],
   "source": [
    "#export\n",
    "class Recorder(Callback):\n",
    "    def begin_fit(self): self.lrs,self.losses = [],[]\n",
    "\n",
    "    def after_batch(self):\n",
    "        if not self.in_train: return\n",
    "        self.lrs.append(self.opt.param_groups[-1]['lr'])\n",
    "        self.losses.append(self.loss.detach().cpu())        \n",
    "\n",
    "    def plot_lr  (self): plt.plot(self.lrs)\n",
    "    def plot_loss(self): plt.plot(self.losses)\n",
    "      \n",
    "\n",
    "class MyRecorderCallback(Callback):\n",
    "  \n",
    "  def __init__(self, metric_fun):\n",
    "    self.losses = []\n",
    "    self.train_acc = []\n",
    "    self.valid_acc = []\n",
    "    self.metric_fun = metric_fun\n",
    "    self.lrs_ = []\n",
    "  \n",
    "  \n",
    "  \n",
    "  def after_pred(self):\n",
    "    acc = self.metric_fun(self.pred, self.yb)\n",
    "    if self.in_train:\n",
    "      self.train_acc.append(acc)\n",
    "    else:\n",
    "      self.valid_acc.append(acc)\n",
    "  \n",
    "  def after_loss(self):\n",
    "    if not self.in_train: return\n",
    "    self.losses.append(self.loss.detach().cpu()) # compare it with .loss.item()\n",
    "    \n",
    "  def after_fit(self):\n",
    "    plt.plot(self.losses)\n",
    "    plt.show()\n",
    "    plt.plot(self.train_acc, label='train acc')\n",
    "    plt.show()\n",
    "    plt.plot(self.valid_acc, label='valid acc')\n",
    "    plt.show()\n",
    "    \n",
    "  def plot_loss(self):\n",
    "    plt.plot(self.losses)\n",
    "    plt.show()\n",
    "    \n",
    "  def plot_lr(self):\n",
    "    plt.plot(self.lrs_)\n",
    "    plt.show()\n",
    "    \n",
    "  def after_batch(self):\n",
    "    if self.in_train: return\n",
    "    self.lrs_.append( learn.opt.param_groups[-1][\"lr\"] )\n",
    "    \n",
    "#   def begin_batch(self):\n",
    "#     pass\n",
    "  \n",
    "#   def after_backward(self):\n",
    "#     pass\n",
    "  \n",
    "#   def after_step(self):\n",
    "#     pass\n",
    "  \n",
    "\n",
    "  \n",
    "#   def begin_fit(self):\n",
    "#     pass\n",
    "  \n",
    "#   def begin_epoch(self):\n",
    "#     pass\n",
    "  \n",
    "#   def begin_validate(self):\n",
    "#     pass\n",
    "  \n",
    "#   def after_epoch(self):\n",
    "#     pass\n",
    "  \n",
    "  "
   ]
  },
  {
   "cell_type": "code",
   "execution_count": 141,
   "metadata": {
    "colab": {
     "base_uri": "https://localhost:8080/",
     "height": 773
    },
    "colab_type": "code",
    "id": "P0vH1VXAt74k",
    "outputId": "7a82de3b-79e0-4828-be68-b93663c56777"
   },
   "outputs": [
    {
     "data": {
      "image/png": "[encoded data removed]",
      "text/plain": [
       "<Figure size 432x288 with 1 Axes>"
      ]
     },
     "metadata": {
      "needs_background": "light"
     },
     "output_type": "display_data"
    },
    {
     "data": {
      "image/png": "[encoded data removed]",
      "text/plain": [
       "<Figure size 432x288 with 1 Axes>"
      ]
     },
     "metadata": {
      "needs_background": "light"
     },
     "output_type": "display_data"
    },
    {
     "data": {
      "image/png": "[encoded data removed]",
      "text/plain": [
       "<Figure size 432x288 with 1 Axes>"
      ]
     },
     "metadata": {
      "needs_background": "light"
     },
     "output_type": "display_data"
    }
   ],
   "source": [
    "from functools import partial\n",
    "\n",
    "data = DataBunch(*get_dls(train_ds, valid_ds, bs), c)\n",
    "learn = Learner(*get_model(data), loss_func, data)\n",
    "\n",
    "# acc_cbf = partial(AvgStatsCallback, accuracy) # use partial if needed\n",
    "acc_cbf = partial(MyRecorderCallback, accuracy)\n",
    "run = Runner(cb_funcs=acc_cbf)\n",
    "\n",
    "run.fit(1, learn)"
   ]
  },
  {
   "cell_type": "code",
   "execution_count": 142,
   "metadata": {
    "colab": {
     "base_uri": "https://localhost:8080/",
     "height": 521
    },
    "colab_type": "code",
    "id": "YwW7jQ4EzcGC",
    "outputId": "8f016f8e-1daf-44b7-c151-3e143706aac9"
   },
   "outputs": [
    {
     "data": {
      "image/png": "[encoded data removed]",
      "text/plain": [
       "<Figure size 432x288 with 1 Axes>"
      ]
     },
     "metadata": {
      "needs_background": "light"
     },
     "output_type": "display_data"
    },
    {
     "data": {
      "image/png": "[encoded data removed]",
      "text/plain": [
       "<Figure size 432x288 with 1 Axes>"
      ]
     },
     "metadata": {
      "needs_background": "light"
     },
     "output_type": "display_data"
    }
   ],
   "source": [
    "run.my_recorder.plot_lr()\n",
    "run.my_recorder.plot_loss()"
   ]
  },
  {
   "cell_type": "code",
   "execution_count": 0,
   "metadata": {
    "colab": {},
    "colab_type": "code",
    "id": "cHgfOEEMzqbx"
   },
   "outputs": [],
   "source": [
    "# learn.opt.param_groups[-1][\"lr\"]"
   ]
  },
  {
   "cell_type": "code",
   "execution_count": 143,
   "metadata": {
    "colab": {},
    "colab_type": "code",
    "id": "nyszlpdl0PEb"
   },
   "outputs": [],
   "source": [
    "class ParamScheduler(Callback):\n",
    "    _order=1\n",
    "    def __init__(self, pname, sched_func): \n",
    "      self.pname = pname\n",
    "      self.sched_func = sched_func\n",
    "\n",
    "    def set_param(self):\n",
    "        for pg in self.opt.param_groups:\n",
    "            pg[self.pname] = self.sched_func(self.n_epochs/self.epochs)\n",
    "            \n",
    "    def begin_batch(self): \n",
    "        if self.in_train: self.set_param()"
   ]
  },
  {
   "cell_type": "code",
   "execution_count": 144,
   "metadata": {
    "colab": {
     "base_uri": "https://localhost:8080/",
     "height": 34
    },
    "colab_type": "code",
    "id": "-qcRUSLO2dFm",
    "outputId": "4fe46ce2-a7ce-46aa-cd7f-0dc28a7002db"
   },
   "outputs": [
    {
     "data": {
      "text/plain": [
       "1.3"
      ]
     },
     "execution_count": 144,
     "metadata": {},
     "output_type": "execute_result"
    }
   ],
   "source": [
    "def annealer(f):\n",
    "    def _inner(start, end): return partial(f, start, end)\n",
    "    return _inner\n",
    "\n",
    "@annealer\n",
    "def sched_lin(start, end, pos): return start + pos*(end-start)\n",
    "\n",
    "f = sched_lin(1,2)\n",
    "f(0.3)"
   ]
  },
  {
   "cell_type": "code",
   "execution_count": 145,
   "metadata": {
    "colab": {
     "base_uri": "https://localhost:8080/",
     "height": 34
    },
    "colab_type": "code",
    "id": "hnLD9ITh2muD",
    "outputId": "e1f4b23b-0345-44f8-ed7a-8974b822777a"
   },
   "outputs": [
    {
     "data": {
      "text/plain": [
       "1.5"
      ]
     },
     "execution_count": 145,
     "metadata": {},
     "output_type": "execute_result"
    }
   ],
   "source": [
    "f(0.5)"
   ]
  },
  {
   "cell_type": "code",
   "execution_count": 146,
   "metadata": {
    "colab": {},
    "colab_type": "code",
    "id": "2T2ucGn72oed"
   },
   "outputs": [],
   "source": [
    "f = partial(ParamScheduler, sched_lin(0.5, 0.01), \"lr\")"
   ]
  },
  {
   "cell_type": "code",
   "execution_count": 147,
   "metadata": {
    "colab": {
     "base_uri": "https://localhost:8080/",
     "height": 773
    },
    "colab_type": "code",
    "id": "YSpzb9nH2_oU",
    "outputId": "08fd0c96-ef3f-4cc8-f5e7-5ebf9b3e2604"
   },
   "outputs": [
    {
     "data": {
      "image/png": "[encoded data removed]",
      "text/plain": [
       "<Figure size 432x288 with 1 Axes>"
      ]
     },
     "metadata": {
      "needs_background": "light"
     },
     "output_type": "display_data"
    },
    {
     "data": {
      "image/png": "[encoded data removed]",
      "text/plain": [
       "<Figure size 432x288 with 1 Axes>"
      ]
     },
     "metadata": {
      "needs_background": "light"
     },
     "output_type": "display_data"
    },
    {
     "data": {
      "image/png": "[encoded data removed]",
      "text/plain": [
       "<Figure size 432x288 with 1 Axes>"
      ]
     },
     "metadata": {
      "needs_background": "light"
     },
     "output_type": "display_data"
    }
   ],
   "source": [
    "from functools import partial\n",
    "\n",
    "data = DataBunch(*get_dls(train_ds, valid_ds, bs), c)\n",
    "learn = Learner(*get_model(data), loss_func, data)\n",
    "\n",
    "# cb1 = partial(AvgStatsCallback, accuracy) # use partial if needed\n",
    "cb2 = partial(ParamScheduler, \"lr\", sched_lin(0.5, 0.2))\n",
    "cb1 = partial(MyRecorderCallback, accuracy)\n",
    "run = Runner(cb_funcs=[cb1, cb2])\n",
    "\n",
    "run.fit(1, learn)"
   ]
  },
  {
   "cell_type": "code",
   "execution_count": 149,
   "metadata": {
    "colab": {
     "base_uri": "https://localhost:8080/",
     "height": 269
    },
    "colab_type": "code",
    "id": "Q5g05b7g3XTY",
    "outputId": "ad6cda27-b681-4943-f1d8-50711f02c2e3"
   },
   "outputs": [
    {
     "data": {
      "image/png": "[encoded data removed]",
      "text/plain": [
       "<Figure size 432x288 with 1 Axes>"
      ]
     },
     "metadata": {
      "needs_background": "light"
     },
     "output_type": "display_data"
    }
   ],
   "source": [
    "run.my_recorder.plot_lr()"
   ]
  },
  {
   "cell_type": "code",
   "execution_count": null,
   "metadata": {
    "colab": {},
    "colab_type": "code",
    "id": "CL30bmT530Zv"
   },
   "outputs": [],
   "source": []
  },
  {
   "cell_type": "markdown",
   "metadata": {
    "colab_type": "text",
    "id": "pRZGAVrO4YiI"
   },
   "source": [
    "## Learning rate - annealing"
   ]
  },
  {
   "cell_type": "code",
   "execution_count": 150,
   "metadata": {
    "colab": {
     "base_uri": "https://localhost:8080/",
     "height": 34
    },
    "colab_type": "code",
    "id": "FZQobJml4b8W",
    "outputId": "0103ef29-cf4d-4992-bb91-5e9fa8d9e8b3"
   },
   "outputs": [
    {
     "data": {
      "text/plain": [
       "1.3"
      ]
     },
     "execution_count": 150,
     "metadata": {},
     "output_type": "execute_result"
    }
   ],
   "source": [
    "def annealer(f):\n",
    "    def _inner(start, end): return partial(f, start, end)\n",
    "    return _inner\n",
    "\n",
    "@annealer\n",
    "def sched_lin(start, end, pos): \n",
    "  return start + pos*(end-start)\n",
    "\n",
    "@annealer\n",
    "def sched_no(start, end, pos):  return start\n",
    "\n",
    "@annealer\n",
    "def exp_decay(start,end,pos):\n",
    "  y = start * (end/start) ** pos\n",
    "  return y\n",
    "\n",
    "@annealer\n",
    "def sched_cos(start, end, pos): \n",
    "  return start + (1 + math.cos(math.pi*(1-pos))) * (end-start) / 2\n",
    "\n",
    "\n",
    "@annealer\n",
    "def sched_v_shape(start, end, pos):\n",
    "  if pos <= 0.5:\n",
    "    return end + (start*pos)\n",
    "  else:\n",
    "    return start + pos*(end-start)\n",
    "\n",
    "\n",
    "def randomify(x, pct=0.1):\n",
    "  return x + np.random.random(1)*0.1\n",
    "\n",
    "f = sched_lin(1,2)\n",
    "f(0.3)\n"
   ]
  },
  {
   "cell_type": "code",
   "execution_count": 154,
   "metadata": {
    "colab": {
     "base_uri": "https://localhost:8080/",
     "height": 414
    },
    "colab_type": "code",
    "id": "an41-wRx4jls",
    "outputId": "23b736a4-5718-487a-9e79-3c3b7f719fe7"
   },
   "outputs": [
    {
     "data": {
      "text/plain": [
       "<matplotlib.legend.Legend at 0x7f42e84c2e80>"
      ]
     },
     "execution_count": 154,
     "metadata": {},
     "output_type": "execute_result"
    },
    {
     "data": {
      "image/png": "[encoded data removed]",
      "text/plain": [
       "<Figure size 792x432 with 1 Axes>"
      ]
     },
     "metadata": {
      "needs_background": "light"
     },
     "output_type": "display_data"
    }
   ],
   "source": [
    "\n",
    "import numpy as np\n",
    "\n",
    "start =  2\n",
    "end = 1e-2\n",
    "\n",
    "po = np.linspace(0.01,1,100)\n",
    "X = np.arange(0,len(po))\n",
    "\n",
    "plt.figure(figsize=(11,6))\n",
    "for aneal_fn in [sched_lin, sched_no, sched_cos, exp_decay, sched_v_shape]:\n",
    "  f = aneal_fn(start, end)\n",
    "  func_name_tmp = aneal_fn.__closure__[0].cell_contents.__name__\n",
    "  plt.plot(X, [ f(item) for item in po], label= func_name_tmp )\n",
    "  plt.plot(X, [ randomify(f(item)) for item in po], label= f\"rand_{func_name_tmp}\" )\n",
    "plt.legend()"
   ]
  },
  {
   "cell_type": "code",
   "execution_count": 157,
   "metadata": {
    "colab": {},
    "colab_type": "code",
    "id": "gSWw_-AsBGjv"
   },
   "outputs": [],
   "source": [
    "# a = aneal_fn.__closure__[0].cell_contents.__name__"
   ]
  },
  {
   "cell_type": "code",
   "execution_count": 158,
   "metadata": {
    "colab": {
     "base_uri": "https://localhost:8080/",
     "height": 182
    },
    "colab_type": "code",
    "id": "2F0cBomPBi4T",
    "outputId": "020cf606-8569-41c9-8f05-7a394b20e43c"
   },
   "outputs": [],
   "source": [
    "# a.cell_contents.__name__"
   ]
  },
  {
   "cell_type": "code",
   "execution_count": 159,
   "metadata": {
    "colab": {
     "base_uri": "https://localhost:8080/",
     "height": 128
    },
    "colab_type": "code",
    "id": "xRwxD6ZR4nH1",
    "outputId": "2a803bf4-faef-40a3-d883-f26b7e9dd1c0"
   },
   "outputs": [],
   "source": [
    "@annealer\n",
    "def exp_decay(start,end,pos):\n",
    "  y = (start*end)**pos\n",
    "  return y"
   ]
  },
  {
   "cell_type": "markdown",
   "metadata": {
    "colab_type": "text",
    "id": "wTQeYg-n8Jrz"
   },
   "source": [
    "![https://slideplayer.com/slide/6377193/22/images/1/UNIT+5%3A+Exponential+Growth+%2F+Decay+Formula%3A.jpg](https://slideplayer.com/slide/6377193/22/images/1/UNIT+5%3A+Exponential+Growth+%2F+Decay+Formula%3A.jpg)"
   ]
  },
  {
   "cell_type": "code",
   "execution_count": 160,
   "metadata": {
    "colab": {},
    "colab_type": "code",
    "id": "-abEndvx5MgT"
   },
   "outputs": [],
   "source": [
    "@annealer\n",
    "def exp_decay(start,end,pos):\n",
    "  y = start * (end/start) ** pos\n",
    "  return y"
   ]
  },
  {
   "cell_type": "code",
   "execution_count": 161,
   "metadata": {
    "colab": {},
    "colab_type": "code",
    "id": "AH3mXgar8RLN"
   },
   "outputs": [],
   "source": [
    "# exp_test(1, 2, 0)"
   ]
  },
  {
   "cell_type": "code",
   "execution_count": 162,
   "metadata": {
    "colab": {},
    "colab_type": "code",
    "id": "KpKRymlw8W1C"
   },
   "outputs": [],
   "source": [
    "# exp_test(1, 2, 1)"
   ]
  },
  {
   "cell_type": "code",
   "execution_count": 163,
   "metadata": {
    "colab": {},
    "colab_type": "code",
    "id": "YTb8-Gih8aK3"
   },
   "outputs": [],
   "source": [
    "# exp_test(1, 2, 0.5)"
   ]
  },
  {
   "cell_type": "code",
   "execution_count": 164,
   "metadata": {
    "colab": {
     "base_uri": "https://localhost:8080/",
     "height": 34
    },
    "colab_type": "code",
    "id": "BBm_hW3V8bxN",
    "outputId": "7b7a2d54-437b-4c80-bd0b-e6993d279041"
   },
   "outputs": [
    {
     "data": {
      "text/plain": [
       "1.0"
      ]
     },
     "execution_count": 164,
     "metadata": {},
     "output_type": "execute_result"
    }
   ],
   "source": [
    "exp_decay(1,2)(0)"
   ]
  },
  {
   "cell_type": "code",
   "execution_count": 165,
   "metadata": {
    "colab": {
     "base_uri": "https://localhost:8080/",
     "height": 34
    },
    "colab_type": "code",
    "id": "FOMHWDyl8rP0",
    "outputId": "e803388d-ac86-4c23-efb2-c27940997453"
   },
   "outputs": [
    {
     "data": {
      "text/plain": [
       "2.0"
      ]
     },
     "execution_count": 165,
     "metadata": {},
     "output_type": "execute_result"
    }
   ],
   "source": [
    "exp_decay(1,2)(1)"
   ]
  },
  {
   "cell_type": "code",
   "execution_count": 166,
   "metadata": {
    "colab": {
     "base_uri": "https://localhost:8080/",
     "height": 34
    },
    "colab_type": "code",
    "id": "nVlYJk_o821V",
    "outputId": "c1752cd9-85c0-479f-9398-b9eb69476af9"
   },
   "outputs": [
    {
     "data": {
      "text/plain": [
       "2.0"
      ]
     },
     "execution_count": 166,
     "metadata": {},
     "output_type": "execute_result"
    }
   ],
   "source": [
    "exp_decay(2,1)(0)"
   ]
  },
  {
   "cell_type": "code",
   "execution_count": 167,
   "metadata": {
    "colab": {
     "base_uri": "https://localhost:8080/",
     "height": 34
    },
    "colab_type": "code",
    "id": "TjRzyWkt83k3",
    "outputId": "3409cc8c-98e9-4bba-fe92-66e864382540"
   },
   "outputs": [
    {
     "data": {
      "text/plain": [
       "1.0"
      ]
     },
     "execution_count": 167,
     "metadata": {},
     "output_type": "execute_result"
    }
   ],
   "source": [
    "exp_decay(2,1)(1)"
   ]
  },
  {
   "cell_type": "code",
   "execution_count": 168,
   "metadata": {
    "colab": {
     "base_uri": "https://localhost:8080/",
     "height": 34
    },
    "colab_type": "code",
    "id": "9K9w_7MH-BSU",
    "outputId": "e209bdf3-282e-4c6b-b7ca-0f6b0d794a68"
   },
   "outputs": [
    {
     "data": {
      "text/plain": [
       "1.4142135623730951"
      ]
     },
     "execution_count": 168,
     "metadata": {},
     "output_type": "execute_result"
    }
   ],
   "source": [
    "exp_decay(2,1)(0.5)"
   ]
  },
  {
   "cell_type": "code",
   "execution_count": 169,
   "metadata": {
    "colab": {},
    "colab_type": "code",
    "id": "UDukJ4w8-CSx"
   },
   "outputs": [],
   "source": [
    "class ParamScheduler(Callback):\n",
    "    _order=1\n",
    "    def __init__(self, pname, sched_func): \n",
    "      self.pname = pname\n",
    "      self.sched_func = sched_func\n",
    "\n",
    "    def set_param(self):\n",
    "        for pg in self.opt.param_groups:\n",
    "            pg[self.pname] = self.sched_func(self.n_epochs/self.epochs)\n",
    "            \n",
    "    def begin_batch(self): \n",
    "        if self.in_train: self.set_param()"
   ]
  },
  {
   "cell_type": "code",
   "execution_count": 170,
   "metadata": {
    "colab": {
     "base_uri": "https://localhost:8080/",
     "height": 773
    },
    "colab_type": "code",
    "id": "bEnLHBOoF18g",
    "outputId": "96d8f079-8ac9-4aa6-a603-971f46a1bd7d"
   },
   "outputs": [
    {
     "data": {
      "image/png": "[encoded data removed]",
      "text/plain": [
       "<Figure size 432x288 with 1 Axes>"
      ]
     },
     "metadata": {
      "needs_background": "light"
     },
     "output_type": "display_data"
    },
    {
     "data": {
      "image/png": "[encoded data removed]",
      "text/plain": [
       "<Figure size 432x288 with 1 Axes>"
      ]
     },
     "metadata": {
      "needs_background": "light"
     },
     "output_type": "display_data"
    },
    {
     "data": {
      "image/png": "[encoded data removed]",
      "text/plain": [
       "<Figure size 432x288 with 1 Axes>"
      ]
     },
     "metadata": {
      "needs_background": "light"
     },
     "output_type": "display_data"
    }
   ],
   "source": [
    "from functools import partial\n",
    "\n",
    "data = DataBunch(*get_dls(train_ds, valid_ds, bs), c)\n",
    "learn = Learner(*get_model(data), loss_func, data)\n",
    "\n",
    "# cb1 = partial(AvgStatsCallback, accuracy) # use partial if needed\n",
    "cb2 = partial(ParamScheduler, \"lr\", sched_cos(0.5, 0.001))\n",
    "cb1 = partial(MyRecorderCallback, accuracy)\n",
    "run = Runner(cb_funcs=[cb1, cb2])\n",
    "\n",
    "run.fit(3, learn)"
   ]
  },
  {
   "cell_type": "code",
   "execution_count": 171,
   "metadata": {
    "colab": {
     "base_uri": "https://localhost:8080/",
     "height": 269
    },
    "colab_type": "code",
    "id": "sllq85faF-t0",
    "outputId": "04ed0534-d835-4fff-8d6e-354b4a11fbdb"
   },
   "outputs": [
    {
     "data": {
      "image/png": "[encoded data removed]",
      "text/plain": [
       "<Figure size 432x288 with 1 Axes>"
      ]
     },
     "metadata": {
      "needs_background": "light"
     },
     "output_type": "display_data"
    }
   ],
   "source": [
    "run.my_recorder.plot_lr()"
   ]
  },
  {
   "cell_type": "markdown",
   "metadata": {
    "colab_type": "text",
    "id": "SDsSZ0xYG_Yk"
   },
   "source": []
  },
  {
   "cell_type": "code",
   "execution_count": 172,
   "metadata": {
    "colab": {},
    "colab_type": "code",
    "id": "yg1AfEbGGYmQ"
   },
   "outputs": [],
   "source": [
    "# sched = combine_scheds([0.3, 0.7], [sched_cos(0.3, 0.6), sched_cos(0.6, 0.2)]) \n",
    "\n",
    "def combine_scheds(pcts, scheds):\n",
    "    assert sum(pcts) == 1.\n",
    "    pcts = tensor([0] + listify(pcts))\n",
    "    assert torch.all(pcts >= 0)\n",
    "    pcts = torch.cumsum(pcts, 0)\n",
    "    def _inner(pos):\n",
    "        idx = (pos >= pcts).nonzero().max()\n",
    "        actual_pos = (pos-pcts[idx]) / (pcts[idx+1]-pcts[idx])\n",
    "        return scheds[idx](actual_pos)\n",
    "    return _inner\n",
    "  \n",
    "  \n",
    "sched = combine_scheds([0.3, 0.7], [sched_cos(0.3, 0.6), sched_cos(0.6, 0.2)]) "
   ]
  },
  {
   "cell_type": "code",
   "execution_count": 173,
   "metadata": {
    "colab": {
     "base_uri": "https://localhost:8080/",
     "height": 286
    },
    "colab_type": "code",
    "id": "BuqFSdEpHJhk",
    "outputId": "15e4b85f-f243-4e40-cc91-79ce8253ceee"
   },
   "outputs": [
    {
     "data": {
      "text/plain": [
       "[<matplotlib.lines.Line2D at 0x7f42e839a128>]"
      ]
     },
     "execution_count": 173,
     "metadata": {},
     "output_type": "execute_result"
    },
    {
     "data": {
      "image/png": "[encoded data removed]",
      "text/plain": [
       "<Figure size 432x288 with 1 Axes>"
      ]
     },
     "metadata": {
      "needs_background": "light"
     },
     "output_type": "display_data"
    }
   ],
   "source": [
    "torch.Tensor.ndim = property(lambda x: len(x.shape))\n",
    "a = torch.arange(0, 100)\n",
    "p = torch.linspace(0.01,1,100)\n",
    "plt.plot(a, [sched(o) for o in p])"
   ]
  },
  {
   "cell_type": "code",
   "execution_count": 174,
   "metadata": {
    "colab": {},
    "colab_type": "code",
    "id": "O7pQaaHKJ51u"
   },
   "outputs": [],
   "source": [
    "sched = combine_scheds([0.3, 0.7], [sched_cos(0.3, 0.6), sched_cos(0.6, 0.2)]) \n",
    "\n",
    "cbfs = [partial(Recorder),\n",
    "        partial(AvgStatsCallback,accuracy),\n",
    "        partial(ParamScheduler, 'lr', sched)]"
   ]
  },
  {
   "cell_type": "code",
   "execution_count": 175,
   "metadata": {
    "colab": {},
    "colab_type": "code",
    "id": "zGJtfXxkKahr"
   },
   "outputs": [],
   "source": [
    "learn = Learner(*get_model(data, 0.3), loss_func, data)\n",
    "run = Runner(cb_funcs=cbfs)"
   ]
  },
  {
   "cell_type": "code",
   "execution_count": 176,
   "metadata": {
    "colab": {
     "base_uri": "https://localhost:8080/",
     "height": 50
    },
    "colab_type": "code",
    "id": "XL4zypzZKeb_",
    "outputId": "514e6919-80f8-40aa-9358-be3c912dffb5"
   },
   "outputs": [
    {
     "name": "stdout",
     "output_type": "stream",
     "text": [
      "train: [0.3362979296875, tensor(0.8982)]\n",
      "valid: [0.14602745361328126, tensor(0.9581)]\n"
     ]
    }
   ],
   "source": [
    "run.fit(1, learn)"
   ]
  },
  {
   "cell_type": "code",
   "execution_count": 177,
   "metadata": {
    "colab": {
     "base_uri": "https://localhost:8080/",
     "height": 269
    },
    "colab_type": "code",
    "id": "OzxFyKSYLH-s",
    "outputId": "4334bc5d-c519-4625-d7c0-14067acb159a"
   },
   "outputs": [
    {
     "data": {
      "image/png": "[encoded data removed]",
      "text/plain": [
       "<Figure size 432x288 with 1 Axes>"
      ]
     },
     "metadata": {
      "needs_background": "light"
     },
     "output_type": "display_data"
    }
   ],
   "source": [
    "run.recorder.plot_lr()"
   ]
  },
  {
   "cell_type": "code",
   "execution_count": 178,
   "metadata": {
    "colab": {
     "base_uri": "https://localhost:8080/",
     "height": 269
    },
    "colab_type": "code",
    "id": "IzpYKe8ELQfW",
    "outputId": "1f2d9625-2acf-4fdc-9580-6d8c4d65a3b3"
   },
   "outputs": [
    {
     "data": {
      "image/png": "[encoded data removed]",
      "text/plain": [
       "<Figure size 432x288 with 1 Axes>"
      ]
     },
     "metadata": {
      "needs_background": "light"
     },
     "output_type": "display_data"
    }
   ],
   "source": [
    "run.recorder.plot_loss()"
   ]
  },
  {
   "cell_type": "code",
   "execution_count": 0,
   "metadata": {
    "colab": {},
    "colab_type": "code",
    "id": "IvzVc_BqZ5G6"
   },
   "outputs": [],
   "source": [
    "Runner"
   ]
  },
  {
   "cell_type": "code",
   "execution_count": 0,
   "metadata": {
    "colab": {},
    "colab_type": "code",
    "id": "B8OFQDXEZ6Xe"
   },
   "outputs": [],
   "source": [
    "## Early stopping\n",
    "\n",
    "#export"
   ]
  },
  {
   "cell_type": "markdown",
   "metadata": {
    "colab_type": "text",
    "id": "DPOGnM42eAZw"
   },
   "source": [
    "## Early stopping"
   ]
  },
  {
   "cell_type": "code",
   "execution_count": 179,
   "metadata": {
    "colab": {},
    "colab_type": "code",
    "id": "2kiaF-vjeDaF"
   },
   "outputs": [],
   "source": [
    "x_train,y_train,x_valid,y_valid = get_data()\n",
    "train_ds,valid_ds = Dataset(x_train, y_train),Dataset(x_valid, y_valid)\n",
    "nh,bs = 50,512\n",
    "c = y_train.max().item()+1\n",
    "loss_func = F.cross_entropy"
   ]
  },
  {
   "cell_type": "code",
   "execution_count": 180,
   "metadata": {
    "colab": {},
    "colab_type": "code",
    "id": "9BU4-EtkeDyM"
   },
   "outputs": [],
   "source": [
    "data = DataBunch(*get_dls(train_ds, valid_ds, bs), c)"
   ]
  },
  {
   "cell_type": "code",
   "execution_count": 181,
   "metadata": {
    "colab": {},
    "colab_type": "code",
    "id": "9_e3TVobeGJO"
   },
   "outputs": [],
   "source": [
    "#export\n",
    "class Callback():\n",
    "    _order=0\n",
    "    def set_runner(self, run): self.run=run\n",
    "    def __getattr__(self, k): return getattr(self.run, k)\n",
    "    \n",
    "    @property\n",
    "    def name(self):\n",
    "        name = re.sub(r'Callback$', '', self.__class__.__name__)\n",
    "        return camel2snake(name or 'callback')\n",
    "    \n",
    "    def __call__(self, cb_name):\n",
    "        f = getattr(self, cb_name, None)\n",
    "        if f and f(): return True\n",
    "        return False\n",
    "\n",
    "class TrainEvalCallback(Callback):\n",
    "    def begin_fit(self):\n",
    "        self.run.n_epochs=0.\n",
    "        self.run.n_iter=0\n",
    "    \n",
    "    def after_batch(self):\n",
    "        if not self.in_train: return\n",
    "        self.run.n_epochs += 1./self.iters\n",
    "        self.run.n_iter   += 1\n",
    "        \n",
    "    def begin_epoch(self):\n",
    "        self.run.n_epochs=self.epoch\n",
    "        self.model.train()\n",
    "        self.run.in_train=True\n",
    "\n",
    "    def begin_validate(self):\n",
    "        self.model.eval()\n",
    "        self.run.in_train=False\n",
    "\n",
    "class CancelTrainException(Exception): pass\n",
    "class CancelEpochException(Exception): pass\n",
    "class CancelBatchException(Exception): pass"
   ]
  },
  {
   "cell_type": "code",
   "execution_count": 182,
   "metadata": {
    "colab": {},
    "colab_type": "code",
    "id": "xJQwR1MheIHm"
   },
   "outputs": [],
   "source": [
    "#export\n",
    "class Runner():\n",
    "    def __init__(self, cbs=None, cb_funcs=None):\n",
    "        cbs = listify(cbs)\n",
    "        for cbf in listify(cb_funcs):\n",
    "            cb = cbf()\n",
    "            setattr(self, cb.name, cb)\n",
    "            cbs.append(cb)\n",
    "        self.stop,self.cbs = False,[TrainEvalCallback()]+cbs\n",
    "\n",
    "    @property\n",
    "    def opt(self):       return self.learn.opt\n",
    "    @property\n",
    "    def model(self):     return self.learn.model\n",
    "    @property\n",
    "    def loss_func(self): return self.learn.loss_func\n",
    "    @property\n",
    "    def data(self):      return self.learn.data\n",
    "\n",
    "    def one_batch(self, xb, yb):\n",
    "        try:\n",
    "            self.xb,self.yb = xb,yb\n",
    "            self('begin_batch')\n",
    "            self.pred = self.model(self.xb)\n",
    "            self('after_pred')\n",
    "            self.loss = self.loss_func(self.pred, self.yb)\n",
    "            self('after_loss')\n",
    "            if not self.in_train: return\n",
    "            self.loss.backward()\n",
    "            self('after_backward')\n",
    "            self.opt.step()\n",
    "            self('after_step')\n",
    "            self.opt.zero_grad()\n",
    "        except CancelBatchException: self('after_cancel_batch')\n",
    "        finally: self('after_batch')\n",
    "\n",
    "    def all_batches(self, dl):\n",
    "        self.iters = len(dl)\n",
    "        try:\n",
    "            for xb,yb in dl: self.one_batch(xb, yb)\n",
    "        except CancelEpochException: self('after_cancel_epoch')\n",
    "\n",
    "    def fit(self, epochs, learn):\n",
    "        self.epochs,self.learn,self.loss = epochs,learn,tensor(0.)\n",
    "\n",
    "        try:\n",
    "            for cb in self.cbs: cb.set_runner(self)\n",
    "            self('begin_fit')\n",
    "            for epoch in range(epochs):\n",
    "                self.epoch = epoch\n",
    "                if not self('begin_epoch'): self.all_batches(self.data.train_dl)\n",
    "\n",
    "                with torch.no_grad(): \n",
    "                    if not self('begin_validate'): self.all_batches(self.data.valid_dl)\n",
    "                self('after_epoch')\n",
    "            \n",
    "        except CancelTrainException: self('after_cancel_train')\n",
    "        finally:\n",
    "            self('after_fit')\n",
    "            self.learn = None\n",
    "\n",
    "    def __call__(self, cb_name):\n",
    "        res = False\n",
    "        for cb in sorted(self.cbs, key=lambda x: x._order): res = cb(cb_name) and res\n",
    "        return res"
   ]
  },
  {
   "cell_type": "code",
   "execution_count": 183,
   "metadata": {
    "colab": {},
    "colab_type": "code",
    "id": "KijTuQZ-eXpn"
   },
   "outputs": [],
   "source": [
    "def get_model_func(lr=0.5): return partial(get_model, lr=lr)\n",
    "\n",
    "def create_learner(model_func, loss_func, data):\n",
    "    return Learner(*model_func(data), loss_func, data)"
   ]
  },
  {
   "cell_type": "code",
   "execution_count": 184,
   "metadata": {
    "colab": {},
    "colab_type": "code",
    "id": "QJHmNxoMeUlY"
   },
   "outputs": [],
   "source": [
    "learn = create_learner(get_model, loss_func, data)"
   ]
  },
  {
   "cell_type": "code",
   "execution_count": 185,
   "metadata": {
    "colab": {},
    "colab_type": "code",
    "id": "VmWZvLRGe87L"
   },
   "outputs": [],
   "source": [
    "class TestCallback(Callback):\n",
    "    _order=1\n",
    "    def after_step(self):\n",
    "        print(self.n_iter)\n",
    "        if self.n_iter>=10: raise CancelTrainException()"
   ]
  },
  {
   "cell_type": "code",
   "execution_count": 186,
   "metadata": {
    "colab": {},
    "colab_type": "code",
    "id": "B_cR4kqBfExJ"
   },
   "outputs": [],
   "source": [
    "run  = Runner(cb_funcs=TestCallback)"
   ]
  },
  {
   "cell_type": "code",
   "execution_count": 187,
   "metadata": {
    "colab": {
     "base_uri": "https://localhost:8080/",
     "height": 202
    },
    "colab_type": "code",
    "id": "oNscvJynfJjy",
    "outputId": "2e23eb00-3451-45d6-e6ca-b8ef64e049f4"
   },
   "outputs": [
    {
     "name": "stdout",
     "output_type": "stream",
     "text": [
      "0\n",
      "1\n",
      "2\n",
      "3\n",
      "4\n",
      "5\n",
      "6\n",
      "7\n",
      "8\n",
      "9\n",
      "10\n"
     ]
    }
   ],
   "source": [
    "run.fit(3, learn)"
   ]
  },
  {
   "cell_type": "code",
   "execution_count": 188,
   "metadata": {
    "colab": {},
    "colab_type": "code",
    "id": "XQVuoASYfLI1"
   },
   "outputs": [],
   "source": [
    "#export\n",
    "class AvgStatsCallback(Callback):\n",
    "    def __init__(self, metrics):\n",
    "        self.train_stats,self.valid_stats = AvgStats(metrics,True),AvgStats(metrics,False)\n",
    "        \n",
    "    def begin_epoch(self):\n",
    "        self.train_stats.reset()\n",
    "        self.valid_stats.reset()\n",
    "        \n",
    "    def after_loss(self):\n",
    "        stats = self.train_stats if self.in_train else self.valid_stats\n",
    "        with torch.no_grad(): stats.accumulate(self.run)\n",
    "    \n",
    "    def after_epoch(self):\n",
    "        print(self.train_stats)\n",
    "        print(self.valid_stats)\n",
    "        \n",
    "class Recorder(Callback):\n",
    "    def begin_fit(self):\n",
    "        self.lrs = [[] for _ in self.opt.param_groups]\n",
    "        self.losses = []\n",
    "\n",
    "    def after_batch(self):\n",
    "        if not self.in_train: return\n",
    "        for pg,lr in zip(self.opt.param_groups,self.lrs): lr.append(pg['lr'])\n",
    "        self.losses.append(self.loss.detach().cpu())        \n",
    "\n",
    "    def plot_lr  (self, pgid=-1): plt.plot(self.lrs[pgid])\n",
    "    def plot_loss(self, skip_last=0): plt.plot(self.losses[:len(self.losses)-skip_last])\n",
    "        \n",
    "    def plot(self, skip_last=0, pgid=-1):\n",
    "        losses = [o.item() for o in self.losses]\n",
    "        lrs    = self.lrs[pgid]\n",
    "        n = len(losses)-skip_last\n",
    "        plt.xscale('log')\n",
    "        plt.plot(lrs[:n], losses[:n])\n",
    "\n",
    "class ParamScheduler(Callback):\n",
    "    _order=1\n",
    "    def __init__(self, pname, sched_funcs): self.pname,self.sched_funcs = pname,sched_funcs\n",
    "        \n",
    "    def begin_fit(self):\n",
    "        if not isinstance(self.sched_funcs, (list,tuple)):\n",
    "            self.sched_funcs = [self.sched_funcs] * len(self.opt.param_groups)\n",
    "\n",
    "    def set_param(self):\n",
    "        assert len(self.opt.param_groups)==len(self.sched_funcs)\n",
    "        for pg,f in zip(self.opt.param_groups,self.sched_funcs):\n",
    "            pg[self.pname] = f(self.n_epochs/self.epochs)\n",
    "            \n",
    "    def begin_batch(self): \n",
    "        if self.in_train: self.set_param()"
   ]
  },
  {
   "cell_type": "code",
   "execution_count": 189,
   "metadata": {
    "colab": {},
    "colab_type": "code",
    "id": "IieNzsuyfTIX"
   },
   "outputs": [],
   "source": [
    "class LR_Find(Callback):\n",
    "    _order=1\n",
    "    def __init__(self, max_iter=100, min_lr=1e-6, max_lr=10):\n",
    "        self.max_iter,self.min_lr,self.max_lr = max_iter,min_lr,max_lr\n",
    "        self.best_loss = 1e9\n",
    "        \n",
    "    def begin_batch(self): \n",
    "        if not self.in_train: return\n",
    "        pos = self.n_iter/self.max_iter\n",
    "        lr = self.min_lr * (self.max_lr/self.min_lr) ** pos\n",
    "        for pg in self.opt.param_groups: pg['lr'] = lr\n",
    "            \n",
    "    def after_step(self):\n",
    "        if self.n_iter>=self.max_iter or self.loss>self.best_loss*10:\n",
    "            raise CancelTrainException()\n",
    "        if self.loss < self.best_loss: self.best_loss = self.loss"
   ]
  },
  {
   "cell_type": "code",
   "execution_count": 190,
   "metadata": {
    "colab": {},
    "colab_type": "code",
    "id": "QXXQYYAjfimw"
   },
   "outputs": [],
   "source": [
    "learn = create_learner(get_model, loss_func, data)"
   ]
  },
  {
   "cell_type": "code",
   "execution_count": 191,
   "metadata": {
    "colab": {},
    "colab_type": "code",
    "id": "iWksvYbDfjDh"
   },
   "outputs": [],
   "source": [
    "run = Runner(cb_funcs=[LR_Find, Recorder])"
   ]
  },
  {
   "cell_type": "code",
   "execution_count": 192,
   "metadata": {
    "colab": {},
    "colab_type": "code",
    "id": "LiKChnQJfmVv"
   },
   "outputs": [],
   "source": [
    "run.fit(2, learn)"
   ]
  },
  {
   "cell_type": "code",
   "execution_count": 193,
   "metadata": {
    "colab": {
     "base_uri": "https://localhost:8080/",
     "height": 273
    },
    "colab_type": "code",
    "id": "9bH4KUoifow_",
    "outputId": "2b42b184-683b-4f25-eed4-6138f684dbad"
   },
   "outputs": [
    {
     "data": {
      "image/png": "[encoded data removed]",
      "text/plain": [
       "<Figure size 432x288 with 1 Axes>"
      ]
     },
     "metadata": {
      "needs_background": "light"
     },
     "output_type": "display_data"
    }
   ],
   "source": [
    "run.recorder.plot(skip_last=5)"
   ]
  },
  {
   "cell_type": "code",
   "execution_count": 194,
   "metadata": {
    "colab": {
     "base_uri": "https://localhost:8080/",
     "height": 269
    },
    "colab_type": "code",
    "id": "RaTh8H3MfrKc",
    "outputId": "2d2a0f9d-3968-4a95-9b96-f4e508cdaaa8"
   },
   "outputs": [
    {
     "data": {
      "image/png": "[encoded data removed]",
      "text/plain": [
       "<Figure size 432x288 with 1 Axes>"
      ]
     },
     "metadata": {
      "needs_background": "light"
     },
     "output_type": "display_data"
    }
   ],
   "source": [
    "run.recorder.plot_lr()"
   ]
  },
  {
   "cell_type": "code",
   "execution_count": 0,
   "metadata": {
    "colab": {},
    "colab_type": "code",
    "id": "9f3pkf_1f5lB"
   },
   "outputs": [],
   "source": []
  }
 ],
 "metadata": {
  "accelerator": "GPU",
  "colab": {
   "collapsed_sections": [],
   "name": "DataBunch Learner fit Callbacks.ipynb",
   "provenance": [],
   "version": "0.3.2"
  },
  "kernelspec": {
   "display_name": "Python 3",
   "language": "python",
   "name": "python3"
  },
  "language_info": {
   "codemirror_mode": {
    "name": "ipython",
    "version": 3
   },
   "file_extension": ".py",
   "mimetype": "text/x-python",
   "name": "python",
   "nbconvert_exporter": "python",
   "pygments_lexer": "ipython3",
   "version": "3.7.3"
  }
 },
 "nbformat": 4,
 "nbformat_minor": 1
}
