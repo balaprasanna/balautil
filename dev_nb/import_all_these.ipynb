{
 "cells": [
  {
   "cell_type": "code",
   "execution_count": null,
   "metadata": {},
   "outputs": [],
   "source": [
    "import io,operator,sys,os,re,os,mimetypes,csv,itertools,json,shutil,glob,pickle,tarfile,collections\n",
    "import hashlib,itertools,types,random,inspect,functools,random,time,math,bz2,types,typing,numbers,string\n",
    "import multiprocessing,threading,urllib,ipykernel\n",
    "\n",
    "from functools import partial,reduce\n",
    "from itertools import starmap,dropwhile,takewhile,zip_longest\n",
    "from copy import copy,deepcopy\n",
    "from multiprocessing import Lock,Process,Queue,queues\n",
    "from datetime import datetime\n",
    "from contextlib import redirect_stdout,contextmanager\n",
    "from typing import Iterable,Iterator,Generator,Callable,Sequence,List,Tuple,Union,Optional\n",
    "from types import SimpleNamespace\n",
    "from pathlib import Path\n",
    "from collections import OrderedDict,defaultdict,Counter,namedtuple\n",
    "from enum import Enum,IntEnum\n",
    "from warnings import warn\n",
    "from textwrap import TextWrapper\n",
    "from operator import itemgetter,attrgetter,methodcaller\n",
    "from notebook import notebookapp\n",
    "from urllib.request import urlopen\n",
    "\n",
    "# External modules\n",
    "import torch,matplotlib.pyplot as plt,numpy as np,pandas as pd,scipy\n",
    "import requests,yaml\n",
    "from typeguard import typechecked\n",
    "from fastprogress import progress_bar,master_bar\n",
    "from pandas.api.types import is_categorical_dtype,is_numeric_dtype\n",
    "\n",
    "from torch import as_tensor,Tensor,ByteTensor,LongTensor,FloatTensor,HalfTensor,DoubleTensor\n",
    "import torch.nn as nn\n",
    "import torch.nn.functional as F\n",
    "from torch.utils.data import SequentialSampler,RandomSampler,Sampler,BatchSampler\n",
    "from torch.utils.data import DataLoader,IterableDataset,get_worker_info\n",
    "from torch.utils.data._utils.collate import default_collate,default_convert\n",
    "from numpy import array,ndarray\n",
    "from IPython.core.debugger import set_trace\n",
    "\n",
    "try:\n",
    "    from types import WrapperDescriptorType,MethodWrapperType,MethodDescriptorType\n",
    "except ImportError:\n",
    "    WrapperDescriptorType = type(object.__init__)\n",
    "    MethodWrapperType = type(object().__str__)\n",
    "    MethodDescriptorType = type(str.join)\n",
    "from types import BuiltinFunctionType,BuiltinMethodType,MethodType,FunctionType\n",
    "\n",
    "pd.options.display.max_colwidth = 600\n",
    "NoneType = type(None)\n",
    "string_classes = (str,bytes)\n",
    "\n",
    "def is_iter(o):\n",
    "    \"Test whether `o` can be used in a `for` loop\"\n",
    "    #Rank 0 tensors in PyTorch are not really iterable\n",
    "    return isinstance(o, (Iterable,Generator)) and getattr(o,'ndim',1)\n",
    "\n",
    "def is_coll(o):\n",
    "    \"Test whether `o` is a collection (i.e. has a usable `len`)\"\n",
    "    #Rank 0 tensors in PyTorch do not have working `len`\n",
    "    return hasattr(o, '__len__') and getattr(o,'ndim',1)\n",
    "\n",
    "def all_equal(a,b):\n",
    "    \"Compares whether `a` and `b` are the same length and have the same contents\"\n",
    "    if not is_iter(b): return False\n",
    "    return all(equals(a_,b_) for a_,b_ in itertools.zip_longest(a,b))\n",
    "\n",
    "def equals(a,b):\n",
    "    \"Compares `a` and `b` for equality; supports sublists, tensors and arrays too\"\n",
    "    cmp = (torch.equal    if isinstance(a, Tensor    ) and a.dim() else\n",
    "           np.array_equal if isinstance(a, ndarray   ) else\n",
    "           operator.eq    if isinstance(a, (str,dict,set)) else\n",
    "           all_equal      if is_iter(a) else\n",
    "           operator.eq    if a.__eq__ != object.__eq__ else\n",
    "           operator.eq)\n",
    "    return cmp(a,b)\n",
    "\n",
    "def noop (x=None, *args, **kwargs):\n",
    "    \"Do nothing\"\n",
    "    return x\n",
    "\n",
    "def noops(self, x=None, *args, **kwargs):\n",
    "    \"Do nothing (method)\"\n",
    "    return x\n",
    "\n"
   ]
  },
  {
   "cell_type": "code",
   "execution_count": 5,
   "metadata": {},
   "outputs": [
    {
     "data": {
      "text/plain": [
       "<map at 0x7f3b40929438>"
      ]
     },
     "execution_count": 5,
     "metadata": {},
     "output_type": "execute_result"
    }
   ],
   "source": [
    "def transform(x):\n",
    "    return f\"import {x}\"\n",
    "\n",
    "map(transform , \"io,operator,sys,os,re,os,mimetypes,csv,itertools,json,shutil,glob,pickle,tarfile,collections\".split(\",\"))"
   ]
  },
  {
   "cell_type": "code",
   "execution_count": null,
   "metadata": {},
   "outputs": [],
   "source": []
  }
 ],
 "metadata": {
  "kernelspec": {
   "display_name": "Python 3",
   "language": "python",
   "name": "python3"
  },
  "language_info": {
   "codemirror_mode": {
    "name": "ipython",
    "version": 3
   },
   "file_extension": ".py",
   "mimetype": "text/x-python",
   "name": "python",
   "nbconvert_exporter": "python",
   "pygments_lexer": "ipython3",
   "version": "3.7.3"
  }
 },
 "nbformat": 4,
 "nbformat_minor": 2
}
